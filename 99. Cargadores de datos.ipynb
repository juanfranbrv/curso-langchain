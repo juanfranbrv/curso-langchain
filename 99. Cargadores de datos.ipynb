{
  "cells": [
    {
      "cell_type": "markdown",
      "metadata": {
        "id": "view-in-github",
        "colab_type": "text"
      },
      "source": [
        "<a href=\"https://colab.research.google.com/github/juanfranbrv/curso-langchain/blob/main/99.%20Cargadores%20de%20datos.ipynb\" target=\"_parent\"><img src=\"https://colab.research.google.com/assets/colab-badge.svg\" alt=\"Open In Colab\"/></a>"
      ]
    },
    {
      "cell_type": "markdown",
      "source": [
        "# **0. Preparando el entorno del cuaderno**\n",
        "---\n",
        "Configuramos el entorno de trabajo para utilizar LangChain con distintos modelos de lenguaje (LLMs).\n",
        "\n",
        "- Obtenemos las claves API para acceder a los servicios de OpenAI, Groq, Google y Hugging Face.\n",
        "\n",
        "- Instalamos la librería LangChain y las integraciones necesarias para cada uno de estos proveedores.\n",
        "\n",
        "- Importamos las clases específicas de LangChain que permiten crear plantillas de prompts e interactuar con los diferentes modelos de lenguaje, dejándolo todo listo para empezar a desarrollar aplicaciones basadas en LLMs. (Este codigo se explico con detalle en el primer cuaderno)\n",
        "\n",
        "Comenta (#) las librerias y modelos que no desees usar."
      ],
      "metadata": {
        "id": "cvW7RJJjdTi1"
      }
    },
    {
      "cell_type": "code",
      "source": [
        "%%capture --no-stderr\n",
        "\n",
        "# Importar la librería `userdata` de Google Colab.\n",
        "# Esta librería se utiliza para acceder a datos de usuario almacenados de forma segura en el entorno de Colab.\n",
        "from google.colab import userdata\n",
        "\n",
        "# Obtener las claves API de diferentes servicios desde el almacenamiento seguro de Colab.\n",
        "OPENAI_API_KEY=userdata.get('OPENAI_API_KEY')\n",
        "GROQ_API_KEY=userdata.get('GROQ_API_KEY')\n",
        "GOOGLE_API_KEY=userdata.get('GOOGLE_API_KEY')\n",
        "HUGGINGFACEHUB_API_TOKEN=userdata.get('HUGGINGFACEHUB_API_TOKEN')\n",
        "\n",
        "# Instalar las librerías necesarias usando pip.\n",
        "# El flag `-qU` instala en modo silencioso (`-q`) y actualiza las librerías si ya están instaladas (`-U`).\n",
        "%pip install langchain -qU  # Instalar la librería principal de LangChain.\n",
        "%pip install langchain-community  -qU # Instalar el paquete langchain-community, necesario para los Loaders\n",
        "\n",
        "# Instalar las integraciones de LangChain con diferentes proveedores de LLMs.\n",
        "%pip install langchain-openai -qU\n",
        "%pip install langchain-groq -qU\n",
        "%pip install langchain-google-genai -qU\n",
        "%pip install langchain-huggingface -qU\n",
        "\n",
        "%pip install rich -qU\n",
        "\n",
        "# Importar las clases necesarias de LangChain para crear plantillas de prompt.\n",
        "# `ChatPromptTemplate` es la clase base para plantillas de chat.\n",
        "# `SystemMessagePromptTemplate` se usa para mensajes del sistema (instrucciones iniciales).\n",
        "# `HumanMessagePromptTemplate` se usa para mensajes del usuario.\n",
        "from langchain.prompts import PromptTemplate, ChatPromptTemplate, SystemMessagePromptTemplate, HumanMessagePromptTemplate\n",
        "\n",
        "# Importar las clases para interactuar con los diferentes LLMs a través de LangChain.\n",
        "from langchain_openai import ChatOpenAI\n",
        "from langchain_groq import ChatGroq\n",
        "from langchain_google_genai import ChatGoogleGenerativeAI\n",
        "from langchain_huggingface import HuggingFaceEndpoint\n",
        "\n",
        "# Importamos la libreria para formatear mejor la salida\n",
        "from IPython.display import Markdown, display\n",
        "from rich import print as rprint"
      ],
      "metadata": {
        "id": "3sPMCzq6dtA2"
      },
      "execution_count": 2,
      "outputs": []
    },
    {
      "cell_type": "markdown",
      "source": [
        "# **1. Poner los ficheros en el entorno del cuaderno**\n",
        "---\n",
        "\n",
        "Para los siguientes ejemplos vamos a cargar varios ficheros desde el repositorio de los cuadernos\n",
        "\n",
        "https://github.com/juanfranbrv/curso-langchain\n",
        "\n",
        "Si deseas usar tu propios ficheros, solo tienes que subirlos al entorno del cuaderno aunque desapareceran al reiniciar el entorno.\n",
        "\n",
        "![image.png](data:image/png;base64,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)"
      ],
      "metadata": {
        "id": "X4dV0NhBamAD"
      }
    },
    {
      "cell_type": "code",
      "source": [
        "!wget https://raw.githubusercontent.com/juanfranbrv/curso-langchain/main/datasets/datos.csv -O datos.csv\n",
        "!wget https://raw.githubusercontent.com/juanfranbrv/curso-langchain/main/datasets/fichero.txt -O fichero.txt"
      ],
      "metadata": {
        "id": "tUDABLwBaSud",
        "outputId": "401d6161-8466-4676-c37f-d224b1c000fe",
        "colab": {
          "base_uri": "https://localhost:8080/"
        }
      },
      "execution_count": 6,
      "outputs": [
        {
          "output_type": "stream",
          "name": "stdout",
          "text": [
            "--2025-03-24 09:19:41--  https://raw.githubusercontent.com/juanfranbrv/curso-langchain/main/datasets/datos.csv\n",
            "Resolving raw.githubusercontent.com (raw.githubusercontent.com)... 185.199.111.133, 185.199.108.133, 185.199.110.133, ...\n",
            "Connecting to raw.githubusercontent.com (raw.githubusercontent.com)|185.199.111.133|:443... connected.\n",
            "HTTP request sent, awaiting response... 200 OK\n",
            "Length: 1493 (1.5K) [text/plain]\n",
            "Saving to: ‘datos.csv’\n",
            "\n",
            "\rdatos.csv             0%[                    ]       0  --.-KB/s               \rdatos.csv           100%[===================>]   1.46K  --.-KB/s    in 0s      \n",
            "\n",
            "2025-03-24 09:19:41 (17.4 MB/s) - ‘datos.csv’ saved [1493/1493]\n",
            "\n",
            "--2025-03-24 09:19:41--  https://raw.githubusercontent.com/juanfranbrv/curso-langchain/main/datasets/fichero.txt\n",
            "Resolving raw.githubusercontent.com (raw.githubusercontent.com)... 185.199.108.133, 185.199.109.133, 185.199.110.133, ...\n",
            "Connecting to raw.githubusercontent.com (raw.githubusercontent.com)|185.199.108.133|:443... connected.\n",
            "HTTP request sent, awaiting response... 200 OK\n",
            "Length: 7487 (7.3K) [text/plain]\n",
            "Saving to: ‘fichero.txt’\n",
            "\n",
            "fichero.txt         100%[===================>]   7.31K  --.-KB/s    in 0.001s  \n",
            "\n",
            "2025-03-24 09:19:41 (12.4 MB/s) - ‘fichero.txt’ saved [7487/7487]\n",
            "\n"
          ]
        }
      ]
    },
    {
      "cell_type": "markdown",
      "source": [
        "# **1. Documents Loaders en LangChain: La Puerta de Entrada a la Información**\n",
        "---\n",
        "\n",
        "Los modelos de lenguaje son poderosos, pero necesitan datos para trabajar. Aquí es donde entran en juego los Data Loaders. Piensa en ellos como los \"cargadores\" que toman información de diferentes lugares (documentos PDF, páginas web, bases de datos, etc.) y la preparan para que el modelo de lenguaje pueda entenderla y utilizarla.\n",
        "\n",
        "## **¿Para qué sirven y por qué son importantes?**\n",
        "\n",
        "- **Extracción:** Los Documents Loaders extraen la información relevante de diversas fuentes, sin importar su formato original.\n",
        "    \n",
        "- **Preparación:** Transforman esa información en un formato que los modelos de lenguaje pueden procesar (generalmente, texto plano).\n",
        "    \n",
        "- **Eficiencia:** Hacen todo esto de manera eficiente, lo que te permite alimentar a tus modelos con grandes cantidades de datos sin complicaciones.\n",
        "    \n",
        "- **Simplifican el acceso a los datos:** Ya no tienes que preocuparte por escribir código complejo para extraer información de cada tipo de archivo.\n",
        "    \n",
        "- **Permiten la escalabilidad:** Puedes procesar grandes volúmenes de datos para entrenar o interactuar con modelos de lenguaje más potentes.\n",
        "    \n",
        "- **Son el primer paso de un proceso:** Los datos limpios y bien estructurados son el comienzo de cualquier proyecto con LLM.\n",
        "    \n",
        "\n",
        "En este Colab, exploraremos cómo usar los Documents Loaders de LangChain para cargar y preparar datos de diferentes fuentes, ¡y así dar rienda suelta al poder de los modelos de lenguaje!\n",
        "\n"
      ],
      "metadata": {
        "id": "UJuGPKevamum"
      }
    },
    {
      "cell_type": "markdown",
      "source": [
        "# **2. Tipos de Documents Loaders en LangChain**\n",
        "---\n",
        "\n",
        "LangChain ofrece una variedad de loaders para trabajar con diferentes tipos de fuentes de datos (archivos locales, páginas web, servicios en la nube, etc.). Cada uno tiene sus particularidades y ventajas, permitiéndote elegir el mejor para tu proyecto y asegurando que solo la información más relevante alimente tus flujos de trabajo.\n",
        "\n",
        "Algunos importantes son los siguientes:\n",
        "\n",
        "-   **Cargadores para archivos locales**\n",
        "    -   _TextLoader_: para archivos .txt.\n",
        "    -   _CSVLoader_: para archivos .csv.\n",
        "    -   _PDFLoader_: para documentos en PDF (con dependencias como `PyPDF2` o `pdfminer`).\n",
        "    -   _UnstructuredFileLoader_: para distintos tipos de archivos basados en librerías “unstructured”.\n",
        "-   **Cargadores para fuentes web**\n",
        "    -   _WebBaseLoader_: para extraer texto desde páginas web.\n",
        "    -   _URLsLoader_: para múltiples URLs de forma simultánea.\n",
        "    -   Consideraciones sobre rate-limiting, HTML parsing, etc.\n",
        "-   **Cargadores para APIs o servicios en la nube**\n",
        "    -   _GoogleDriveLoader_: lectura de documentos en Google Drive.\n",
        "    -   _S3Loader_ (Amazon): acceso a buckets S3.\n",
        "    -   _OneDriveLoader_: conexión con Microsoft OneDrive.\n",
        "    -   Factores de autenticación y permisos.\n",
        "-   **Cargadores especializados**\n",
        "    -   _YouTubeLoader_: extracción de transcripciones de videos de YouTube.\n",
        "    -   _EverNoteLoader_, _NotionLoader_, etc., dependiendo de integraciones específicas.\n",
        "    -   Cargadores basados en servicios de bases de datos (por ejemplo, MySQL, PostgreSQL).\n",
        "\n",
        "Aquí puedes encontrar todos: https://python.langchain.com/docs/integrations/document_loaders/"
      ],
      "metadata": {
        "id": "jKwIMIHibQkY"
      }
    },
    {
      "cell_type": "markdown",
      "source": [
        "#**3. Flujo de trabajo básico con Document Loaders**\n",
        "---\n",
        "La idea principal es elegir el loader adecuado para tu fuente de datos (archivos, web, API), configurarlo con las librerías necesarias y ejecutar la extracción de información. Tras obtener el contenido, se pueden aplicar pasos como chunking, limpieza de texto y enriquecimiento de metadatos, antes de utilizarlo en cadenas o modelos dentro de LangChain.\n",
        "\n",
        "Vamos a ver algunos ejemplos."
      ],
      "metadata": {
        "id": "wZmfpIemcZ8k"
      }
    },
    {
      "cell_type": "markdown",
      "source": [
        "# **TextLoader**\n",
        "---\n",
        "TextLoader es un documento loader (cargador de documentos) de LangChain que permite cargar archivos de texto plano en documentos que pueden ser procesados posteriormente. Sus características principales son:\n",
        "\n",
        "- Carga archivos de texto directamente desde el sistema de archivos  \n",
        "\n",
        "- Convierte el contenido del archivo en un objeto Document de LangChain\n",
        "\n",
        "- Permite especificar la codificación del archivo (por defecto usa UTF-8)\n",
        "\n",
        "`documentos = loader.load() `\n",
        "\n",
        "Aquí es donde ocurre la magia. El método load() hace lo siguiente:\n",
        "\n",
        "- Lee el contenido del archivo de texto.\n",
        "    \n",
        "- Crea un objeto Document de LangChain. Un Document es una estructura de datos simple que contiene:\n",
        "    \n",
        "    - page\\_content: El texto del documento (en este caso, el contenido del archivo).\n",
        "        \n",
        "    - metadata: Un diccionario con metadatos sobre el documento (opcional). Por defecto, TextLoader incluye el nombre del archivo en los metadatos (source).\n",
        "        \n",
        "    \n",
        "- Devuelve una lista de objetos Document. Aunque en este caso solo cargamos un archivo, load() siempre devuelve una lista, porque algunos cargadores pueden dividir un solo archivo en múltiples documentos (por ejemplo, un PDF se puede dividir por páginas).\n"
      ],
      "metadata": {
        "id": "G83FEGqHcwTp"
      }
    },
    {
      "cell_type": "markdown",
      "source": [
        "## **🧪 Ejemplo: Resumen de un texto**"
      ],
      "metadata": {
        "id": "aBA4rtd2hnPk"
      }
    },
    {
      "cell_type": "code",
      "source": [
        "from langchain.document_loaders import TextLoader\n",
        "\n",
        "# Cargamos el contenido de un archivo de texto\n",
        "ruta_fichero = \"/content/fichero.txt\"  # Ajusta la ruta según tu caso\n",
        "loader = TextLoader(ruta_fichero)\n",
        "documentos = loader.load()\n",
        "\n",
        "print(f\"Se han cargado {len(documentos)} documento(s).\")\n",
        "# if documentos:\n",
        "#     print(\"Primer documento - Metadatos:\", documentos[0].metadata)\n",
        "#     print(\"Primer documento - Contenido (primeros 200 caracteres):\")\n",
        "#     print(documentos[0].page_content[:200], \"...\")\n",
        "\n",
        "# Tomamos el texto cargado como 'contexto_texto'\n",
        "contexto_texto = documentos[0].page_content if documentos else \"Sin contenido\"\n",
        "\n",
        "# Definimos un prompt para resumir el contenido\n",
        "texto_prompt = \"\"\"\n",
        "El siguiente texto proviene de un archivo local:\n",
        "\n",
        "\"{texto}\"\n",
        "\n",
        "Por favor, elabora un resumen breve (no más de 3 líneas) que capture\n",
        "las ideas principales del contenido anterior.\n",
        "\"\"\"\n",
        "\n",
        "prompt_template = PromptTemplate(\n",
        "    template=texto_prompt,\n",
        "    input_variables=[\"texto\"]\n",
        ")\n",
        "\n",
        "# Generamos el prompt usando el texto cargado\n",
        "prompt = prompt_template.format(texto=contexto_texto)\n",
        "\n",
        "\n",
        "# Instanciamos el modelo (comenta el que no desees usar)\n",
        "modelo = ChatOpenAI(model=\"gpt-4o-mini\", api_key=OPENAI_API_KEY, temperature=0)\n",
        "modelo = ChatGroq(model=\"llama-3.3-70b-versatile\", api_key=GROQ_API_KEY,temperature=0)\n",
        "\n",
        "# Hacemos la llamada al LLM para obtener el resumen\n",
        "respuesta = modelo.invoke(prompt).content\n",
        "\n",
        "rprint(respuesta)"
      ],
      "metadata": {
        "id": "NuFm4E49e8Aw",
        "outputId": "dec98d8a-058d-46f7-95aa-6216467e5738",
        "colab": {
          "base_uri": "https://localhost:8080/",
          "height": 166
        }
      },
      "execution_count": 8,
      "outputs": [
        {
          "output_type": "stream",
          "name": "stdout",
          "text": [
            "Se han cargado 1 documento(s).\n"
          ]
        },
        {
          "output_type": "display_data",
          "data": {
            "text/plain": [
              "<IPython.core.display.Markdown object>"
            ],
            "text/markdown": "Python es un lenguaje de programación de alto nivel y multiparadigma creado por Guido van Rossum en la década de 1980. Ha evolucionado a lo largo de los años, con versiones como Python 2.0 y Python 3.5, y se utiliza en campos como la inteligencia artificial y el machine learning. Su filosofía se centra en la legibilidad y la facilidad de uso."
          },
          "metadata": {}
        },
        {
          "output_type": "display_data",
          "data": {
            "text/plain": [
              "Python es un lenguaje de programación de alto nivel y multiparadigma creado por Guido van Rossum en la década de \n",
              "\u001b[1;36m1980\u001b[0m. Ha evolucionado a lo largo de los años, con versiones como Python \u001b[1;36m2.0\u001b[0m y Python \u001b[1;36m3.5\u001b[0m, y se utiliza en campos \n",
              "como la inteligencia artificial y el machine learning. Su filosofía se centra en la legibilidad y la facilidad de \n",
              "uso.\n"
            ],
            "text/html": [
              "<pre style=\"white-space:pre;overflow-x:auto;line-height:normal;font-family:Menlo,'DejaVu Sans Mono',consolas,'Courier New',monospace\">Python es un lenguaje de programación de alto nivel y multiparadigma creado por Guido van Rossum en la década de \n",
              "<span style=\"color: #008080; text-decoration-color: #008080; font-weight: bold\">1980</span>. Ha evolucionado a lo largo de los años, con versiones como Python <span style=\"color: #008080; text-decoration-color: #008080; font-weight: bold\">2.0</span> y Python <span style=\"color: #008080; text-decoration-color: #008080; font-weight: bold\">3.5</span>, y se utiliza en campos \n",
              "como la inteligencia artificial y el machine learning. Su filosofía se centra en la legibilidad y la facilidad de \n",
              "uso.\n",
              "</pre>\n"
            ]
          },
          "metadata": {}
        }
      ]
    },
    {
      "cell_type": "markdown",
      "source": [
        "## **🧪 Ejemplo: Análisis de un log**\n",
        "\n",
        "Tenemos un fichero de registro de un servidor y queremos realizar un analisis preliminar"
      ],
      "metadata": {
        "id": "n0MByjMvj0w2"
      }
    },
    {
      "cell_type": "code",
      "source": [
        "!wget https://raw.githubusercontent.com/juanfranbrv/curso-langchain/refs/heads/main/datasets/mail.log -O mail.log\n",
        "\n",
        "\n",
        "from langchain.document_loaders import TextLoader\n",
        "\n",
        "# Cargamos el contenido de un archivo de texto\n",
        "ruta_fichero = \"/content/mail.log\"  # Ajusta la ruta según tu caso\n",
        "loader = TextLoader(ruta_fichero)\n",
        "documentos = loader.load()\n",
        "\n",
        "print(f\"Se han cargado {len(documentos)} documento(s).\")\n",
        "# if documentos:\n",
        "#     print(\"Primer documento - Metadatos:\", documentos[0].metadata)\n",
        "#     print(\"Primer documento - Contenido (primeros 200 caracteres):\")\n",
        "#     print(documentos[0].page_content[:200], \"...\")\n",
        "\n",
        "# Tomamos el texto cargado como 'contexto_texto'\n",
        "contexto_texto = documentos[0].page_content if documentos else \"Sin contenido\"\n",
        "\n",
        "# Definimos un prompt para resumir el contenido\n",
        "texto_prompt = \"\"\"\n",
        "El siguiente texto proviene del registro del servidor de corre:\n",
        "\n",
        "\"{texto}\"\n",
        "\n",
        "Realiza un resumen y analisis preliminar del contenido anterior.\n",
        "\"\"\"\n",
        "\n",
        "prompt_template = PromptTemplate(\n",
        "    template=texto_prompt,\n",
        "    input_variables=[\"texto\"]\n",
        ")\n",
        "\n",
        "# Generamos el prompt usando el texto cargado\n",
        "prompt = prompt_template.format(texto=contexto_texto)\n",
        "\n",
        "\n",
        "# Instanciamos el modelo (comenta el que no desees usar)\n",
        "modelo = ChatOpenAI(model=\"gpt-4o-mini\", api_key=OPENAI_API_KEY, temperature=0)\n",
        "# modelo = ChatGroq(model=\"llama-3.3-70b-versatile\", api_key=GROQ_API_KEY,temperature=0)\n",
        "\n",
        "# Hacemos la llamada al LLM para obtener el resumen\n",
        "respuesta = modelo.invoke(prompt).content\n",
        "\n",
        "rprint(respuesta)"
      ],
      "metadata": {
        "id": "kdmfYcN6kTGi",
        "outputId": "e9a32e0d-f1de-4204-8f45-b3b371dcf283",
        "colab": {
          "base_uri": "https://localhost:8080/",
          "height": 1000
        }
      },
      "execution_count": 14,
      "outputs": [
        {
          "output_type": "stream",
          "name": "stdout",
          "text": [
            "--2025-03-24 10:23:09--  https://raw.githubusercontent.com/juanfranbrv/curso-langchain/refs/heads/main/datasets/mail.log\n",
            "Resolving raw.githubusercontent.com (raw.githubusercontent.com)... 185.199.108.133, 185.199.109.133, 185.199.110.133, ...\n",
            "Connecting to raw.githubusercontent.com (raw.githubusercontent.com)|185.199.108.133|:443... connected.\n",
            "HTTP request sent, awaiting response... 200 OK\n",
            "Length: 60674 (59K) [text/plain]\n",
            "Saving to: ‘mail.log’\n",
            "\n",
            "\rmail.log              0%[                    ]       0  --.-KB/s               \rmail.log            100%[===================>]  59.25K  --.-KB/s    in 0.01s   \n",
            "\n",
            "2025-03-24 10:23:09 (4.21 MB/s) - ‘mail.log’ saved [60674/60674]\n",
            "\n",
            "Se han cargado 1 documento(s).\n"
          ]
        },
        {
          "output_type": "display_data",
          "data": {
            "text/plain": [
              "El texto proporcionado es un registro de actividad del servidor de correo, específicamente de la biblioteca \n",
              "PHPMailer utilizada en un sitio web de WordPress. A continuación, se presenta un resumen y análisis preliminar del \n",
              "contenido:\n",
              "\n",
              "### Resumen del Contenido\n",
              "\n",
              "\u001b[1;36m1\u001b[0m. **Fechas y Tiempos**: Los registros abarcan desde el \u001b[1;36m14\u001b[0m de febrero de \u001b[1;36m2025\u001b[0m hasta el \u001b[1;36m20\u001b[0m de febrero de \u001b[1;36m2025\u001b[0m, con \n",
              "múltiples entradas por día.\n",
              "\n",
              "\u001b[1;36m2\u001b[0m. **Destinatarios**: La mayoría de los correos se envían a la dirección `taller@trtautomoviles.es` y \n",
              "`info@elserralet.com`, así como a `juanfranbrv@gmail.com`, que parece ser un destinatario recurrente.\n",
              "\n",
              "\u001b[1;36m3\u001b[0m. **Asuntos de los Correos**: Los asuntos de los correos son variados, incluyendo:\n",
              "   - Mensajes desde formularios de contacto en la web.\n",
              "   - Alertas de seguridad de Wordfence y Sucuri.\n",
              "   - Notificaciones de pedidos realizados en tiendas en línea.\n",
              "   - Mensajes de spam o publicidad, como \u001b[32m\"loli porn\"\u001b[0m y otros temas no deseados.\n",
              "\n",
              "\u001b[1;36m4\u001b[0m. **Remitentes**: Los correos son enviados principalmente desde direcciones de WordPress asociadas a los dominios \n",
              "mencionados, pero también incluyen direcciones de correo de remitentes externos, lo que sugiere que algunos correos\n",
              "pueden ser generados por formularios de contacto.\n",
              "\n",
              "\u001b[1;36m5\u001b[0m. **Contenido de los Correos**: Aunque el contenido específico de los correos no se muestra en el registro, se \n",
              "puede inferir que muchos de ellos son respuestas automáticas a formularios de contacto, así como alertas de \n",
              "seguridad.\n",
              "\n",
              "### Análisis Preliminar\n",
              "\n",
              "\u001b[1;36m1\u001b[0m. **Frecuencia de Correos**: Hay una alta frecuencia de correos enviados, lo que podría indicar un uso activo del \n",
              "sitio web, pero también podría ser un signo de actividad sospechosa, especialmente si muchos de los correos son \n",
              "spam.\n",
              "\n",
              "\u001b[1;36m2\u001b[0m. **Problemas de Seguridad**: La presencia de múltiples alertas de Sucuri y Wordfence sugiere que el sitio web \n",
              "podría estar enfrentando problemas de seguridad, como intentos de acceso no autorizados o vulnerabilidades.\n",
              "\n",
              "\u001b[1;36m3\u001b[0m. **Spam y Publicidad**: La inclusión de correos con contenido de spam indica que el sitio web podría estar \n",
              "expuesto a ataques de spam, lo que podría afectar la reputación del dominio y la experiencia del usuario.\n",
              "\n",
              "\u001b[1;36m4\u001b[0m. **Necesidad de Filtrado**: Dada la cantidad de correos no deseados, sería recomendable implementar medidas de \n",
              "filtrado más estrictas en los formularios de contacto y en el servidor de correo para reducir el spam.\n",
              "\n",
              "\u001b[1;36m5\u001b[0m. **Revisión de Seguridad**: Se sugiere realizar una revisión exhaustiva de la seguridad del sitio web, incluyendo\n",
              "la actualización de plugins, la implementación de medidas de seguridad adicionales y la revisión de los registros \n",
              "de acceso para identificar posibles brechas.\n",
              "\n",
              "### Conclusión\n",
              "\n",
              "El registro del servidor de correo revela una actividad intensa y variada, con un enfoque en la comunicación a \n",
              "través de formularios de contacto y alertas de seguridad. Sin embargo, también destaca la necesidad de abordar \n",
              "problemas de seguridad y spam para proteger la integridad del sitio web y mejorar la experiencia del usuario.\n"
            ],
            "text/html": [
              "<pre style=\"white-space:pre;overflow-x:auto;line-height:normal;font-family:Menlo,'DejaVu Sans Mono',consolas,'Courier New',monospace\">El texto proporcionado es un registro de actividad del servidor de correo, específicamente de la biblioteca \n",
              "PHPMailer utilizada en un sitio web de WordPress. A continuación, se presenta un resumen y análisis preliminar del \n",
              "contenido:\n",
              "\n",
              "### Resumen del Contenido\n",
              "\n",
              "<span style=\"color: #008080; text-decoration-color: #008080; font-weight: bold\">1</span>. **Fechas y Tiempos**: Los registros abarcan desde el <span style=\"color: #008080; text-decoration-color: #008080; font-weight: bold\">14</span> de febrero de <span style=\"color: #008080; text-decoration-color: #008080; font-weight: bold\">2025</span> hasta el <span style=\"color: #008080; text-decoration-color: #008080; font-weight: bold\">20</span> de febrero de <span style=\"color: #008080; text-decoration-color: #008080; font-weight: bold\">2025</span>, con \n",
              "múltiples entradas por día.\n",
              "\n",
              "<span style=\"color: #008080; text-decoration-color: #008080; font-weight: bold\">2</span>. **Destinatarios**: La mayoría de los correos se envían a la dirección `taller@trtautomoviles.es` y \n",
              "`info@elserralet.com`, así como a `juanfranbrv@gmail.com`, que parece ser un destinatario recurrente.\n",
              "\n",
              "<span style=\"color: #008080; text-decoration-color: #008080; font-weight: bold\">3</span>. **Asuntos de los Correos**: Los asuntos de los correos son variados, incluyendo:\n",
              "   - Mensajes desde formularios de contacto en la web.\n",
              "   - Alertas de seguridad de Wordfence y Sucuri.\n",
              "   - Notificaciones de pedidos realizados en tiendas en línea.\n",
              "   - Mensajes de spam o publicidad, como <span style=\"color: #008000; text-decoration-color: #008000\">\"loli porn\"</span> y otros temas no deseados.\n",
              "\n",
              "<span style=\"color: #008080; text-decoration-color: #008080; font-weight: bold\">4</span>. **Remitentes**: Los correos son enviados principalmente desde direcciones de WordPress asociadas a los dominios \n",
              "mencionados, pero también incluyen direcciones de correo de remitentes externos, lo que sugiere que algunos correos\n",
              "pueden ser generados por formularios de contacto.\n",
              "\n",
              "<span style=\"color: #008080; text-decoration-color: #008080; font-weight: bold\">5</span>. **Contenido de los Correos**: Aunque el contenido específico de los correos no se muestra en el registro, se \n",
              "puede inferir que muchos de ellos son respuestas automáticas a formularios de contacto, así como alertas de \n",
              "seguridad.\n",
              "\n",
              "### Análisis Preliminar\n",
              "\n",
              "<span style=\"color: #008080; text-decoration-color: #008080; font-weight: bold\">1</span>. **Frecuencia de Correos**: Hay una alta frecuencia de correos enviados, lo que podría indicar un uso activo del \n",
              "sitio web, pero también podría ser un signo de actividad sospechosa, especialmente si muchos de los correos son \n",
              "spam.\n",
              "\n",
              "<span style=\"color: #008080; text-decoration-color: #008080; font-weight: bold\">2</span>. **Problemas de Seguridad**: La presencia de múltiples alertas de Sucuri y Wordfence sugiere que el sitio web \n",
              "podría estar enfrentando problemas de seguridad, como intentos de acceso no autorizados o vulnerabilidades.\n",
              "\n",
              "<span style=\"color: #008080; text-decoration-color: #008080; font-weight: bold\">3</span>. **Spam y Publicidad**: La inclusión de correos con contenido de spam indica que el sitio web podría estar \n",
              "expuesto a ataques de spam, lo que podría afectar la reputación del dominio y la experiencia del usuario.\n",
              "\n",
              "<span style=\"color: #008080; text-decoration-color: #008080; font-weight: bold\">4</span>. **Necesidad de Filtrado**: Dada la cantidad de correos no deseados, sería recomendable implementar medidas de \n",
              "filtrado más estrictas en los formularios de contacto y en el servidor de correo para reducir el spam.\n",
              "\n",
              "<span style=\"color: #008080; text-decoration-color: #008080; font-weight: bold\">5</span>. **Revisión de Seguridad**: Se sugiere realizar una revisión exhaustiva de la seguridad del sitio web, incluyendo\n",
              "la actualización de plugins, la implementación de medidas de seguridad adicionales y la revisión de los registros \n",
              "de acceso para identificar posibles brechas.\n",
              "\n",
              "### Conclusión\n",
              "\n",
              "El registro del servidor de correo revela una actividad intensa y variada, con un enfoque en la comunicación a \n",
              "través de formularios de contacto y alertas de seguridad. Sin embargo, también destaca la necesidad de abordar \n",
              "problemas de seguridad y spam para proteger la integridad del sitio web y mejorar la experiencia del usuario.\n",
              "</pre>\n"
            ]
          },
          "metadata": {}
        }
      ]
    },
    {
      "cell_type": "markdown",
      "source": [
        "## CsvLoader\n",
        "\n",
        "asa"
      ],
      "metadata": {
        "id": "V6ygHZ6Tk-yb"
      }
    },
    {
      "cell_type": "code",
      "source": [
        "from langchain.document_loaders import CSVLoader\n",
        "from langchain.prompts import PromptTemplate\n",
        "from langchain.chat_models import ChatOpenAI\n",
        "from IPython.display import Markdown, display\n",
        "import os\n",
        "\n",
        "\n",
        "# Cargamos el contenido de un archivo CSV\n",
        "ruta_fichero = \"/datos.csv\"  # Ajusta la ruta según tu caso\n",
        "loader = CSVLoader(ruta_fichero)\n",
        "documentos = loader.load()\n",
        "\n",
        "print(f\"Se han cargado {len(documentos)} documento(s).\")\n",
        "\n",
        "# Tomamos el primer documento para ejemplificar un análisis\n",
        "contexto_texto = documentos[0].page_content if documentos else \"Sin contenido\"\n",
        "\n",
        "# Prompt para realizar un análisis específico de los datos\n",
        "texto_prompt = \"\"\"\n",
        "El texto a continuación representa los datos de un registro en un archivo CSV:\n",
        "\n",
        "\"{texto}\"\n",
        "\n",
        "Por favor, analiza este registro e indica:\n",
        "1. Un posible uso que se podría dar a esta información.\n",
        "2. Una hipótesis acerca del comportamiento o tendencia reflejada en estos datos.\n",
        "3. Una recomendación para mejorar o dar mayor contexto a este registro de datos.\n",
        "\"\"\"\n",
        "\n",
        "prompt_template = PromptTemplate(\n",
        "    template=texto_prompt,\n",
        "    input_variables=[\"texto\"]\n",
        ")\n",
        "\n",
        "# Generamos el prompt usando el texto cargado\n",
        "prompt = prompt_template.format(texto=contexto_texto)\n",
        "\n",
        "# Instanciamos el modelo\n",
        "llm = ChatOpenAI(model=\"gpt-4o-mini\", api_key=OPENAI_API_KEY, temperature=0.7)\n",
        "\n",
        "# Hacemos la llamada al LLM para obtener el análisis\n",
        "respuesta = llm.invoke(prompt)\n",
        "\n",
        "display(Markdown(respuesta.content))\n"
      ],
      "metadata": {
        "id": "BnQ5GA-ilCM5",
        "outputId": "00be45a0-8a5d-490d-e5c2-97eab2829ad3",
        "colab": {
          "base_uri": "https://localhost:8080/",
          "height": 504
        }
      },
      "execution_count": null,
      "outputs": [
        {
          "output_type": "stream",
          "name": "stdout",
          "text": [
            "Se han cargado 2729 documento(s).\n"
          ]
        },
        {
          "output_type": "stream",
          "name": "stderr",
          "text": [
            "<ipython-input-17-29e99b5d8a99>:39: LangChainDeprecationWarning: The class `ChatOpenAI` was deprecated in LangChain 0.0.10 and will be removed in 1.0. An updated version of the class exists in the :class:`~langchain-openai package and should be used instead. To use it run `pip install -U :class:`~langchain-openai` and import as `from :class:`~langchain_openai import ChatOpenAI``.\n",
            "  llm = ChatOpenAI(model=\"gpt-4o-mini\", api_key=OPENAI_API_KEY, temperature=0.7)\n"
          ]
        },
        {
          "output_type": "display_data",
          "data": {
            "text/plain": [
              "<IPython.core.display.Markdown object>"
            ],
            "text/markdown": "Claro, aquí tienes un análisis del registro proporcionado:\n\n### 1. Posible uso de la información:\nEsta información podría ser utilizada por entidades gubernamentales, organizaciones culturales o instituciones educativas para la gestión del patrimonio cultural. Por ejemplo, el registro detalla un inmueble afectado culturalmente, lo que podría servir para la planificación de intervenciones, conservación, o promoción de actividades culturales en el mismo. Además, podría ser útil para investigadores que estudian la disponibilidad de espacios culturales en la provincia de Valencia.\n\n### 2. Hipótesis sobre el comportamiento o tendencia reflejada en estos datos:\nUna posible hipótesis es que las propiedades catalogadas como \"Cultural\" y \"Suelo Urbano\" podrían estar aumentando en número en la provincia de Valencia debido a un creciente interés por la recuperación y conservación del patrimonio cultural. Esto podría reflejar una tendencia hacia la valorización de espacios que tienen un significado histórico o cultural, impulsada por políticas públicas que fomentan la educación y la preservación del patrimonio.\n\n### 3. Recomendación para mejorar o dar mayor contexto a este registro de datos:\nPara dar mayor contexto y utilidad a este registro, se podría incluir información adicional como:\n\n- **Coordenadas Geográficas**: Incluir latitud y longitud para facilitar la ubicación del inmueble en un mapa.\n- **Descripción Detallada**: Proporcionar una breve descripción del inmueble, su historia, importancia cultural y cualquier evento relevante que haya tenido lugar allí.\n- **Estado de Conservación**: Incluir detalles sobre el estado actual del inmueble y cualquier intervención de conservación realizada o planificada.\n- **Datos de Contacto**: Añadir información de contacto de la entidad responsable de la gestión del inmueble para facilitar la consulta de interesados o investigadores.\n\nEsto enriquecería el registro, haciéndolo más accesible y útil para diversos usuarios."
          },
          "metadata": {}
        }
      ]
    },
    {
      "cell_type": "markdown",
      "metadata": {
        "id": "dUaLO9EEZtpn"
      },
      "source": [
        "# Referencias\n",
        "---\n",
        "\n",
        "1. https://python.langchain.com/docs/integrations/document_loaders/\n",
        "\n",
        "2. https://blog.davideai.dev/the-ultimate-langchain-series-data-loaders\n",
        "\n",
        "3. https://www.youtube.com/watch?v=zKlZ8Atv6Bc\n",
        "\n",
        "4. https://www.youtube.com/watch?v=75uBcITe0gU"
      ]
    },
    {
      "cell_type": "markdown",
      "source": [],
      "metadata": {
        "id": "FpIRD0gwcym8"
      }
    },
    {
      "cell_type": "markdown",
      "source": [
        "# Guión\n",
        "\n",
        "## 1\\. Introducción a los Document Loaders\n",
        "\n",
        "1.  **Definición de Document Loaders**\n",
        "    -   ¿Qué son los Document Loaders?\n",
        "    -   Relación con el proceso general de generación y/o procesamiento de lenguaje en LangChain.\n",
        "2.  **Por qué son importantes**\n",
        "    -   Papel fundamental en la preparación de datos: localización, extracción y preprocesamiento.\n",
        "    -   Garantizar que los datos se adapten al modelo y al flujo de trabajo (por ejemplo, chunking).\n",
        "    -   Reducción de costos y optimización de rendimiento cuando se limitan los datos innecesarios.\n",
        "\n",
        "* * *\n",
        "\n",
        "## 2\\. Tipos de Document Loaders en LangChain\n",
        "\n",
        "1.  **Cargadores para archivos locales**\n",
        "    -   _TextLoader_: para archivos .txt.\n",
        "    -   _CSVLoader_: para archivos .csv.\n",
        "    -   _PDFLoader_: para documentos en PDF (con dependencias como `PyPDF2` o `pdfminer`).\n",
        "    -   _UnstructuredFileLoader_: para distintos tipos de archivos basados en librerías “unstructured”.\n",
        "2.  **Cargadores para fuentes web**\n",
        "    -   _WebBaseLoader_: para extraer texto desde páginas web.\n",
        "    -   _URLsLoader_: para múltiples URLs de forma simultánea.\n",
        "    -   Consideraciones sobre rate-limiting, HTML parsing, etc.\n",
        "3.  **Cargadores para APIs o servicios en la nube**\n",
        "    -   _GoogleDriveLoader_: lectura de documentos en Google Drive.\n",
        "    -   _S3Loader_ (Amazon): acceso a buckets S3.\n",
        "    -   _OneDriveLoader_: conexión con Microsoft OneDrive.\n",
        "    -   Factores de autenticación y permisos.\n",
        "4.  **Cargadores especializados**\n",
        "    -   _YouTubeLoader_: extracción de transcripciones de videos de YouTube.\n",
        "    -   _EverNoteLoader_, _NotionLoader_, etc., dependiendo de integraciones específicas.\n",
        "    -   Cargadores basados en servicios de bases de datos (por ejemplo, MySQL, PostgreSQL).\n",
        "\n",
        "* * *\n",
        "\n",
        "## 3\\. Flujo de trabajo básico con Document Loaders\n",
        "\n",
        "1.  **Selección del Loader adecuado**\n",
        "    -   Identificar el tipo de fuente de datos (archivo, web, API, etc.).\n",
        "    -   Compatibilidad y requerimientos (dependencias, librerías adicionales).\n",
        "    -   Métodos de autenticación o acceso a la fuente de datos.\n",
        "2.  **Configuración e inicialización**\n",
        "    -   Instalación de librerías necesarias (por ejemplo, `requests`, `beautifulsoup4`, `PyPDF2`, `google-api-python-client`, etc.).\n",
        "    -   Parámetros de configuración (paths, URL, tokens de acceso).\n",
        "3.  **Extracción de documentos**\n",
        "    -   Ejecución del loader para obtener el contenido bruto.\n",
        "    -   Lectura incremental, por lotes o tiempo real (según el caso).\n",
        "    -   Manejo de excepciones y errores de conexión o acceso.\n",
        "4.  **Ejemplo práctico**\n",
        "    -   Demostración de un caso simple (por ejemplo, cargar un PDF).\n",
        "    -   Revisión del objeto resultante y metadatos (título, fuente, etc.).\n",
        "    -   Cómo se integran esos datos en una _chain_ posterior.\n",
        "\n",
        "* * *\n",
        "\n",
        "## 4\\. Preprocesamiento y Normalización\n",
        "\n",
        "1.  **Chunking (segmentación de texto)**\n",
        "    -   Por qué es necesario (limitación de tokens, segmentación semántica, etc.).\n",
        "    -   Estrategias de chunking: por número de tokens, por longitud de caracteres, por secciones lógicas.\n",
        "    -   Ejemplo de implementación de chunking en LangChain.\n",
        "2.  **Limpieza y formateo de texto**\n",
        "    -   Remoción de caracteres especiales, saltos de línea, metadatos irrelevantes.\n",
        "    -   Conversión a minúsculas o mantenimiento del caso original.\n",
        "    -   Manejo de signos de puntuación y otras normalizaciones.\n",
        "3.  **Enriquecimiento de metadatos**\n",
        "    -   Agregar fecha, autor, tipo de documento, fuente, URL, etc.\n",
        "    -   Efecto en la relevancia y filtrado posterior con los LLMs.\n",
        "    -   Uso de metadatos para afinar búsquedas en bases vectoriales.\n",
        "\n"
      ],
      "metadata": {
        "id": "2JvStRM-Zuvg"
      }
    }
  ],
  "metadata": {
    "language_info": {
      "name": "python"
    },
    "colab": {
      "provenance": [],
      "include_colab_link": true
    },
    "kernelspec": {
      "name": "python3",
      "display_name": "Python 3"
    }
  },
  "nbformat": 4,
  "nbformat_minor": 0
}