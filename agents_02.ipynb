{
  "nbformat": 4,
  "nbformat_minor": 0,
  "metadata": {
    "colab": {
      "provenance": [],
      "include_colab_link": true
    },
    "kernelspec": {
      "name": "python3",
      "display_name": "Python 3"
    },
    "language_info": {
      "name": "python"
    }
  },
  "cells": [
    {
      "cell_type": "markdown",
      "metadata": {
        "id": "view-in-github",
        "colab_type": "text"
      },
      "source": [
        "<a href=\"https://colab.research.google.com/github/juanfranbrv/curso-langchain/blob/main/agents_02.ipynb\" target=\"_parent\"><img src=\"https://colab.research.google.com/assets/colab-badge.svg\" alt=\"Open In Colab\"/></a>"
      ]
    },
    {
      "cell_type": "markdown",
      "source": [
        "# **0. Preparando el cuaderno**\n",
        "---\n",
        "bla, bla, bla"
      ],
      "metadata": {
        "id": "HwyvZdZVeOOd"
      }
    },
    {
      "cell_type": "code",
      "execution_count": null,
      "metadata": {
        "id": "DsW4sWtvd7zT"
      },
      "outputs": [],
      "source": [
        "%%capture --no-stderr\n",
        "\n",
        "# Importar la librería `userdata` de Google Colab.\n",
        "# Esta librería se utiliza para acceder a datos de usuario almacenados de forma segura en el entorno de Colab.\n",
        "from google.colab import userdata\n",
        "\n",
        "# Obtener las claves API de diferentes servicios desde el almacenamiento seguro de Colab.\n",
        "OPENAI_API_KEY=userdata.get('OPENAI_API_KEY')\n",
        "GROQ_API_KEY=userdata.get('GROQ_API_KEY')\n",
        "GOOGLE_API_KEY=userdata.get('GOOGLE_API_KEY')\n",
        "HUGGINGFACEHUB_API_TOKEN=userdata.get('HUGGINGFACEHUB_API_TOKEN')\n",
        "MISTRAL_API_KEY=userdata.get('MISTRAL_API_KEY')\n",
        "TOGETHER_API_KEY=userdata.get('TOGETHER_API_KEY')\n",
        "ANTHROPIC_API_KEY=userdata.get('ANTHROPIC_API_KEY')\n",
        "DEEPSEEK_API_KEY=userdata.get('DEEPSEEK_API_KEY')\n",
        "\n",
        "# Instalar las librerías necesarias usando pip.\n",
        "# El flag `-qU` instala en modo silencioso (`-q`) y actualiza las librerías si ya están instaladas (`-U`).\n",
        "%pip install langchain -qU  # Instalar la librería principal de LangChain.\n",
        "%pip install langgraph -qU  # Instalar la librería de grafos de LangChain.\n",
        "\n",
        "# Instalar las integraciones de LangChain con diferentes proveedores de LLMs.\n",
        "%pip install langchain-openai -qU\n",
        "%pip install langchain-groq -qU\n",
        "%pip install langchain-google-genai -qU\n",
        "%pip install langchain-huggingface -qU\n",
        "%pip install langchain_mistralai -qU\n",
        "%pip install langchain-together -qU\n",
        "%pip install langchain-anthropic -qU\n",
        "\n",
        "# Importar las clases necesarias de LangChain para crear plantillas de prompt.\n",
        "# `ChatPromptTemplate` es la clase base para plantillas de chat.\n",
        "# `SystemMessagePromptTemplate` se usa para mensajes del sistema (instrucciones iniciales).\n",
        "# `HumanMessagePromptTemplate` se usa para mensajes del usuario.\n",
        "from langchain.prompts import PromptTemplate, ChatPromptTemplate, SystemMessagePromptTemplate, HumanMessagePromptTemplate\n",
        "\n",
        "\n",
        "# # Importamos las clases necesarias para trabajar con cadenas\n",
        "# from langchain.chains import LLMChain\n",
        "\n",
        "# Importar las clases para interactuar con los diferentes LLMs a través de LangChain.\n",
        "from langchain_openai import ChatOpenAI  # Esta tambien para DeepSeek\n",
        "from langchain_groq import ChatGroq\n",
        "from langchain_google_genai import ChatGoogleGenerativeAI\n",
        "from langchain_huggingface import HuggingFaceEndpoint\n",
        "from langchain_mistralai import ChatMistralAI\n",
        "from langchain_together import ChatTogether\n",
        "from langchain_anthropic import ChatAnthropic\n",
        "\n",
        "# Importamos la libreria para formatear mejor la salida\n",
        "from IPython.display import Markdown, display"
      ]
    },
    {
      "cell_type": "code",
      "source": [
        "from typing import Dict, List, TypedDict\n",
        "from langchain_core.messages import BaseMessage, HumanMessage\n",
        "from langchain_core.prompts import ChatPromptTemplate\n",
        "from langchain_core.runnables import RunnablePassthrough\n",
        "\n",
        "from langgraph.graph import END, StateGraph\n",
        "\n",
        "\n",
        "# 1. Actualizar el estado\n",
        "class TranslationState(TypedDict):\n",
        "    original_text: str\n",
        "    source_language: str\n",
        "    target_language: str\n",
        "    translator_output: str\n",
        "    accuracy_suggestions: List[str]  # Cambiado a específico para Revisor 1\n",
        "    fluency_suggestions: List[str]   # Nuevo campo para Revisor 2\n",
        "    editor_output: str\n",
        "    translation_iterations: int\n",
        "\n",
        "# 2. Modificar las plantillas\n",
        "translator_prompt = ChatPromptTemplate.from_messages([\n",
        "    (\"system\", (\n",
        "        \"You are a senior lawyer-translator working for an international organisation on Intellectual Property. \"\n",
        "        \"You have more than 10 years of professional experience, specializing in translation from {source_language} to {target_language}. \"\n",
        "        \"With many years of experience in specialized translation, you use the most advanced translation techniques to provide high-quality, fluent, and accurate translations.\"\n",
        "        \"The translation should be ready for publication, and you need to ensure that a mistranslation may result in serious economic and legal consequences for your client.\"\n",
        "        \"Please ensure that the translation is perfect.\"\n",
        "    )),\n",
        "    (\"human\", \"Your task is to provide a professional, high-quality translation from {source_language} to {target_language} of the following text:\\n{original_text}.\"\n",
        "    \"The resulting translation should have the highest standards, and should convey all the meaning of the source text in a way that is fluent and appropriate for the target culture. \"\n",
        "])\n",
        "\n",
        "accuracy_reviewer_prompt = ChatPromptTemplate.from_messages([\n",
        "    (\"system\", (\n",
        "        \"You are an expert Accuracy Reviewer, specializing in reviewing translations from {source_language} to {target_language}. Focus ONLY on: \"\n",
        "        \"- Accuracy (by correcting errors of addition, mistranslation, omission or untranslated text.\\n\"\n",
        "        \"- Terminology (ensuring that the terminology used is appropriate for the context, that the use is coherent and consistent throughout the same document, etc.)\\n\"\n",
        "        \"- Other accuracy errors (proper noun translations, numerical consistency, technical accuracy.\\n\"\n",
        "        \"- Only suggest improvements that enhance the accuracy of the translation. Do not make any preferential changes.\\n\"\n",
        "        \"Return EXACTLY 'NO_SUGGESTIONS' if the accuracy of the translation is perfect and you think that no Accuracy improvements could be done.  \"\n",
        "        \"Format: bullet points with 'ERROR: [issue] → SUGGESTION: [fix]'\"\n",
        "    )),\n",
        "    (\"human\", (\n",
        "        \"Source ({source_language}):\\n{original_text}\\n\\n\"\n",
        "        \"Translation ({target_language}):\\n{translator_output}\\n\\n\"\n",
        "        \"Critical accuracy review (ONLY technical/terminology issues):\"\n",
        "    ))\n",
        "])\n",
        "\n",
        "fluency_reviewer_prompt = ChatPromptTemplate.from_messages([\n",
        "    (\"system\", (\n",
        "        \"You are an expert Fluency Reviewer, specializing in reviewing translations from {source_language} to {target_language}. Focus ONLY on:\\n\"\n",
        "        \"- Fluency (by applying {target_language} grammar, spelling and punctuation rules, and ensuring there are no unnecessary repetitions).\\n\"\n",
        "        \"- Style (by ensuring the translations reflect the style of the source text and takes into account any cultural context).\\n\"\n",
        "        \"- Other fluency errors (natural flow, idiomatic expressions, readability, cultural adaptation).\\n\"\n",
        "        \"- Only suggest improvements that enhance the fluency of the translation. Do not make any preferential changes.\\n\"\n",
        "        \"Return EXACTLY 'NO_SUGGESTIONS' if the fluency of the translation is perfect and you think that no Fluency improvements could be done.\"\n",
        "        \"Format: bullet points with 'ISSUE: [description] → IMPROVEMENT: [suggestion]'\"\n",
        "    )),\n",
        "    (\"human\", (\n",
        "        \"Translation to refine:\\n{translator_output}\\n\\n\"\n",
        "        \"Target language: {target_language}\\n\"\n",
        "        \"Fluency and style improvements:\"\n",
        "    ))\n",
        "])\n",
        "\n",
        "editor_prompt = ChatPromptTemplate.from_messages([\n",
        "    (\"system\", (\n",
        "        \"You are a senior editor, having worked for more than 10 years as a lawyer-linguist in an Intellectual Property organisation.\"\n",
        "        \"You specialize in editing translations from {source_language} to {target_language}. \"\n",
        "        \"Your task is to carefully read, and then edit, the translation by the Translator, and edit it\"\n",
        "        \"by taking into account a list of expert suggestions and constructive criticisms by the Reviewers.\"\n",
        "        \"Synthesize inputs from both reviewers. Prioritize accuracy changes, then implement fluency improvements.\"\n",
        "    )),\n",
        "    (\"human\", (\n",
        "        \"Original Text ({source_language}):\\n{original_text}\\n\\n\"\n",
        "        \"Draft Translation:\\n{translator_output}\\n\\n\"\n",
        "        \"Accuracy Issues:\\n{accuracy_suggestions}\\n\\n\"\n",
        "        \"Fluency Suggestions:\\n{fluency_suggestions}\\n\\n\"\n",
        "        \"Produce a final, polished translation that is ready for publication and has the highest-quality standards:\"\n",
        "    ))\n",
        "])\n",
        "\n",
        "# 3. Configurar modelos (ajustar según necesidades)\n",
        "\n",
        "# Con OpenAI\n",
        "\n",
        "translator_llm = ChatOpenAI(model=\"gpt-4o-mini\", api_key=OPENAI_API_KEY, temperature=0.3)\n",
        "accuracy_llm = ChatOpenAI(model=\"gpt-4o-mini\", api_key=OPENAI_API_KEY, temperature=0.1)  # Modelo más conservador\n",
        "fluency_llm = ChatOpenAI(model=\"gpt-4o-mini\", api_key=OPENAI_API_KEY, temperature=0.7)   # Modelo más creativo\n",
        "editor_llm = ChatOpenAI(model=\"gpt-4o-mini\", api_key=OPENAI_API_KEY, temperature=0.4)\n",
        "\n",
        "# Con Deepseek\n",
        "#model=deepseek-reasoner para R1\n",
        "# translator_llm = ChatOpenAI(model=\"deepseek-chat\", api_key=DEEPSEEK_API_KEY, base_url=\"https://api.deepseek.com\", temperature=0.3)\n",
        "# accuracy_llm = ChatOpenAI(model=\"deepseek-chat\", api_key=DEEPSEEK_API_KEY, base_url=\"https://api.deepseek.com\", temperature=0.1)  # Modelo más conservador\n",
        "# fluency_llm = ChatOpenAI(model=\"deepseek-chat\", api_key=DEEPSEEK_API_KEY, base_url=\"https://api.deepseek.com\", temperature=0.7)  # Modelo más creativo\n",
        "# editor_llm = ChatOpenAI(model=\"deepseek-chat\", api_key=DEEPSEEK_API_KEY, base_url=\"https://api.deepseek.com\", temperature=0.4)\n",
        "\n",
        "# 4. Crear nuevas cadenas\n",
        "translator_chain = translator_prompt | translator_llm\n",
        "accuracy_review_chain = accuracy_reviewer_prompt | accuracy_llm\n",
        "fluency_review_chain = fluency_reviewer_prompt | fluency_llm\n",
        "editor_chain = editor_prompt | editor_llm\n",
        "\n",
        "# 5. Actualizar funciones de nodo\n",
        "def translate(state: TranslationState) -> dict:\n",
        "    print(\"\\n--- TRANSLATING ---\")\n",
        "    result = translator_chain.invoke(state)\n",
        "    display(Markdown(\"📄 Traducción generada:\\n\" + result.content))\n",
        "    return {\"translator_output\": result.content}\n",
        "\n",
        "def review_accuracy(state: TranslationState) -> dict:\n",
        "    print(\"\\n--- ACCURACY REVIEW ---\")\n",
        "    result = accuracy_review_chain.invoke(state)\n",
        "    content = result.content.strip()\n",
        "\n",
        "    suggestions = []\n",
        "    if content != \"NO_SUGGESTIONS\":\n",
        "        suggestions = [line.strip() for line in content.split(\"\\n\") if line.strip()]\n",
        "        print(\"⚠️ Sugerencias de precisión:\")\n",
        "        for sug in suggestions:\n",
        "            display(Markdown(f\"    {sug}\"))\n",
        "    else:\n",
        "        print(\"✅ Sin problemas de precisión\")\n",
        "\n",
        "    return {\"accuracy_suggestions\": suggestions}\n",
        "\n",
        "def review_fluency(state: TranslationState) -> dict:\n",
        "    print(\"\\n--- FLUENCY REVIEW ---\")\n",
        "    result = fluency_review_chain.invoke(state)\n",
        "    content = result.content.strip()\n",
        "\n",
        "    suggestions = []\n",
        "    if content != \"NO_SUGGESTIONS\":\n",
        "        suggestions = [line.strip() for line in content.split(\"\\n\") if line.strip()]\n",
        "        print(\"✏️ Sugerencias de estilo:\")\n",
        "        for sug in suggestions:\n",
        "            display(Markdown(f\"    {sug}\"))\n",
        "    else:\n",
        "        print(\"✅ Sin problemas de fluidez\")\n",
        "\n",
        "    return {\"fluency_suggestions\": suggestions}\n",
        "\n",
        "def edit(state: TranslationState) -> dict:\n",
        "    print(\"\\n--- FINAL EDITING ---\")\n",
        "    result = editor_chain.invoke(state)\n",
        "    print(\"🔖 Versión final:\")\n",
        "    display(Markdown(result.content))\n",
        "    return {\"editor_output\": result.content}\n",
        "\n",
        "# 6. Reconstruir el grafo\n",
        "builder = StateGraph(TranslationState)\n",
        "\n",
        "builder.add_node(\"translate\", translate)\n",
        "builder.add_node(\"review_accuracy\", review_accuracy)\n",
        "builder.add_node(\"review_fluency\", review_fluency)\n",
        "builder.add_node(\"edit\", edit)\n",
        "\n",
        "builder.set_entry_point(\"translate\")\n",
        "\n",
        "# Flujo principal CORREGIDO\n",
        "builder.add_edge(\"translate\", \"review_accuracy\")\n",
        "builder.add_edge(\"review_accuracy\", \"review_fluency\")\n",
        "builder.add_edge(\"review_fluency\", \"edit\")\n",
        "builder.add_edge(\"edit\", END)\n",
        "\n",
        "graph = builder.compile()\n",
        "\n",
        "# 8. Ejecutar\n",
        "inputs = {\n",
        "    \"original_text\": \"Los Angeles firefighters were making modest progress in taming the region’s two largest fires on Saturday as they raced to suppress them ahead of high winds that were expected to intensify later in the day. After a night of expanded evacuation orders and spreading flames that continued to plunge the area into what Lindsey Horvath, a Los Angeles County supervisor, called 'unimaginable terror and heartbreak,' crews had contained 11 percent of the 22,660-acre Palisades fire and 15 percent of the 14,000-acre Eaton fire, near Altadena and Pasadena, according to Cal Fire.\",\n",
        "    \"source_language\": \"inglés\",\n",
        "    \"target_language\": \"español\",\n",
        "    \"translation_iterations\": 0\n",
        "}\n",
        "result = graph.invoke(inputs)\n",
        "\n",
        "\n",
        "# 9. Con display(Markdown())\n",
        "display(Markdown(f\"\"\"\n",
        "### 📝 **Tracción Finalizada**\n",
        "🗣️ **Origen:** {result['source_language']} → **Destino:** {result['target_language']}\n",
        "\n",
        "🔤 **Texto original:**\n",
        "*{result['original_text']}...*\n",
        "\n",
        "🎯 **Traducción:**\n",
        "{result.get('editor_output', '')}\n",
        "\"\"\"))"
      ],
      "metadata": {
        "id": "_J0WZPK7uDO_",
        "colab": {
          "base_uri": "https://localhost:8080/",
          "height": 941
        },
        "outputId": "4d08e170-6938-43e2-fb0d-349e7c78fe89"
      },
      "execution_count": null,
      "outputs": [
        {
          "output_type": "stream",
          "name": "stdout",
          "text": [
            "\n",
            "--- TRANSLATING ---\n"
          ]
        },
        {
          "output_type": "display_data",
          "data": {
            "text/plain": [
              "<IPython.core.display.Markdown object>"
            ],
            "text/markdown": "📄 Traducción generada:\nLos bomberos de Los Ángeles estaban logrando un progreso modesto en controlar los dos incendios más grandes de la región el sábado, mientras se apresuraban a sofocarlos antes de que los vientos fuertes, que se esperaba que se intensificaran más tarde en el día, llegaran. Después de una noche de órdenes de evacuación ampliadas y llamas en expansión que continuaron sumergiendo el área en lo que Lindsey Horvath, una supervisora del condado de Los Ángeles, describió como 'un terror y un dolor inimaginables', las brigadas habían contenido el 11 por ciento del incendio de Palisades, que abarca 22,660 acres, y el 15 por ciento del incendio de Eaton, que cubre 14,000 acres, cerca de Altadena y Pasadena, según Cal Fire."
          },
          "metadata": {}
        },
        {
          "output_type": "stream",
          "name": "stdout",
          "text": [
            "\n",
            "--- ACCURACY REVIEW ---\n",
            "⚠️ Sugerencias de precisión:\n"
          ]
        },
        {
          "output_type": "display_data",
          "data": {
            "text/plain": [
              "<IPython.core.display.Markdown object>"
            ],
            "text/markdown": "    - ERROR: \"incendio de Palisades\" → SUGGESTION: \"incendio Palisades\""
          },
          "metadata": {}
        },
        {
          "output_type": "display_data",
          "data": {
            "text/plain": [
              "<IPython.core.display.Markdown object>"
            ],
            "text/markdown": "    - ERROR: \"incendio de Eaton\" → SUGGESTION: \"incendio Eaton\""
          },
          "metadata": {}
        },
        {
          "output_type": "display_data",
          "data": {
            "text/plain": [
              "<IPython.core.display.Markdown object>"
            ],
            "text/markdown": "    - ERROR: \"22,660 acres\" → SUGGESTION: \"22,660 acres\" (should remain consistent with the original numerical format)"
          },
          "metadata": {}
        },
        {
          "output_type": "display_data",
          "data": {
            "text/plain": [
              "<IPython.core.display.Markdown object>"
            ],
            "text/markdown": "    - ERROR: \"14,000 acres\" → SUGGESTION: \"14,000 acres\" (should remain consistent with the original numerical format)"
          },
          "metadata": {}
        },
        {
          "output_type": "display_data",
          "data": {
            "text/plain": [
              "<IPython.core.display.Markdown object>"
            ],
            "text/markdown": "    NO_SUGGESTIONS"
          },
          "metadata": {}
        },
        {
          "output_type": "stream",
          "name": "stdout",
          "text": [
            "\n",
            "--- FLUENCY REVIEW ---\n",
            "✏️ Sugerencias de estilo:\n"
          ]
        },
        {
          "output_type": "display_data",
          "data": {
            "text/plain": [
              "<IPython.core.display.Markdown object>"
            ],
            "text/markdown": "    - ISSUE: The phrase \"los bomberos de Los Ángeles estaban logrando un progreso modesto\" feels slightly formal and can be simplified for better readability. → IMPROVEMENT: \"Los bomberos de Los Ángeles lograban un progreso modesto\"."
          },
          "metadata": {}
        },
        {
          "output_type": "display_data",
          "data": {
            "text/plain": [
              "<IPython.core.display.Markdown object>"
            ],
            "text/markdown": "    - ISSUE: \"a sofocarlos antes de que los vientos fuertes, que se esperaba que se intensificaran más tarde en el día, llegaran\" is a bit convoluted. → IMPROVEMENT: \"a sofocarlos antes de que llegaran los fuertes vientos, que se esperaba se intensificarían más tarde en el día\"."
          },
          "metadata": {}
        },
        {
          "output_type": "display_data",
          "data": {
            "text/plain": [
              "<IPython.core.display.Markdown object>"
            ],
            "text/markdown": "    - ISSUE: \"describió como 'un terror y un dolor inimaginables'\" can be expressed more idiomatically. → IMPROVEMENT: \"describió como 'un terror y un sufrimiento inimaginables'\"."
          },
          "metadata": {}
        },
        {
          "output_type": "display_data",
          "data": {
            "text/plain": [
              "<IPython.core.display.Markdown object>"
            ],
            "text/markdown": "    - ISSUE: The structure \"las brigadas habían contenido el 11 por ciento del incendio de Palisades\" can be made more concise. → IMPROVEMENT: \"las brigadas habían contenido el 11 % del incendio de Palisades\"."
          },
          "metadata": {}
        },
        {
          "output_type": "display_data",
          "data": {
            "text/plain": [
              "<IPython.core.display.Markdown object>"
            ],
            "text/markdown": "    - ISSUE: The phrase \"que abarca 22,660 acres\" uses a more technical language. → IMPROVEMENT: \"que abarca 22,660 acres\" can be simplified to \"que afecta 22,660 acres\"."
          },
          "metadata": {}
        },
        {
          "output_type": "display_data",
          "data": {
            "text/plain": [
              "<IPython.core.display.Markdown object>"
            ],
            "text/markdown": "    - ISSUE: \"el 15 por ciento del incendio de Eaton, que cubre 14,000 acres\" should also align with the previous improvement for consistency. → IMPROVEMENT: \"el 15 % del incendio de Eaton, que afecta 14,000 acres\"."
          },
          "metadata": {}
        },
        {
          "output_type": "display_data",
          "data": {
            "text/plain": [
              "<IPython.core.display.Markdown object>"
            ],
            "text/markdown": "    - ISSUE: \"según Cal Fire\" is acceptable, but it could be integrated better for flow. → IMPROVEMENT: \"según informó Cal Fire\"."
          },
          "metadata": {}
        },
        {
          "output_type": "display_data",
          "data": {
            "text/plain": [
              "<IPython.core.display.Markdown object>"
            ],
            "text/markdown": "    Final refined version:"
          },
          "metadata": {}
        },
        {
          "output_type": "display_data",
          "data": {
            "text/plain": [
              "<IPython.core.display.Markdown object>"
            ],
            "text/markdown": "    \"Los bomberos de Los Ángeles lograban un progreso modesto en controlar los dos incendios más grandes de la región el sábado, mientras se apresuraban a sofocarlos antes de que llegaran los fuertes vientos, que se esperaba se intensificarían más tarde en el día. Tras una noche de órdenes de evacuación ampliadas y llamas en expansión que continuaban sumergiendo el área en lo que Lindsey Horvath, una supervisora del condado de Los Ángeles, describió como 'un terror y un sufrimiento inimaginables', las brigadas habían contenido el 11 % del incendio de Palisades, que afecta 22,660 acres, y el 15 % del incendio de Eaton, que afecta 14,000 acres, cerca de Altadena y Pasadena, según informó Cal Fire.\""
          },
          "metadata": {}
        },
        {
          "output_type": "stream",
          "name": "stdout",
          "text": [
            "\n",
            "--- FINAL EDITING ---\n",
            "🔖 Versión final:\n"
          ]
        },
        {
          "output_type": "display_data",
          "data": {
            "text/plain": [
              "<IPython.core.display.Markdown object>"
            ],
            "text/markdown": "Los bomberos de Los Ángeles lograban un progreso modesto en controlar los dos incendios más grandes de la región el sábado, mientras se apresuraban a sofocarlos antes de que llegaran los fuertes vientos, que se esperaba se intensificarían más tarde en el día. Tras una noche de órdenes de evacuación ampliadas y llamas en expansión que continuaban sumergiendo el área en lo que Lindsey Horvath, una supervisora del condado de Los Ángeles, describió como 'un terror y un sufrimiento inimaginables', las brigadas habían contenido el 11 % del incendio Palisades, que afecta 22,660 acres, y el 15 % del incendio Eaton, que afecta 14,000 acres, cerca de Altadena y Pasadena, según informó Cal Fire."
          },
          "metadata": {}
        },
        {
          "output_type": "display_data",
          "data": {
            "text/plain": [
              "<IPython.core.display.Markdown object>"
            ],
            "text/markdown": "\n### 📝 **Tracción Finalizada**  \n🗣️ **Origen:** inglés → **Destino:** español\n\n🔤 **Texto original:**  \n*Los Angeles firefighters were making modest progress in taming the region’s two largest fires on Saturday as they raced to suppress them ahead of high winds that were expected to intensify later in the day. After a night of expanded evacuation orders and spreading flames that continued to plunge the area into what Lindsey Horvath, a Los Angeles County supervisor, called 'unimaginable terror and heartbreak,' crews had contained 11 percent of the 22,660-acre Palisades fire and 15 percent of the 14,000-acre Eaton fire, near Altadena and Pasadena, according to Cal Fire....*  \n\n🎯 **Traducción:**  \nLos bomberos de Los Ángeles lograban un progreso modesto en controlar los dos incendios más grandes de la región el sábado, mientras se apresuraban a sofocarlos antes de que llegaran los fuertes vientos, que se esperaba se intensificarían más tarde en el día. Tras una noche de órdenes de evacuación ampliadas y llamas en expansión que continuaban sumergiendo el área en lo que Lindsey Horvath, una supervisora del condado de Los Ángeles, describió como 'un terror y un sufrimiento inimaginables', las brigadas habían contenido el 11 % del incendio Palisades, que afecta 22,660 acres, y el 15 % del incendio Eaton, que afecta 14,000 acres, cerca de Altadena y Pasadena, según informó Cal Fire.\n"
          },
          "metadata": {}
        }
      ]
    }
  ]
}