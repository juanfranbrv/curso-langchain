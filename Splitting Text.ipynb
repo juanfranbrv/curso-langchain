{
  "nbformat": 4,
  "nbformat_minor": 0,
  "metadata": {
    "colab": {
      "provenance": [],
      "authorship_tag": "ABX9TyPnmTRf0eFmK4LQAttQ/5jH",
      "include_colab_link": true
    },
    "kernelspec": {
      "name": "python3",
      "display_name": "Python 3"
    },
    "language_info": {
      "name": "python"
    }
  },
  "cells": [
    {
      "cell_type": "markdown",
      "metadata": {
        "id": "view-in-github",
        "colab_type": "text"
      },
      "source": [
        "<a href=\"https://colab.research.google.com/github/juanfranbrv/curso-langchain/blob/main/Splitting%20Text.ipynb\" target=\"_parent\"><img src=\"https://colab.research.google.com/assets/colab-badge.svg\" alt=\"Open In Colab\"/></a>"
      ]
    },
    {
      "cell_type": "markdown",
      "source": [
        "# **Text Splitting**\n",
        "---\n",
        "El **Text Splitting** (o división de texto) es una etapa crítica en los sistemas de **Retrieval-Augmented Generation (RAG)**. Consiste en fragmentar documentos extensos en segmentos más pequeños y manejables (_chunks_) antes de indexarlos para su recuperación posterior. Su implementación incide directamente en la calidad de la recuperación de información y, por ende, en las respuestas generadas por el modelo.\n",
        "\n",
        "* * *\n",
        "\n",
        "### **¿Por qué es importante?**\n",
        "\n",
        "1.  **Equilibrio entre contexto y precisión**:\n",
        "    \n",
        "    -   **Chunks demasiado grandes**: Pueden contener información redundante o irrelevante, lo que \"diluye\" el contexto clave y reduce la precisión del retrieval.\n",
        "        \n",
        "    -   **Chunks demasiado pequeños**: Pierden contexto necesario para entender el significado completo (p. ej., una frase sin su párrafo asociado).\n",
        "        \n",
        "    -   Un buen _splitting_ mantiene la coherencia semántica en cada segmento, facilitando que el sistema recupere los fragmentos más relevantes para una consulta.\n",
        "        \n",
        "2.  **Compatibilidad con modelos de embedding**:\n",
        "    \n",
        "    -   Los modelos de embedding (como SBERT o OpenAI) tienen límites óptimos de longitud de texto. Por ejemplo, un chunk de 512 tokens funciona bien con muchos codificadores, pero un texto más largo podría truncarse o perder información crítica.\n",
        "        \n",
        "3.  **Impacto en la generación de respuestas**:\n",
        "    \n",
        "    -   Los chunks recuperados alimentan al modelo generador (como GPT-4). Si están mal estructurados, el modelo recibirá información fragmentada o fuera de contexto, lo que generará respuestas inconsistentes o inexactas.\n",
        "        \n",
        "4.  **Eficiencia computacional**:\n",
        "    \n",
        "    -   Chunks bien dimensionados reducen costos de procesamiento y latencia, ya que evitan sobrecargar el sistema con datos innecesarios.\n",
        "\n",
        "\n",
        "### El Text Splitting no es un paso mecánico, sino una decisión estratégica que determina cómo el sistema \"ve\" la información y afectara enormemente a la calidad del sistema."
      ],
      "metadata": {
        "id": "fx7k4YhwIWp0"
      }
    },
    {
      "cell_type": "markdown",
      "source": [
        "# **Nivel 1: División por Caracteres**  \n",
        "---\n",
        "La **división por caracteres** es la forma más básica de fragmentar texto. Consiste simplemente en dividir el texto en _chunks_ (segmentos) de un tamaño fijo de **N caracteres**, ignorando por completo el contenido o estructura del texto.\n",
        "\n",
        "Este método **no se recomienda para aplicaciones reales**, pero es un punto de partida útil para comprender los fundamentos del _text splitting_.\n",
        "\n",
        "**Ventajas**:\n",
        "\n",
        "-   Fácil y sencillo de implementar.\n",
        "    \n",
        "\n",
        "**Desventajas**:\n",
        "\n",
        "-   Muy rígido: **no considera la estructura del texto** (p. ej., separación de párrafos, puntuación o temas).\n",
        "    \n",
        "-   Puede fragmentar ideas o contextos clave a la mitad.\n",
        "    \n",
        "\n",
        "**Conceptos clave**:\n",
        "\n",
        "-   **Tamaño del chunk (_Chunk Size_)**: Número de caracteres por segmento (ej: 50, 100, 1000).\n",
        "    \n",
        "-   **Solapamiento de chunks (_Chunk Overlap_)**: Cantidad de caracteres que se superponen entre chunks consecutivos. Esto ayuda a evitar que una misma información contextual quede dividida en múltiples chunks, aunque genera duplicación de datos.\n",
        "\n"
      ],
      "metadata": {
        "id": "_nDBMJ7mKa9T"
      }
    },
    {
      "cell_type": "code",
      "execution_count": 1,
      "metadata": {
        "id": "ihaYmy1rgga_"
      },
      "outputs": [],
      "source": [
        "text = \"El text splitting divide textos en segmentos pequeños para facilitar su procesamiento. Es clave mantener el equilibrio entre tamaño y contexto. Un buen splitting mejora la precisión en sistemas como RAG.\""
      ]
    },
    {
      "cell_type": "code",
      "source": [
        "# Creamos una lista para almacenar los chunks\n",
        "chunks = []\n",
        "\n",
        "chunk_size = 35 # Caracteres\n",
        "\n",
        "# desde 0 hasta la longitud del texto con salto de chunk_size\n",
        "for i in range(0, len(text), chunk_size):\n",
        "    chunk = text[i:i + chunk_size]\n",
        "    chunks.append(chunk)\n",
        "chunks"
      ],
      "metadata": {
        "colab": {
          "base_uri": "https://localhost:8080/"
        },
        "id": "wji55mhCK31k",
        "outputId": "74c7bbf6-174d-4607-daea-25856dca76ac"
      },
      "execution_count": 2,
      "outputs": [
        {
          "output_type": "execute_result",
          "data": {
            "text/plain": [
              "['El text splitting divide textos en ',\n",
              " 'segmentos pequeños para facilitar s',\n",
              " 'u procesamiento. Es clave mantener ',\n",
              " 'el equilibrio entre tamaño y contex',\n",
              " 'to. Un buen splitting mejora la pre',\n",
              " 'cisión en sistemas como RAG.']"
            ]
          },
          "metadata": {},
          "execution_count": 2
        }
      ]
    },
    {
      "cell_type": "markdown",
      "source": [
        "Langchain tiene una clae que permite realizar esta tarea facilmente"
      ],
      "metadata": {
        "id": "yOUHYLwQteJN"
      }
    },
    {
      "cell_type": "code",
      "source": [
        "from langchain.text_splitter import CharacterTextSplitter\n",
        "\n",
        "# Instanciamos un objeto CharacterTextSplitter y le pasamos los pasarmetros de corte\n",
        "text_splitter = CharacterTextSplitter(chunk_size = 35, chunk_overlap=0, separator='', )\n",
        "\n",
        "# Then we can actually split our text via create_documents.\n",
        "# Note: create_documents expects a list of texts, so if you just have a string (like we do) you'll need to wrap it in []\n",
        "text_splitter.create_documents([text])\n"
      ],
      "metadata": {
        "id": "V4yq7bS9tdHX",
        "outputId": "879902be-e61d-4287-f516-fe9704f55989",
        "colab": {
          "base_uri": "https://localhost:8080/"
        }
      },
      "execution_count": 7,
      "outputs": [
        {
          "output_type": "execute_result",
          "data": {
            "text/plain": [
              "[Document(metadata={}, page_content='El text splitting divide textos en'),\n",
              " Document(metadata={}, page_content='segmentos pequeños para facilitar s'),\n",
              " Document(metadata={}, page_content='u procesamiento. Es clave mantener'),\n",
              " Document(metadata={}, page_content='el equilibrio entre tamaño y contex'),\n",
              " Document(metadata={}, page_content='to. Un buen splitting mejora la pre'),\n",
              " Document(metadata={}, page_content='cisión en sistemas como RAG.')]"
            ]
          },
          "metadata": {},
          "execution_count": 7
        }
      ]
    },
    {
      "cell_type": "code",
      "source": [],
      "metadata": {
        "id": "X4p5jglYubYk"
      },
      "execution_count": null,
      "outputs": []
    },
    {
      "cell_type": "markdown",
      "source": [
        "Nos devolvera una lista de _documentos_\n",
        "Observa que, esta vez, tenemos los mismos chunks, pero ahora están en documentos. Estos funcionarán bien con el resto del ecosistema de LangChain. También nota que el espacio en blanco al final del tercer chunk ha desaparecido. Esto se debe a que LangChain lo elimina automáticamente. Si deseas conservar los espacios en blanco, puedes evitarlo configurando strip_whitespace=False.\n",
        "\n",
        "**Chunk Overlap & Separadores**\n",
        "\n",
        "El chunk overlap (solapamiento de chunks) fusiona los segmentos de texto de manera que el final del Chunk #1 coincida con el inicio del Chunk #2, y así sucesivamente. Esto ayuda a mantener el contexto entre chunks adyacentes, evitando que se pierda información importante en las divisiones.\n",
        "\n",
        "En este caso, configuraré un solapamiento de 4 caracteres, lo que significa que los últimos 7 caracteres de un chunk serán los primeros 10 del siguiente."
      ],
      "metadata": {
        "id": "vkmDnp0SuDXC"
      }
    },
    {
      "cell_type": "code",
      "source": [
        "text_splitter = CharacterTextSplitter(chunk_size = 35, chunk_overlap=10, separator='')\n",
        "\n",
        "text_splitter.create_documents([text])"
      ],
      "metadata": {
        "id": "Reeebj-rv001",
        "outputId": "17549afc-7e91-42a9-947b-8988e805ba62",
        "colab": {
          "base_uri": "https://localhost:8080/"
        }
      },
      "execution_count": 12,
      "outputs": [
        {
          "output_type": "execute_result",
          "data": {
            "text/plain": [
              "[Document(metadata={}, page_content='El text splitting divide textos en'),\n",
              " Document(metadata={}, page_content='vide textos en segmentos pequeños p'),\n",
              " Document(metadata={}, page_content='ntos pequeños para facilitar su pro'),\n",
              " Document(metadata={}, page_content='acilitar su procesamiento. Es clave'),\n",
              " Document(metadata={}, page_content='iento. Es clave mantener el equilib'),\n",
              " Document(metadata={}, page_content='ener el equilibrio entre tamaño y c'),\n",
              " Document(metadata={}, page_content='ntre tamaño y contexto. Un buen spl'),\n",
              " Document(metadata={}, page_content='to. Un buen splitting mejora la pre'),\n",
              " Document(metadata={}, page_content='g mejora la precisión en sistemas c'),\n",
              " Document(metadata={}, page_content='n en sistemas como RAG.')]"
            ]
          },
          "metadata": {},
          "execution_count": 12
        }
      ]
    },
    {
      "cell_type": "markdown",
      "source": [
        "Una interesante herramienta para visualizar como funciona este sistema es ChunkViz.com de"
      ],
      "metadata": {
        "id": "fQsHwwBxwc3E"
      }
    }
  ]
}