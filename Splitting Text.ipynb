{
  "nbformat": 4,
  "nbformat_minor": 0,
  "metadata": {
    "colab": {
      "provenance": [],
      "authorship_tag": "ABX9TyMNnoYGuKnJ9rcrlcWY7j5s",
      "include_colab_link": true
    },
    "kernelspec": {
      "name": "python3",
      "display_name": "Python 3"
    },
    "language_info": {
      "name": "python"
    }
  },
  "cells": [
    {
      "cell_type": "markdown",
      "metadata": {
        "id": "view-in-github",
        "colab_type": "text"
      },
      "source": [
        "<a href=\"https://colab.research.google.com/github/juanfranbrv/curso-langchain/blob/main/Splitting%20Text.ipynb\" target=\"_parent\"><img src=\"https://colab.research.google.com/assets/colab-badge.svg\" alt=\"Open In Colab\"/></a>"
      ]
    },
    {
      "cell_type": "markdown",
      "source": [
        "# **Text Splitting**\n",
        "---\n",
        "El **Text Splitting** (o división de texto) es una etapa crítica en los sistemas de **Retrieval-Augmented Generation (RAG)**. Consiste en fragmentar documentos extensos en segmentos más pequeños y manejables (_chunks_) antes de indexarlos para su recuperación posterior. Su implementación incide directamente en la calidad de la recuperación de información y, por ende, en las respuestas generadas por el modelo.  \n",
        "\n",
        "---\n",
        "\n",
        "### **¿Por qué es importante?**\n",
        "\n",
        "1.  **Equilibrio entre contexto y precisión**:\n",
        "    \n",
        "    -   **Chunks demasiado grandes**: Pueden contener información redundante o irrelevante, lo que \"diluye\" el contexto clave y reduce la precisión del retrieval.\n",
        "        \n",
        "    -   **Chunks demasiado pequeños**: Pierden contexto necesario para entender el significado completo (p. ej., una frase sin su párrafo asociado).\n",
        "        \n",
        "    -   Un buen _splitting_ mantiene la coherencia semántica en cada segmento, facilitando que el sistema recupere los fragmentos más relevantes para una consulta.\n",
        "        \n",
        "2.  **Compatibilidad con modelos de embedding**:\n",
        "    \n",
        "    -   Los modelos de embedding (como SBERT o OpenAI) tienen límites óptimos de longitud de texto. Por ejemplo, un chunk de 512 tokens funciona bien con muchos codificadores, pero un texto más largo podría truncarse o perder información crítica.\n",
        "        \n",
        "3.  **Impacto en la generación de respuestas**:\n",
        "    \n",
        "    -   Los chunks recuperados alimentan al modelo generador (como GPT-4). Si están mal estructurados, el modelo recibirá información fragmentada o fuera de contexto, lo que generará respuestas inconsistentes o inexactas.\n",
        "        \n",
        "4.  **Eficiencia computacional**:\n",
        "    \n",
        "    -   Chunks bien dimensionados reducen costos de procesamiento y latencia, ya que evitan sobrecargar el sistema con datos innecesarios.\n",
        "\n",
        "\n",
        "### El Text Splitting no es un paso mecánico, sino una decisión estratégica que determina cómo el sistema \"ve\" la información y afectara enormemente a la calidad del sistema."
      ],
      "metadata": {
        "id": "fx7k4YhwIWp0"
      }
    },
    {
      "cell_type": "markdown",
      "source": [
        "# **Nivel 1: División por Caracteres**  \n",
        "---\n",
        "La **división por caracteres** es la forma más básica de fragmentar texto. Consiste simplemente en dividir el texto en _chunks_ (segmentos) de un tamaño fijo de **N caracteres**, ignorando por completo el contenido o estructura del texto.\n",
        "\n",
        "Este método **no se recomienda para aplicaciones reales**, pero es un punto de partida útil para comprender los fundamentos del _text splitting_.\n",
        "\n",
        "**Ventajas**:\n",
        "\n",
        "-   Fácil y sencillo de implementar.\n",
        "    \n",
        "\n",
        "**Desventajas**:\n",
        "\n",
        "-   Muy rígido: **no considera la estructura del texto** (p. ej., separación de párrafos, puntuación o temas).\n",
        "    \n",
        "-   Puede fragmentar ideas o contextos clave a la mitad.\n",
        "    \n",
        "\n",
        "**Conceptos clave**:\n",
        "\n",
        "-   **Tamaño del chunk (_Chunk Size_)**: Número de caracteres por segmento (ej: 50, 100, 1000).\n",
        "    \n",
        "-   **Solapamiento de chunks (_Chunk Overlap_)**: Cantidad de caracteres que se superponen entre chunks consecutivos. Esto ayuda a evitar que una misma información contextual quede dividida en múltiples chunks, aunque genera duplicación de datos.\n",
        "\n"
      ],
      "metadata": {
        "id": "_nDBMJ7mKa9T"
      }
    },
    {
      "cell_type": "code",
      "execution_count": null,
      "metadata": {
        "id": "ihaYmy1rgga_"
      },
      "outputs": [],
      "source": [
        "text = \"El text splitting divide textos en segmentos pequeños para facilitar su procesamiento. Es clave mantener el equilibrio entre tamaño y contexto. Un buen splitting mejora la precisión en sistemas como RAG.\""
      ]
    },
    {
      "cell_type": "code",
      "source": [
        "# Creamos una lista para almacenar los chunks\n",
        "chunks = []\n",
        "\n",
        "chunk_size = 35 # Caracteres\n",
        "\n",
        "# desde 0 hasta la longitud del texto con salto de chunk_size\n",
        "for i in range(0, len(text), chunk_size):\n",
        "    chunk = text[i:i + chunk_size]\n",
        "    chunks.append(chunk)\n",
        "chunks"
      ],
      "metadata": {
        "colab": {
          "base_uri": "https://localhost:8080/"
        },
        "id": "wji55mhCK31k",
        "outputId": "74c7bbf6-174d-4607-daea-25856dca76ac"
      },
      "execution_count": null,
      "outputs": [
        {
          "output_type": "execute_result",
          "data": {
            "text/plain": [
              "['El text splitting divide textos en ',\n",
              " 'segmentos pequeños para facilitar s',\n",
              " 'u procesamiento. Es clave mantener ',\n",
              " 'el equilibrio entre tamaño y contex',\n",
              " 'to. Un buen splitting mejora la pre',\n",
              " 'cisión en sistemas como RAG.']"
            ]
          },
          "metadata": {},
          "execution_count": 2
        }
      ]
    },
    {
      "cell_type": "markdown",
      "source": [
        "Langchain tiene una clae que permite realizar esta tarea facilmente"
      ],
      "metadata": {
        "id": "yOUHYLwQteJN"
      }
    },
    {
      "cell_type": "code",
      "source": [
        "from langchain.text_splitter import CharacterTextSplitter\n",
        "\n",
        "# Instanciamos un objeto CharacterTextSplitter y le pasamos los pasarmetros de corte\n",
        "text_splitter = CharacterTextSplitter(chunk_size = 35, chunk_overlap=0, separator='', )\n",
        "\n",
        "# Then we can actually split our text via create_documents.\n",
        "# Note: create_documents expects a list of texts, so if you just have a string (like we do) you'll need to wrap it in []\n",
        "text_splitter.create_documents([text])\n"
      ],
      "metadata": {
        "id": "V4yq7bS9tdHX",
        "outputId": "879902be-e61d-4287-f516-fe9704f55989",
        "colab": {
          "base_uri": "https://localhost:8080/"
        }
      },
      "execution_count": null,
      "outputs": [
        {
          "output_type": "execute_result",
          "data": {
            "text/plain": [
              "[Document(metadata={}, page_content='El text splitting divide textos en'),\n",
              " Document(metadata={}, page_content='segmentos pequeños para facilitar s'),\n",
              " Document(metadata={}, page_content='u procesamiento. Es clave mantener'),\n",
              " Document(metadata={}, page_content='el equilibrio entre tamaño y contex'),\n",
              " Document(metadata={}, page_content='to. Un buen splitting mejora la pre'),\n",
              " Document(metadata={}, page_content='cisión en sistemas como RAG.')]"
            ]
          },
          "metadata": {},
          "execution_count": 7
        }
      ]
    },
    {
      "cell_type": "code",
      "source": [],
      "metadata": {
        "id": "X4p5jglYubYk"
      },
      "execution_count": null,
      "outputs": []
    },
    {
      "cell_type": "markdown",
      "source": [
        "Nos devolvera una lista de _documentos_\n",
        "Observa que, esta vez, tenemos los mismos chunks, pero ahora están en documentos. Estos funcionarán bien con el resto del ecosistema de LangChain. También nota que el espacio en blanco al final del tercer chunk ha desaparecido. Esto se debe a que LangChain lo elimina automáticamente. Si deseas conservar los espacios en blanco, puedes evitarlo configurando strip_whitespace=False.\n",
        "\n",
        "**Chunk Overlap & Separadores**\n",
        "\n",
        "El chunk overlap (solapamiento de chunks) fusiona los segmentos de texto de manera que el final del Chunk #1 coincida con el inicio del Chunk #2, y así sucesivamente. Esto ayuda a mantener el contexto entre chunks adyacentes, evitando que se pierda información importante en las divisiones.\n",
        "\n",
        "En este caso, configuraré un solapamiento de 4 caracteres, lo que significa que los últimos 7 caracteres de un chunk serán los primeros 10 del siguiente."
      ],
      "metadata": {
        "id": "vkmDnp0SuDXC"
      }
    },
    {
      "cell_type": "code",
      "source": [
        "text_splitter = CharacterTextSplitter(chunk_size = 35, chunk_overlap=10, separator='')\n",
        "\n",
        "text_splitter.create_documents([text])"
      ],
      "metadata": {
        "id": "Reeebj-rv001",
        "outputId": "17549afc-7e91-42a9-947b-8988e805ba62",
        "colab": {
          "base_uri": "https://localhost:8080/"
        }
      },
      "execution_count": null,
      "outputs": [
        {
          "output_type": "execute_result",
          "data": {
            "text/plain": [
              "[Document(metadata={}, page_content='El text splitting divide textos en'),\n",
              " Document(metadata={}, page_content='vide textos en segmentos pequeños p'),\n",
              " Document(metadata={}, page_content='ntos pequeños para facilitar su pro'),\n",
              " Document(metadata={}, page_content='acilitar su procesamiento. Es clave'),\n",
              " Document(metadata={}, page_content='iento. Es clave mantener el equilib'),\n",
              " Document(metadata={}, page_content='ener el equilibrio entre tamaño y c'),\n",
              " Document(metadata={}, page_content='ntre tamaño y contexto. Un buen spl'),\n",
              " Document(metadata={}, page_content='to. Un buen splitting mejora la pre'),\n",
              " Document(metadata={}, page_content='g mejora la precisión en sistemas c'),\n",
              " Document(metadata={}, page_content='n en sistemas como RAG.')]"
            ]
          },
          "metadata": {},
          "execution_count": 12
        }
      ]
    },
    {
      "cell_type": "markdown",
      "source": [
        "Una interesante herramienta para visualizar como funciona este sistema es ChunkViz.com de Gregory Kamradt\n",
        "\n",
        "\n"
      ],
      "metadata": {
        "id": "fQsHwwBxwc3E"
      }
    },
    {
      "cell_type": "markdown",
      "source": [
        "# **Nivel 2: Recursive Character Text Splitting**\n",
        "---\n",
        "Subamos un nivel de complejidad.\n",
        "\n",
        "El problema con el Nivel #1 es que no tenemos en cuenta la estructura de nuestro documento en absoluto. Simplemente dividimos por un número fijo de caracteres.\n",
        "\n",
        "El Recursive Character Text Splitter (Divisor de texto recursivo por caracteres) ayuda con esto. Con él, especificaremos una serie de separadores que se utilizarán para dividir nuestros documentos.\n",
        "\n",
        "Puedes ver los separadores predeterminados para LangChain aquí.\n",
        "https://github.com/langchain-ai/langchain/blob/9ef2feb6747f5a69d186bd623b569ad722829a5e/libs/langchain/langchain/text_splitter.py#L842\n",
        "\n",
        "Echemos un vistazo a cada uno de ellos.\n",
        "\n",
        "\"\\n\\n\" - Doble nueva línea, o más comúnmente saltos de párrafo.  \n",
        "\"\\n\" - Nuevas líneas.  \n",
        "\" \" - Espacios.  \n",
        "\"\" - Caracteres.  \n",
        "\n",
        "### Funcionamiento Recursivo\n",
        "\n",
        "El algoritmo se basa en una lista jerárquica de delimitadores ordenados desde el nivel más \"alto\" (por ejemplo, separadores de párrafo) hasta el más \"bajo\" (por ejemplo, espacios o caracteres individuales). El proceso es el siguiente:\n",
        "\n",
        "1.  **Selección de Delimitadores:**\n",
        "    \n",
        "    -   Se define una lista de delimitadores, por ejemplo:  \n",
        "        `[ \"\\n\\n\", \"\\n\", \". \", \" \", \"\" ]`\n",
        "    -   Cada delimitador se utiliza para intentar segmentar el texto en bloques lógicos.\n",
        "2.  **Fragmentación Inicial:**\n",
        "    \n",
        "    -   Se intenta dividir el texto usando el delimitador de mayor prioridad.\n",
        "    -   Si los fragmentos resultantes cumplen con el tamaño máximo (por ejemplo, número de caracteres o tokens), el proceso se detiene.\n",
        "3.  **Recursividad en Fragmentos Grandes:**\n",
        "    \n",
        "    -   Si algún fragmento supera el límite especificado, se aplica el mismo proceso a ese fragmento, pero usando el siguiente delimitador en la lista.\n",
        "    -   Este proceso se repite recursivamente hasta que el fragmento se ajusta al límite o se llega al delimitador más bajo (que puede implicar dividir a nivel de carácter).\n",
        "\n",
        "\n",
        "Probémoslo."
      ],
      "metadata": {
        "id": "f9xkdYbHxrcD"
      }
    },
    {
      "cell_type": "code",
      "source": [
        "from langchain.text_splitter import RecursiveCharacterTextSplitter\n",
        "\n",
        "text = \"\"\"\n",
        "Uno de los aspectos más fascinantes de la IA es su capacidad para aprender y adaptarse a partir de los datos, lo que permite a los sistemas mejorar su rendimiento con el tiempo sin necesidad de programación explícita. Este enfoque, conocido como aprendizaje automático (machine learning), ha dado lugar a avances notables en áreas como el reconocimiento de voz, la traducción automática y la visión por computadora. A medida que la cantidad de datos disponibles continúa creciendo exponencialmente, el potencial de la IA para impulsar la innovación y resolver desafíos complejos parece ilimitado.\n",
        "\n",
        "Sin embargo, el auge de la IA también plantea preguntas importantes sobre el futuro del trabajo, la ética y la privacidad. A medida que las máquinas se vuelven más inteligentes y capaces, existe la preocupación de que puedan desplazar a los trabajadores humanos en una amplia gama de industrias. Además, el uso de la IA en áreas como la vigilancia y la toma de decisiones plantea serias cuestiones éticas sobre el sesgo, la transparencia y la responsabilidad. Como dijo el renombrado físico Stephen Hawking: \"La inteligencia artificial podría ser lo mejor o lo peor que le haya pasado a la humanidad\". En última instancia, el futuro de la IA dependerá de cómo abordemos estos desafíos y trabajemos para garantizar que esta poderosa tecnología se utilice de manera responsable y en beneficio de toda la humanidad.\n",
        "\"\"\"\n",
        "\n",
        "text_splitter = RecursiveCharacterTextSplitter(chunk_size = 100, chunk_overlap=0)\n",
        "text_splitter.create_documents([text])"
      ],
      "metadata": {
        "id": "u70z2HlS0Bow",
        "outputId": "bafeb278-3060-4011-cead-09e2e70c266f",
        "colab": {
          "base_uri": "https://localhost:8080/"
        }
      },
      "execution_count": 3,
      "outputs": [
        {
          "output_type": "execute_result",
          "data": {
            "text/plain": [
              "[Document(metadata={}, page_content='Uno de los aspectos más fascinantes de la IA es su capacidad para aprender y adaptarse a partir de'),\n",
              " Document(metadata={}, page_content='los datos, lo que permite a los sistemas mejorar su rendimiento con el tiempo sin necesidad de'),\n",
              " Document(metadata={}, page_content='programación explícita. Este enfoque, conocido como aprendizaje automático (machine learning), ha'),\n",
              " Document(metadata={}, page_content='dado lugar a avances notables en áreas como el reconocimiento de voz, la traducción automática y la'),\n",
              " Document(metadata={}, page_content='visión por computadora. A medida que la cantidad de datos disponibles continúa creciendo'),\n",
              " Document(metadata={}, page_content='exponencialmente, el potencial de la IA para impulsar la innovación y resolver desafíos complejos'),\n",
              " Document(metadata={}, page_content='parece ilimitado.'),\n",
              " Document(metadata={}, page_content='Sin embargo, el auge de la IA también plantea preguntas importantes sobre el futuro del trabajo, la'),\n",
              " Document(metadata={}, page_content='ética y la privacidad. A medida que las máquinas se vuelven más inteligentes y capaces, existe la'),\n",
              " Document(metadata={}, page_content='preocupación de que puedan desplazar a los trabajadores humanos en una amplia gama de industrias.'),\n",
              " Document(metadata={}, page_content='Además, el uso de la IA en áreas como la vigilancia y la toma de decisiones plantea serias'),\n",
              " Document(metadata={}, page_content='cuestiones éticas sobre el sesgo, la transparencia y la responsabilidad. Como dijo el renombrado'),\n",
              " Document(metadata={}, page_content='físico Stephen Hawking: \"La inteligencia artificial podría ser lo mejor o lo peor que le haya'),\n",
              " Document(metadata={}, page_content='pasado a la humanidad\". En última instancia, el futuro de la IA dependerá de cómo abordemos estos'),\n",
              " Document(metadata={}, page_content='desafíos y trabajemos para garantizar que esta poderosa tecnología se utilice de manera responsable'),\n",
              " Document(metadata={}, page_content='y en beneficio de toda la humanidad.')]"
            ]
          },
          "metadata": {},
          "execution_count": 3
        }
      ]
    },
    {
      "cell_type": "markdown",
      "source": [
        "### ¿Cómo se personalizan los delimitadores?\n",
        "Cuando creas una instancia de la clase RecursiveCharacterTextSplitter, puedes pasarle una lista de delimitadores en el parámetro (generalmente llamado separators o similar). Esta lista define el orden y los \"puntos de corte\" que se utilizarán para dividir el texto.\n",
        "\n",
        "Podria servier esto para un RAG en el que tenemos un tipo de documento muy caractreistico, por ejemplo que los documentos contuvieran textos separados por \"---\"\n",
        "\n",
        "Veamos...\n",
        "\n",
        "(Prueba diferentes configuraciones de este codigo y observa los resultados)"
      ],
      "metadata": {
        "id": "Fx8eiKcZh3aV"
      }
    },
    {
      "cell_type": "code",
      "source": [
        "from langchain.text_splitter import RecursiveCharacterTextSplitter\n",
        "\n",
        "\n",
        "\n",
        "text =\"\"\"\n",
        "La inteligencia es la capacidad de adaptarse al cambio. - Stephen Hawking\n",
        "====\n",
        "La verdadera inteligencia no es el conocimiento, sino la imaginación. - Albert Einstein\n",
        "====\n",
        "\"La inteligencia consiste en la capacidad de resolver problemas.\" - Howard Gardner\n",
        "====\n",
        "\"La inteligencia es lo que usas cuando no sabes qué hacer.\" - Jean Piaget\n",
        "====\n",
        "\"La inteligencia es la habilidad de aprender de la experiencia.\" - Leonardo da Vinci\n",
        "====\n",
        "\"La inteligencia es la suma de todos tus sentidos.\" - Matshona Dhliwayo\n",
        "====\n",
        "\"La inteligencia sin ambición es un pájaro sin alas.\" - Salvador Dalí\n",
        "====\n",
        "\"La inteligencia es un don que te da la vida, pero depende de ti cultivarlo.\" - Anónimo\n",
        "====\n",
        "\"La inteligencia no es un privilegio, es una responsabilidad.\" - Anónimo\n",
        "====\n",
        "\"La inteligencia artificial nos hará cuestionar qué significa ser humano.\" - Yuval Noah Harari\n",
        "\"\"\"\n",
        "\n",
        "# Configuración personalizada de delimitadores\n",
        "custom_separators = [\"====\"]\n",
        "text_splitter = RecursiveCharacterTextSplitter(chunk_size = 100, chunk_overlap=0, separators=custom_separators)\n",
        "chunks = text_splitter.create_documents([text])\n",
        "\n",
        "for i,chunk in enumerate(chunks):\n",
        "    print(f\"Chunk {i}: {chunk} \")\n"
      ],
      "metadata": {
        "id": "e47S0x3jjcEs",
        "outputId": "cc7839f1-8a8c-4d49-f9d2-238b2a907542",
        "colab": {
          "base_uri": "https://localhost:8080/"
        }
      },
      "execution_count": 13,
      "outputs": [
        {
          "output_type": "stream",
          "name": "stdout",
          "text": [
            "Chunk 0: page_content='La inteligencia es la capacidad de adaptarse al cambio. - Stephen Hawking\n",
            "====' \n",
            "Chunk 1: page_content='La verdadera inteligencia no es el conocimiento, sino la imaginación. - Albert Einstein\n",
            "====' \n",
            "Chunk 2: page_content='\"La inteligencia consiste en la capacidad de resolver problemas.\" - Howard Gardner\n",
            "====' \n",
            "Chunk 3: page_content='\"La inteligencia es lo que usas cuando no sabes qué hacer.\" - Jean Piaget\n",
            "====' \n",
            "Chunk 4: page_content='\"La inteligencia es la habilidad de aprender de la experiencia.\" - Leonardo da Vinci\n",
            "====' \n",
            "Chunk 5: page_content='\"La inteligencia es la suma de todos tus sentidos.\" - Matshona Dhliwayo\n",
            "====' \n",
            "Chunk 6: page_content='\"La inteligencia sin ambición es un pájaro sin alas.\" - Salvador Dalí\n",
            "====' \n",
            "Chunk 7: page_content='\"La inteligencia es un don que te da la vida, pero depende de ti cultivarlo.\" - Anónimo\n",
            "====' \n",
            "Chunk 8: page_content='\"La inteligencia no es un privilegio, es una responsabilidad.\" - Anónimo\n",
            "====' \n",
            "Chunk 9: page_content='\"La inteligencia artificial nos hará cuestionar qué significa ser humano.\" - Yuval Noah Harari' \n"
          ]
        }
      ]
    },
    {
      "cell_type": "markdown",
      "source": [
        "Prueba a a trcear este texto"
      ],
      "metadata": {
        "id": "tm87GnG-e21m"
      }
    },
    {
      "cell_type": "code",
      "source": [
        "text = \"\"\"\n",
        "[frase]\n",
        "**El Comienzo del Viaje**\n",
        "En el corazón de un pueblo olvidado, donde las leyendas se entrelazan con la realidad, vivía Marina, una joven con una insaciable curiosidad. Desde pequeña, soñaba con explorar los confines de un mundo lleno de misterios y secretos, más allá de los límites de su tranquilo hogar.\n",
        "[/frase]\n",
        "[frase]**El Misterio del Bosque Encantado**\n",
        "Un día, Marina encontró un antiguo mapa en el desván de su abuela. El mapa, trazado a mano y salpicado de símbolos enigmáticos, señalaba la existencia de un bosque encantado, donde se decía que la naturaleza cobraba vida y las flores susurraban secretos olvidados. Decidida a descubrir la verdad, empacó sus cosas y partió hacia la aventura.\n",
        "[/frase]\n",
        "[frase]**Encuentros Sobrenaturales**\n",
        "A medida que avanzaba, el bosque se volvía cada vez más denso y misterioso. Entre los árboles centenarios, Marina se encontró con criaturas singulares: un zorro de pelaje plateado que parecía conocer todos los senderos, y un anciano roble que, según contaban, había sido testigo de los orígenes del mundo. Cada encuentro la llenaba de asombro y la impulsaba a seguir adelante, guiada por la esperanza y el eco de viejas leyendas.\n",
        "[/frase]\n",
        "[frase]**El Secreto Revelado**\n",
        "Finalmente, tras superar desafíos que parecían sacados de un sueño, Marina llegó a un claro iluminado por una luz dorada. Allí, en medio de un círculo de antiguas piedras, descubrió un relicario custodiado por una energía ancestral. El relicario contenía la clave para restaurar el equilibrio perdido entre la magia y la realidad, un legado destinado a cambiar el destino de su pueblo para siempre.\n",
        "[/frase]\n",
        "[frase]**El Regreso Transformado**\n",
        "Con el relicario en sus manos y el conocimiento adquirido en su travesía, Marina regresó a su hogar. La joven, ahora transformada por la experiencia, se convirtió en la guardiana de una nueva era, donde las fronteras entre lo cotidiano y lo extraordinario se difuminaban. Su historia inspiró a generaciones enteras a buscar la magia oculta en cada rincón del mundo.\n",
        "[/frase]\n",
        "\"\"\"\n",
        "\n",
        "\n",
        "from langchain.text_splitter import RecursiveCharacterTextSplitter\n",
        "\n",
        "custom_separators = [\"[frase]\"]  # Puedes agregar más niveles si lo necesitas\n",
        "\n",
        "text_splitter = RecursiveCharacterTextSplitter(\n",
        "    chunk_size=500,          # Tamaño máximo del fragmento (ajustable)\n",
        "    chunk_overlap=50,        # Solapamiento entre fragmentos\n",
        "    separators=custom_separators\n",
        ")\n",
        "\n",
        "\n",
        "chunks = text_splitter.split_text(text)\n",
        "for i, chunk in enumerate(chunks):\n",
        "    print(f\"Chunk {i+1} ------ :\\n{chunk}\\n\")\n"
      ],
      "metadata": {
        "id": "Yl7zhlWEe7Rl",
        "outputId": "10319b36-4f11-4235-a3d1-ad52c27d9012",
        "colab": {
          "base_uri": "https://localhost:8080/"
        }
      },
      "execution_count": 14,
      "outputs": [
        {
          "output_type": "stream",
          "name": "stdout",
          "text": [
            "Chunk 1 ------ :\n",
            "[frase]\n",
            "**El Comienzo del Viaje**\n",
            "En el corazón de un pueblo olvidado, donde las leyendas se entrelazan con la realidad, vivía Marina, una joven con una insaciable curiosidad. Desde pequeña, soñaba con explorar los confines de un mundo lleno de misterios y secretos, más allá de los límites de su tranquilo hogar.\n",
            "[/frase]\n",
            "\n",
            "Chunk 2 ------ :\n",
            "[frase]**El Misterio del Bosque Encantado**\n",
            "Un día, Marina encontró un antiguo mapa en el desván de su abuela. El mapa, trazado a mano y salpicado de símbolos enigmáticos, señalaba la existencia de un bosque encantado, donde se decía que la naturaleza cobraba vida y las flores susurraban secretos olvidados. Decidida a descubrir la verdad, empacó sus cosas y partió hacia la aventura.\n",
            "[/frase]\n",
            "\n",
            "Chunk 3 ------ :\n",
            "[frase]**Encuentros Sobrenaturales**\n",
            "A medida que avanzaba, el bosque se volvía cada vez más denso y misterioso. Entre los árboles centenarios, Marina se encontró con criaturas singulares: un zorro de pelaje plateado que parecía conocer todos los senderos, y un anciano roble que, según contaban, había sido testigo de los orígenes del mundo. Cada encuentro la llenaba de asombro y la impulsaba a seguir adelante, guiada por la esperanza y el eco de viejas leyendas.\n",
            "[/frase]\n",
            "\n",
            "Chunk 4 ------ :\n",
            "[frase]**El Secreto Revelado**\n",
            "Finalmente, tras superar desafíos que parecían sacados de un sueño, Marina llegó a un claro iluminado por una luz dorada. Allí, en medio de un círculo de antiguas piedras, descubrió un relicario custodiado por una energía ancestral. El relicario contenía la clave para restaurar el equilibrio perdido entre la magia y la realidad, un legado destinado a cambiar el destino de su pueblo para siempre.\n",
            "[/frase]\n",
            "\n",
            "Chunk 5 ------ :\n",
            "[frase]**El Regreso Transformado**\n",
            "Con el relicario en sus manos y el conocimiento adquirido en su travesía, Marina regresó a su hogar. La joven, ahora transformada por la experiencia, se convirtió en la guardiana de una nueva era, donde las fronteras entre lo cotidiano y lo extraordinario se difuminaban. Su historia inspiró a generaciones enteras a buscar la magia oculta en cada rincón del mundo.\n",
            "[/frase]\n",
            "\n"
          ]
        }
      ]
    },
    {
      "cell_type": "markdown",
      "source": [
        "# **Nivel 3: División Específica de Documentos**\n",
        "\n",
        "Subiendo por nuestra escalera de niveles, comencemos a manejar tipos de documentos que no sean prosa normal en un archivo .txt. ¿Qué pasa si tienes imágenes? ¿O un PDF? ¿O fragmentos de código?\n",
        "\n",
        "Nuestros dos primeros niveles no funcionarían muy bien para esto, por lo que necesitaremos encontrar una táctica diferente.\n",
        "\n",
        "Este nivel se trata de hacer que tu estrategia de troceado se ajuste a tus diferentes formatos de datos. Repasemos varios ejemplos de esto en acción.\n",
        "\n",
        "Los divisores de Markdown, Python y JS serán básicamente similares a Recursive Character, pero con diferentes separadores.\n",
        "\n",
        "### Markdown\n",
        "\n",
        "Puedes ver los divisores aqui: https://github.com/langchain-ai/langchain/blob/9ef2feb6747f5a69d186bd623b569ad722829a5e/libs/langchain/langchain/text_splitter.py#L1175\n",
        "\n",
        "Separators:\n",
        "```\n",
        "\\n#{1,6} - Split by new lines followed by a header (H1 through H6)\n",
        "```\\n - Code blocks\n",
        "\\n\\\\*\\\\*\\\\*+\\n - Horizontal Lines\n",
        "\\n---+\\n - Horizontal Lines\n",
        "\\n___+\\n - Horizontal Lines\n",
        "\\n\\n Double new lines\n",
        "\\n - New line\n",
        "\" \" - Spaces\n",
        "\"\" - Characte\n"
      ],
      "metadata": {
        "id": "jREnvfnCeSAB"
      }
    },
    {
      "cell_type": "code",
      "source": [
        "from langchain.text_splitter import MarkdownTextSplitter\n",
        "\n",
        "splitter = MarkdownTextSplitter(chunk_size = 600, chunk_overlap=0)\n",
        "\n",
        "text = \"\"\"\n",
        "# **Text Splitting**\n",
        "---\n",
        "El **Text Splitting** (o división de texto) es una etapa crítica en los sistemas de **Retrieval-Augmented Generation (RAG)**. Consiste en fragmentar documentos extensos en segmentos más pequeños y manejables (_chunks_) antes de indexarlos para su recuperación posterior. Su implementación incide directamente en la calidad de la recuperación de información y, por ende, en las respuestas generadas por el modelo.\n",
        "\n",
        "---\n",
        "\n",
        "### **¿Por qué es importante?**\n",
        "\n",
        "1.  **Equilibrio entre contexto y precisión**:\n",
        "\n",
        "    -   **Chunks demasiado grandes**: Pueden contener información redundante o irrelevante, lo que \"diluye\" el contexto clave y reduce la precisión del retrieval.\n",
        "\n",
        "    -   **Chunks demasiado pequeños**: Pierden contexto necesario para entender el significado completo (p. ej., una frase sin su párrafo asociado).\n",
        "\n",
        "    -   Un buen _splitting_ mantiene la coherencia semántica en cada segmento, facilitando que el sistema recupere los fragmentos más relevantes para una consulta.\n",
        "\n",
        "2.  **Compatibilidad con modelos de embedding**:\n",
        "\n",
        "    -   Los modelos de embedding (como SBERT o OpenAI) tienen límites óptimos de longitud de texto. Por ejemplo, un chunk de 512 tokens funciona bien con muchos codificadores, pero un texto más largo podría truncarse o perder información crítica.\n",
        "\n",
        "\"\"\"\n",
        "\n",
        "chunks = splitter.create_documents([text])\n",
        "for chunk in chunks:\n",
        "    print(chunk)\n",
        "    print(\"-----\")\n"
      ],
      "metadata": {
        "id": "39aO37i1MG7t",
        "outputId": "4957be4d-31e8-4d01-d38f-ea179ad0c2fd",
        "colab": {
          "base_uri": "https://localhost:8080/"
        }
      },
      "execution_count": 6,
      "outputs": [
        {
          "output_type": "stream",
          "name": "stdout",
          "text": [
            "page_content='# **Text Splitting**\n",
            "---\n",
            "El **Text Splitting** (o división de texto) es una etapa crítica en los sistemas de **Retrieval-Augmented Generation (RAG)**. Consiste en fragmentar documentos extensos en segmentos más pequeños y manejables (_chunks_) antes de indexarlos para su recuperación posterior. Su implementación incide directamente en la calidad de la recuperación de información y, por ende, en las respuestas generadas por el modelo.  \n",
            "\n",
            "---\n",
            "\n",
            "### **¿Por qué es importante?**'\n",
            "-----\n",
            "page_content='1.  **Equilibrio entre contexto y precisión**:\n",
            "    \n",
            "    -   **Chunks demasiado grandes**: Pueden contener información redundante o irrelevante, lo que \"diluye\" el contexto clave y reduce la precisión del retrieval.\n",
            "        \n",
            "    -   **Chunks demasiado pequeños**: Pierden contexto necesario para entender el significado completo (p. ej., una frase sin su párrafo asociado).\n",
            "        \n",
            "    -   Un buen _splitting_ mantiene la coherencia semántica en cada segmento, facilitando que el sistema recupere los fragmentos más relevantes para una consulta.'\n",
            "-----\n",
            "page_content='2.  **Compatibilidad con modelos de embedding**:\n",
            "    \n",
            "    -   Los modelos de embedding (como SBERT o OpenAI) tienen límites óptimos de longitud de texto. Por ejemplo, un chunk de 512 tokens funciona bien con muchos codificadores, pero un texto más largo podría truncarse o perder información crítica.'\n",
            "-----\n"
          ]
        }
      ]
    }
  ]
}