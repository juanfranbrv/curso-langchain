{
  "nbformat": 4,
  "nbformat_minor": 0,
  "metadata": {
    "colab": {
      "provenance": [],
      "authorship_tag": "ABX9TyMxu1rj/Q/PLXKmIr0+NFHb",
      "include_colab_link": true
    },
    "kernelspec": {
      "name": "python3",
      "display_name": "Python 3"
    },
    "language_info": {
      "name": "python"
    }
  },
  "cells": [
    {
      "cell_type": "markdown",
      "metadata": {
        "id": "view-in-github",
        "colab_type": "text"
      },
      "source": [
        "<a href=\"https://colab.research.google.com/github/juanfranbrv/curso-langchain/blob/main/Soluci%C3%B3n.%20Generador%20de%20Res%C3%BAmenes%20Inteligente.ipynb\" target=\"_parent\"><img src=\"https://colab.research.google.com/assets/colab-badge.svg\" alt=\"Open In Colab\"/></a>"
      ]
    },
    {
      "cell_type": "code",
      "execution_count": 10,
      "metadata": {
        "id": "PoT2cYJWCso8"
      },
      "outputs": [],
      "source": [
        "# Importar la librería `userdata` de Google Colab.\n",
        "# Esta librería se utiliza para acceder a datos de usuario almacenados de forma segura en el entorno de Colab.\n",
        "from google.colab import userdata\n",
        "\n",
        "# Obtener las claves API de diferentes servicios desde el almacenamiento seguro de Colab.\n",
        "OPENAI_API_KEY=userdata.get('OPENAI_API_KEY')\n",
        "GROQ_API_KEY=userdata.get('GROQ_API_KEY')\n",
        "GOOGLE_API_KEY=userdata.get('GOOGLE_API_KEY')\n",
        "HUGGINGFACEHUB_API_TOKEN=userdata.get('HUGGINGFACEHUB_API_TOKEN')\n",
        "\n",
        "# Instalar las librerías necesarias usando pip.\n",
        "# El flag `-qU` instala en modo silencioso (`-q`) y actualiza las librerías si ya están instaladas (`-U`).\n",
        "!pip install langchain -qU  # Instalar la librería principal de LangChain.\n",
        "\n",
        "# Instalar las integraciones de LangChain con diferentes proveedores de LLMs.\n",
        "!pip install langchain-openai -qU\n",
        "!pip install langchain-groq -qU\n",
        "!pip install langchain-google-genai -qU\n",
        "!pip install langchain-huggingface -qU\n",
        "\n",
        "# Importar las clases necesarias de LangChain para crear plantillas de prompt.\n",
        "# `ChatPromptTemplate` es la clase base para plantillas de chat.\n",
        "# `SystemMessagePromptTemplate` se usa para mensajes del sistema (instrucciones iniciales).\n",
        "# `HumanMessagePromptTemplate` se usa para mensajes del usuario.\n",
        "\n",
        "from langchain.prompts import ChatPromptTemplate, SystemMessagePromptTemplate, HumanMessagePromptTemplate\n",
        "\n",
        "# Importar las clases para interactuar con los diferentes LLMs a través de LangChain.\n",
        "from langchain_openai import ChatOpenAI\n",
        "from langchain_groq import ChatGroq\n",
        "from langchain_google_genai import ChatGoogleGenerativeAI\n",
        "from langchain_huggingface import HuggingFaceEndpoint\n",
        "\n",
        "\n",
        "from IPython.display import Markdown"
      ]
    },
    {
      "cell_type": "code",
      "source": [
        "llm = ChatOpenAI(model=\"gpt-4o\",\n",
        "                 api_key=OPENAI_API_KEY,\n",
        "                 temperature=0.7)"
      ],
      "metadata": {
        "id": "_QsfXYdnDQqs"
      },
      "execution_count": 4,
      "outputs": []
    },
    {
      "cell_type": "code",
      "source": [
        "# Definir las plantillas\n",
        "template_sistema = \"\"\"\\\n",
        "Eres un asistente experto en resumir textos largos. Tu tarea es generar dos tipos de resúmenes para el texto que recibas:\n",
        "\n",
        "1. Resumen breve: Un resumen conciso de 3 a 4 oraciones que capture las ideas principales del texto.\n",
        "2. Resumen detallado: Un resumen más extenso, de al menos un párrafo, que incluya detalles clave, ejemplos o puntos importantes del texto.\n",
        "\n",
        "Instrucciones:\n",
        "- Lee siempre el texto cuidadosamente.\n",
        "- Identifica las ideas principales y los detalles relevantes.\n",
        "- Genera primero el resumen breve y luego el resumen detallado.\n",
        "- Asegúrate de que ambos resúmenes sean claros, coherentes y fieles al contenido original.\n",
        "\n",
        "Ejemplo de formato de salida:\n",
        "Resumen breve:   El cambio climático es un desafío global que causa el aumento de temperaturas, el derretimiento de glaciares y la subida del nivel del mar. Sus efectos impactan negativamente en los ecosistemas y las comunidades humanas. Para mitigarlo, es crucial reducir las emisiones y adoptar energías renovables.\n",
        "Resumen detallado: El cambio climático representa uno de los problemas más urgentes de la actualidad, caracterizado por el aumento de las temperaturas globales, el derretimiento acelerado de los glaciares y el incremento del nivel del mar. Estos fenómenos tienen consecuencias graves, como la pérdida de biodiversidad, la destrucción de ecosistemas y el desplazamiento de comunidades humanas. Para enfrentar este desafío, es fundamental implementar medidas como la reducción de emisiones de gases de efecto invernadero, la transición hacia energías renovables y la adopción de prácticas sostenibles en la industria, la agricultura y otros sectores clave.\n",
        "\n",
        "\n",
        "\"\"\"\n",
        "\n",
        "template_usuario = \"\"\"\\\n",
        "Texto a resumir: {mensaje_usuario}\n",
        "\n",
        "\"\"\""
      ],
      "metadata": {
        "id": "NeV4GFftDTIL"
      },
      "execution_count": 5,
      "outputs": []
    },
    {
      "cell_type": "code",
      "source": [
        "# Crear el ChatPromptTemplate\n",
        "chat_prompt_template = ChatPromptTemplate.from_messages([\n",
        "    (\"system\", template_sistema),\n",
        "    (\"human\", template_usuario),\n",
        "])"
      ],
      "metadata": {
        "id": "dqyW-EAxFY4C"
      },
      "execution_count": 6,
      "outputs": []
    },
    {
      "cell_type": "code",
      "source": [
        "texto_input = input(\"Escribe aquí el texto a resumir\")"
      ],
      "metadata": {
        "colab": {
          "base_uri": "https://localhost:8080/"
        },
        "id": "ZEhSslbQGotL",
        "outputId": "79dd4e23-ba3d-4607-85fd-bb01c8de1ce9"
      },
      "execution_count": 12,
      "outputs": [
        {
          "name": "stdout",
          "output_type": "stream",
          "text": [
            "Escribe aquí el texto a resumirLa sociología es la ciencia social que se encarga del análisis científico de la sociedad humana o población regional. De manera sucinta se puede decir que esta estudia la sociedad humana, a los grupos humanos y las relaciones que forman la sociedad. Ello significa que la sociología analiza las relaciones (de producción, distribución, consumo, solidaridad, división del trabajo, etc.) que se establecen entre esos grupos humanos (la familia, los clubes, las pandillas, las asociaciones, las instituciones, etc.). En general pretende dar cuenta de las interacciones sociales, las instituciones, la producción y las formas de sociedades existentes.  En la sociología se utilizan metodologías de investigación interdisciplinarias para el análisis e interpretación, desde diversas perspectivas teóricas, de las causas y significados que motivan la aparición de diversas tendencias de comportamiento social. Mientras algunos sociólogos realizan investigaciones que pueden aplicarse directamente a la política social y el bienestar, otros se centran en refinar la comprensión de los procesos sociales. Abarca desde el nivel de microsociología de la interacción y las organizaciones, hasta el nivel macro de los sistemas y la estructura social.  Los diferentes enfoques tradicionales de la sociología incluyen estratificación social, clase social, movilidad social, religión, derecho y desviación social. Como todas las esferas de la actividad humana se ven afectadas por la interacción entre la estructura social y la agencia individual, la sociología ha ampliado gradualmente su enfoque a otros temas, como ambiente, salud, economía, instituciones penales, Internet, educación y el conocimiento científico, la criminología, entre otros.  Los orígenes de la sociología están asociados a los nombres de Alexis de Tocqueville, Ibn Jaldún, Karl Marx, Henri de Saint-Simon, Auguste Comte, Herbert Spencer, Émile Durkheim, Georg Simmel, Ferdinand Tönnies, Vilfredo Pareto, Max Weber, Alfred Schütz, Harriet Martineau, Jane Addams, Anna J. Cooper, Ida Wells-Barnett,Charlotte Perkins Gilman, Beatrice Webb y Marianne Weber.  Algunos de los sociólogos más destacados del siglo XX han sido Talcott Parsons, Erving Goffman, Robert K. Merton, Wright Mills, Michel Foucault, Pierre Bourdieu, Niklas Luhmann y Jürgen Habermas. En la actualidad, algunos de los sociólogos más citados son George Ritzer, Anthony Giddens, Manuel Castells, Bruno Latour, Zygmunt Bauman, Norbert Elías, James S. Coleman y Alain Touraine, entre otros.\n"
          ]
        }
      ]
    },
    {
      "cell_type": "code",
      "source": [
        "    # Formatear el prompt con el mensaje del usuario y el idioma\n",
        "    prompt = chat_prompt_template.format(\n",
        "        mensaje_usuario=texto_input,\n",
        "\n",
        "    )\n",
        "\n",
        "    # Obtener la respuesta del modelo\n",
        "    respuesta = llm.invoke(prompt)\n",
        "    display(Markdown(respuesta.content))"
      ],
      "metadata": {
        "colab": {
          "base_uri": "https://localhost:8080/",
          "height": 209
        },
        "id": "Xvifd1PDFsM4",
        "outputId": "b49f5ff3-9a35-4cd5-8929-30da0afea1d4"
      },
      "execution_count": 13,
      "outputs": [
        {
          "output_type": "display_data",
          "data": {
            "text/plain": [
              "<IPython.core.display.Markdown object>"
            ],
            "text/markdown": "Resumen breve: La sociología es la ciencia social que estudia la sociedad humana, analizando las relaciones e interacciones entre grupos e individuos. Utiliza metodologías interdisciplinarias para comprender tendencias de comportamiento social, abarcando desde la microsociología hasta la macrosociología. Los sociólogos investigan temas como estratificación social, religión, economía y más, contribuyendo tanto a la política social como al conocimiento teórico.\n\nResumen detallado: La sociología se dedica al análisis científico de la sociedad humana, enfocándose en las relaciones e interacciones que forman la estructura social. Esta disciplina examina las diversas formas de interacción social, las instituciones y las sociedades existentes, aplicando metodologías de investigación interdisciplinarias. Desde la microsociología, que estudia interacciones y organizaciones, hasta la macrosociología, que se centra en sistemas y estructuras sociales, los sociólogos investigan temas como la estratificación social, la movilidad, la religión y la desviación social. La sociología ha ampliado su enfoque a áreas como la economía, la salud, la educación y la criminología. Sus orígenes se asocian a pensadores como Alexis de Tocqueville, Karl Marx y Max Weber, mientras que en el siglo XX destacan figuras como Talcott Parsons y Michel Foucault. En la actualidad, sociólogos como Anthony Giddens y Zygmunt Bauman continúan influyendo en la disciplina."
          },
          "metadata": {}
        }
      ]
    }
  ]
}