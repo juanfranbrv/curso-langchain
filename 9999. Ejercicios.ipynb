{
  "nbformat": 4,
  "nbformat_minor": 0,
  "metadata": {
    "colab": {
      "provenance": [],
      "authorship_tag": "ABX9TyMWNgumm8NKtRnt6N8HWN01",
      "include_colab_link": true
    },
    "kernelspec": {
      "name": "python3",
      "display_name": "Python 3"
    },
    "language_info": {
      "name": "python"
    }
  },
  "cells": [
    {
      "cell_type": "markdown",
      "metadata": {
        "id": "view-in-github",
        "colab_type": "text"
      },
      "source": [
        "<a href=\"https://colab.research.google.com/github/juanfranbrv/curso-langchain/blob/main/9999.%20Ejercicios.ipynb\" target=\"_parent\"><img src=\"https://colab.research.google.com/assets/colab-badge.svg\" alt=\"Open In Colab\"/></a>"
      ]
    },
    {
      "cell_type": "markdown",
      "source": [
        "# **Soluciones a los ejercicios**\n",
        "\n",
        "Aquí encontraras las soluciones a los ejercicios propuesto en esta serie de cuadernos. En ocasiones, cuando la solucion es un script Python o Streamlit, solo esta el enunciado y el codigo se encuentra en un fichero aparte en GitHub."
      ],
      "metadata": {
        "id": "gWWXB5BXNKi7"
      }
    },
    {
      "cell_type": "markdown",
      "source": [
        "# **Preparando el entorno del cuaderno**\n",
        "---"
      ],
      "metadata": {
        "id": "pWIl4MBen6zv"
      }
    },
    {
      "cell_type": "code",
      "execution_count": 2,
      "metadata": {
        "id": "ihaYmy1rgga_"
      },
      "outputs": [],
      "source": [
        "%%capture --no-stderr\n",
        "\n",
        "# Importar la librería `userdata` de Google Colab.\n",
        "# Esta librería se utiliza para acceder a datos de usuario almacenados de forma segura en el entorno de Colab.\n",
        "from google.colab import userdata\n",
        "\n",
        "# Obtener las claves API de diferentes servicios desde el almacenamiento seguro de Colab.\n",
        "OPENAI_API_KEY=userdata.get('OPENAI_API_KEY')\n",
        "GROQ_API_KEY=userdata.get('GROQ_API_KEY')\n",
        "GOOGLE_API_KEY=userdata.get('GOOGLE_API_KEY')\n",
        "HUGGINGFACEHUB_API_TOKEN=userdata.get('HUGGINGFACEHUB_API_TOKEN')\n",
        "\n",
        "# Instalar las librerías necesarias usando pip.\n",
        "# El flag `-qU` instala en modo silencioso (`-q`) y actualiza las librerías si ya están instaladas (`-U`).\n",
        "%pip install langchain -qU  # Instalar la librería principal de LangChain.\n",
        "\n",
        "# Instalar las integraciones de LangChain con diferentes proveedores de LLMs.\n",
        "%pip install langchain-openai -qU\n",
        "%pip install langchain-groq -qU\n",
        "%pip install langchain-google-genai -qU\n",
        "%pip install langchain-huggingface -qU\n",
        "\n",
        "# Instalamos Rich para mejorar la salida\n",
        "%pip install rich -qU\n",
        "\n",
        "# Importar las clases necesarias de LangChain para crear plantillas de prompt.\n",
        "# `ChatPromptTemplate` es la clase base para plantillas de chat.\n",
        "# `SystemMessagePromptTemplate` se usa para mensajes del sistema (instrucciones iniciales).\n",
        "# `HumanMessagePromptTemplate` se usa para mensajes del usuario.\n",
        "from langchain.prompts import PromptTemplate, ChatPromptTemplate, SystemMessagePromptTemplate, HumanMessagePromptTemplate\n",
        "\n",
        "# Importar las clases para interactuar con los diferentes LLMs a través de LangChain.\n",
        "from langchain_openai import ChatOpenAI\n",
        "from langchain_groq import ChatGroq\n",
        "from langchain_google_genai import ChatGoogleGenerativeAI\n",
        "from langchain_huggingface import HuggingFaceEndpoint\n",
        "\n",
        "# Importamos las librerias para formatear mejor la salida\n",
        "from IPython.display import Markdown, display\n",
        "from rich import print as rprint"
      ]
    },
    {
      "cell_type": "markdown",
      "source": [
        "# **2. Prompts e Ingeniería de Prompts dentro de LangChain**\n",
        "---"
      ],
      "metadata": {
        "id": "pM-MqUJrMouM"
      }
    },
    {
      "cell_type": "markdown",
      "source": [
        "## **👨🏻‍🏫  Ejercicio 2.1: Crea tu propio PromptTemplate**\n",
        "\n",
        "**Objetivo**  \n",
        "\n",
        "Diseñar un `PromptTemplate` que reciba variables para traducir un texto de un idioma a otro, especificando además el estilo de traducción. Luego, pasar este prompt a un LLM para obtener el resultado y verificar su eficacia.\n",
        "\n",
        "**Instrucciones**\n",
        "\n",
        "1. **Crea un PromptTemplate** con **tres** variables:\n",
        "    \n",
        "    - `{idioma_origen}`: El idioma original en el que está el texto.\n",
        "    - `{idioma_destino}`: El idioma al que se va a traducir.\n",
        "    - `{texto_original}`: El texto que se quiere traducir.\n",
        "2. **Incluye** en tu plantilla alguna instrucción sobre el **estilo** o **tono** de la traducción. Por ejemplo, podrías pedir que sea “formal” o “informal”.\n",
        "    \n",
        "3. **Crea** el prompt final usando `.format(...)` y pásaselo a un LLM de tu elección. Obtén la respuesta y **muéstrala** en pantalla.\n",
        "    \n",
        "4. (Opcional) **Experimenta** con distintos valores de _temperature_ o _top\\_p_ (dependiendo del LLM que uses) para comparar la **consistencia** de la traducción.\n",
        "\n",
        "### Resuelve el ejercicio en este cuaderno. Una solucion la puedes encontrar en el repositorio de esta serie de cuadernos.\n",
        "https://github.com/juanfranbrv/curso-langchain"
      ],
      "metadata": {
        "id": "VDv9qxAWRh4i"
      }
    },
    {
      "cell_type": "code",
      "source": [
        "# Faltaaaaa"
      ],
      "metadata": {
        "id": "CQa8iipcWi8T"
      },
      "execution_count": null,
      "outputs": []
    },
    {
      "cell_type": "markdown",
      "source": [
        "## **👨🏻‍🏫 Ejercicio 2.2: Few-Shot Prompting para Traducción Creativa**\n",
        "\n",
        "El reto consiste en usar la clase FewShotPromptTemplate para traducir oraciones del español al inglés con un estilo específico, incorporando ejemplos previos que sirvan de guía para el LLM.  \n",
        "\n",
        "### **Instrucciones**\n",
        "\n",
        "1. **Crea una lista de ejemplos** de traducción que contengan:\n",
        "    \n",
        "    - La frase de entrada en español (clave: `\"input\"`).\n",
        "    - Su traducción al inglés, **pero con cierto estilo o “sabor”** (clave: `\"output\"`).\n",
        "        - Por ejemplo, podrías elegir que la traducción sea **muy “entusiasta”** o **tenga un tono humorístico**.\n",
        "2. **Diseña un `PromptTemplate`** para mostrar cada ejemplo con un formato claro. Algo así como:\n",
        "    \n",
        "    python\n",
        "    \n",
        "    Copiar código\n",
        "    \n",
        "    `\"Oración original: {input}\\nTraducción estilizada: {output}\\n\"`\n",
        "    \n",
        "    (puedes ajustar el texto a tu preferencia).\n",
        "    \n",
        "3. **Define** el `prefix` y el `suffix` de tu `FewShotPromptTemplate`:\n",
        "    \n",
        "    - El `prefix` debe _explicar_ que el LLM es un traductor con cierto estilo (por ejemplo, “traductor humorístico” o “traductor formal”).\n",
        "    - El `suffix` debe contener la **nueva frase** a traducir (`{frase_nueva}`) y especificar que se aplique el mismo estilo.\n",
        "4. **Crea** la instancia de `FewShotPromptTemplate` con:\n",
        "    \n",
        "    - `examples`: tu lista de ejemplos.\n",
        "    - `example_prompt`: tu plantilla de ejemplo.\n",
        "    - `prefix`, `suffix`, `example_separator`, etc.\n",
        "5. **Usa `.format()`** para generar el prompt final, pasando la nueva frase a traducir en la variable `{frase_nueva}`.\n",
        "    \n",
        "6. **Envía** ese prompt a un LLM (puede ser `ChatOpenAI`, `ChatGroq` o cualquier otro). Muestra la respuesta que obtienes.\n",
        "    \n",
        "7. (Opcional) **Experimenta** con distintos estilos (más formal, más bromista, etc.) para ver cómo cambian las traducciones.\n",
        "\n",
        "8. (Opcional). Puedes incluir el estilo de traducción como una varibale dinámica del prompt ?"
      ],
      "metadata": {
        "id": "Jhd_bZrReiqD"
      }
    },
    {
      "cell_type": "code",
      "source": [
        "from langchain import FewShotPromptTemplate, PromptTemplate\n",
        "\n",
        "# 1. Ejemplos\n",
        "ejemplos = [\n",
        "    {\n",
        "        \"input\": \"Buenos días, ¿cómo amaneciste?\",\n",
        "        \"output\": \"Good morning, how did you wake up, buddy? (super friendly tone)\"\n",
        "    },\n",
        "    {\n",
        "        \"input\": \"¿Quieres salir a correr más tarde?\",\n",
        "        \"output\": \"Do you want to go for a run later, pal? (energetic style)\"\n",
        "    }\n",
        "]\n",
        "\n",
        "# 2. Plantilla de ejemplo\n",
        "ejemplo_plantilla = \"\"\"\n",
        "Oración original: {input}\n",
        "Traducción con estilo: {output}\n",
        "\"\"\"\n",
        "\n",
        "example_prompt = PromptTemplate(\n",
        "    input_variables=[\"input\", \"output\"],\n",
        "    template=ejemplo_plantilla\n",
        ")\n",
        "\n",
        "# 3. Prefijo y Sufijo\n",
        "prefix_text = \"\"\"Eres un traductor que siempre usa un tono muy amigable y entusiasta.\n",
        "Aquí tienes algunos ejemplos de cómo traduces del español al inglés:\n",
        "\"\"\"\n",
        "suffix_text = \"\"\"\n",
        "Ahora quiero que traduzcas la siguiente frase con el mismo tono amistoso:\n",
        "Oración: {frase_nueva}\n",
        "Traducción:\n",
        "\"\"\"\n",
        "\n",
        "# 4. FewShotPromptTemplate\n",
        "few_shot_prompt = FewShotPromptTemplate(\n",
        "    examples=ejemplos,\n",
        "    example_prompt=example_prompt,\n",
        "    prefix=prefix_text,\n",
        "    suffix=suffix_text,\n",
        "    input_variables=[\"frase_nueva\"],\n",
        "    example_separator=\"\\n---\\n\"\n",
        ")\n",
        "\n",
        "# 5. Formateo del prompt\n",
        "prompt_final = few_shot_prompt.format(frase_nueva=\"¡Hola! ¿Listo para la aventura de hoy?\")\n",
        "\n",
        "# 6. (Pseudo-código) Llamada al LLM\n",
        "# response = llm.invoke(prompt_final)\n",
        "# print(response.content)\n",
        "\n"
      ],
      "metadata": {
        "id": "xWHO02kHYnvs"
      },
      "execution_count": null,
      "outputs": []
    },
    {
      "cell_type": "markdown",
      "source": [
        "##**👨🏻‍🏫 Ejercicio 2.3: Análisis de Traducciones con Modelos de Lenguaje**\n",
        "\n",
        "En este reto, tu tarea es desarrollar un programa que utilice un modelo de lenguaje (LLM) para analizar una traducción proporcionada, identificar errores comunes y sugerir correcciones. Este ejercicio se centra en el uso de herramientas como `ChatPromptTemplate` para interactuar con el modelo, configurando un contexto claro y proporcionando instrucciones específicas.\n",
        "\n",
        "#### Objetivo:\n",
        "\n",
        "El programa deberá:\n",
        "\n",
        "1. **Configurar el contexto del modelo**:\n",
        "    \n",
        "    - El modelo debe actuar como un experto en revisión de traducciones, especializado en identificar errores lingüísticos comunes.\n",
        "2. **Procesar los datos de entrada**:\n",
        "    \n",
        "    - Incluir dos textos: uno original en español y su correspondiente traducción al inglés.\n",
        "    - Los textos pueden contener errores deliberados, como falsos cognados, estructuras gramaticales incorrectas o problemas de terminología.\n",
        "3. **Realizar el análisis**:\n",
        "    \n",
        "    - Utilizar el LLM para:\n",
        "        - Detectar errores en la traducción.\n",
        "        - Sugerir correcciones claras para cada error identificado.\n",
        "        - Explicar brevemente cada decisión de corrección.\n",
        "4. **Mostrar los resultados**:\n",
        "    \n",
        "    - Presentar un informe que incluya:\n",
        "        - Los errores identificados.\n",
        "        - Las correcciones sugeridas.\n",
        "        - Una breve justificación de las decisiones tomadas.\n",
        "\n",
        "#### Requisitos Técnicos:\n",
        "\n",
        "- Utilizar `ChatPromptTemplate` para configurar los mensajes del sistema y del usuario.\n",
        "- Configurar un modelo como `ChatOpenAI` o equivalente para realizar la tarea.\n",
        "- Garantizar que el contexto y las instrucciones proporcionadas al modelo sean claras y específicas.\n",
        "\n",
        "#### Entrada del Programa:\n",
        "\n",
        "- **Texto original** (en español): Un párrafo breve que actúe como base para la traducción.\n",
        "- **Texto traducido** (en inglés): La traducción del texto original, que puede contener errores intencionados.\n",
        "\n",
        "#### Salida Esperada:\n",
        "\n",
        "- Un análisis detallado en el que se muestren:\n",
        "    - Los errores identificados (e.g., falsos cognados, problemas de fluidez o precisión).\n",
        "    - Las correcciones sugeridas para cada error.\n",
        "    - Explicaciones justificando las correcciones realizadas.\n",
        "\n",
        "#### Ejemplo:\n",
        "\n",
        "Entrada:\n",
        "\n",
        "- Texto original (Español):  \n",
        "    \"El director de la empresa estaba consternado por la situación, pero expresó su determinación de buscar soluciones.\"\n",
        "    \n",
        "- Traducción (Inglés):  \n",
        "    \"The director of the company was constipated about the situation, but expressed his determination to look for solutions.\"\n",
        "    \n",
        "\n",
        "Salida esperada:\n",
        "\n",
        "1. **Error**: \"constipated\" no es una traducción adecuada de \"consternado\".\n",
        "    \n",
        "    - **Corrección sugerida**: \"dismayed\".\n",
        "    - **Explicación**: \"Constipated\" es un falso cognado y se refiere a un problema físico, no emocional.\n",
        "2. **Error**: Problema menor en la frase \"look for solutions\" que podría ser más formal.\n",
        "    \n",
        "    - **Corrección sugerida**: \"seek solutions\".\n",
        "    - **Explicación**: \"Seek\" es un término más formal y adecuado para un contexto empresarial.\n"
      ],
      "metadata": {
        "id": "Drkkgmd4uXm_"
      }
    },
    {
      "cell_type": "code",
      "source": [
        "from langchain.prompts import ChatPromptTemplate, SystemMessagePromptTemplate, HumanMessagePromptTemplate\n",
        "from langchain_openai import ChatOpenAI\n",
        "from langchain_groq import ChatGroq\n",
        "\n",
        "# Claves de API (asegúrate de tenerlas en Secretos)\n",
        "# Configurar los modelos\n",
        "llm1 = ChatOpenAI(model=\"gpt-4o-mini\", api_key=OPENAI_API_KEY)\n",
        "llm2 = ChatGroq(model=\"llama-3.3-70b-versatile\", api_key=GROQ_API_KEY)\n",
        "\n",
        "# Definir el reto\n",
        "print(\"Reto de programación:\")\n",
        "print(\"Desarrolla un programa que utilice un LLM para analizar una traducción proporcionada, \"\n",
        "      \"identificar posibles errores y sugerir correcciones.\")\n",
        "\n",
        "# Definir las plantillas\n",
        "template_sistema = \"\"\"\\\n",
        "Eres un experto en traducción especializado en revisar textos traducidos.\n",
        "Identificas errores comunes como falsos cognados, estructuras gramaticales incorrectas y falta de precisión terminológica.\n",
        "Proporciona sugerencias claras para corregirlos.\n",
        "\"\"\"\n",
        "\n",
        "template_usuario = \"\"\"\\\n",
        "Aquí tienes una traducción para analizar:\n",
        "\n",
        "Texto original (Español):\n",
        "{texto_original}\n",
        "\n",
        "Traducción (Inglés):\n",
        "{texto_traducido}\n",
        "\n",
        "Por favor, analiza los errores comunes y sugiere correcciones.\n",
        "\"\"\"\n",
        "\n",
        "# Texto de ejemplo\n",
        "texto_original = \"\"\"\\\n",
        "El director de la empresa estaba consternado por la situación, pero expresó su determinación de buscar soluciones.\n",
        "\"\"\"\n",
        "texto_traducido = \"\"\"\\\n",
        "The director of the company was constipated about the situation, but expressed his determination to look for solutions.\n",
        "\"\"\"\n",
        "\n",
        "# Crear el ChatPromptTemplate\n",
        "chat_prompt_template = ChatPromptTemplate.from_messages([\n",
        "    SystemMessagePromptTemplate.from_template(template_sistema),\n",
        "    HumanMessagePromptTemplate.from_template(template_usuario),\n",
        "])\n",
        "\n",
        "# Formatear el prompt con los textos\n",
        "prompt = chat_prompt_template.format(\n",
        "    texto_original=texto_original,\n",
        "    texto_traducido=texto_traducido\n",
        ")\n",
        "\n",
        "# Mostramos el prompt de mensajes construido\n",
        "print(\"El prompt de mensajes enviado es:\")\n",
        "print(prompt)\n",
        "\n",
        "# Invocamos los modelos, pasandoles los mensajes\n",
        "respuesta_openai = llm1.invoke(prompt)\n",
        "respuesta_groq = llm2.invoke(prompt)\n",
        "\n",
        "# Mostramos los resultados\n",
        "print(\"\\nTraducción y análisis con ChatOpenAI:\")\n",
        "print(respuesta_openai.content)\n",
        "\n",
        "print(\"\\nTraducción y análisis con ChatGroq:\")\n",
        "print(respuesta_groq.content)\n"
      ],
      "metadata": {
        "id": "QuTmaTx2vKFC"
      },
      "execution_count": null,
      "outputs": []
    },
    {
      "cell_type": "markdown",
      "source": [
        "# **3. Output parsers**\n",
        "---\n",
        "\n"
      ],
      "metadata": {
        "id": "iDVbCGW6nUc_"
      }
    },
    {
      "cell_type": "markdown",
      "source": [
        "## **👨🏻‍🏫 Ejercicio 3.1: Extractor de Información de Películas**\n",
        "\n",
        "**Objetivo**: Crear un sistema que extraiga información estructurada sobre películas a partir de una consulta simple.\n",
        "\n",
        "**Descripción**: Implementa un programa utilizando LangChain y `StructuredOutputParser` que tome como entrada el nombre de una película y genere una ficha técnica con información relevante como título, director, género, año, puntuación y resumen.\n",
        "\n",
        "**Requisitos**:\n",
        "\n",
        "1. Utilizar `ResponseSchema` para definir la estructura de los campos a extraer\n",
        "2. Implementar un `StructuredOutputParser` para procesar la respuesta del modelo\n",
        "3. Crear un `PromptTemplate` que incluya las instrucciones de formato\n",
        "4. Integrar el sistema con un modelo de lenguaje (ChatOpenAI o ChatGroq)\n",
        "5. Procesar y mostrar la información de manera estructurada\n",
        "\n",
        "**Entregable**: Un script de Python que, al ejecutarse con el nombre de una película como entrada, genere una ficha técnica estructurada con la información solicitada.\n",
        "\n",
        "**Nivel**: Medio\n",
        "\n",
        "**Aplicación práctica**: Este sistema puede ser útil para crear bases de datos de películas, generar fichas técnicas automáticas o construir sistemas de recomendación basados en atributos específicos de las películas.\n",
        "\n",
        "### Resuelve el ejerciccio en este cuaderno. Una solucion la puedes encontrar en el repositorio de esta serie de cuadernos.\n",
        "https://github.com/juanfranbrv/curso-langchain"
      ],
      "metadata": {
        "id": "vKVE9E5QJEmW"
      }
    },
    {
      "cell_type": "code",
      "source": [
        "from langchain.output_parsers import StructuredOutputParser, ResponseSchema\n",
        "\n",
        "#Creamos un esquema de respuesta (ResponseSchema) para cada campo que queremos extraer:\n",
        "esquema_respuesta = [\n",
        "            ResponseSchema(name=\"titulo\", description=\"Titulo de la película.\"),\n",
        "            ResponseSchema(name=\"director\", description=\"Nombre del director de la película\"),\n",
        "            ResponseSchema(name=\"genero\", description=\"Genero cinematografico de  la pelicula\"),\n",
        "            ResponseSchema(name=\"año\", description=\"Año de estreno de la película\"),\n",
        "            ResponseSchema(name=\"puntuacion\", description=\"Número de estrellas 1,2,3,4,5\"),\n",
        "            ResponseSchema(name=\"resumen\", description=\"Resumen de la crítica de la película\")\n",
        "                    ]\n",
        "\n",
        "# Crear el StructuredOutputParser\n",
        "output_parser = StructuredOutputParser.from_response_schemas(esquema_respuesta)\n",
        "\n",
        "# Obtener el formato de instrucciones del parser\n",
        "format_instructions = output_parser.get_format_instructions()\n",
        "format_instructions\n",
        "\n",
        "# Crear el prompt\n",
        "plantilla = \"\"\"\n",
        "        Genera la siguiente informacion sobre esta {pelicula}:\n",
        "            Titulo\n",
        "            Director\n",
        "            Genero\n",
        "            Puntuacion\n",
        "\n",
        "        solo devuelve la informacion solicitada en el formato indicado\n",
        "\n",
        "\n",
        "        {format_instructions}\n",
        "        \"\"\"\n",
        "\n",
        "# Generar el prompt para el LLM\n",
        "prompt_template = PromptTemplate(\n",
        "    template=plantilla,\n",
        "    input_variables=[\"pelicula\"],\n",
        "    partial_variables={\"format_instructions\": format_instructions}\n",
        ")\n",
        "\n",
        "pelicula = \"El señor de los anillos\"\n",
        "prompt = prompt_template.format(pelicula=pelicula)\n",
        "\n",
        "\n",
        "# Instanciamos el modelo (comenta el que no desees usar)\n",
        "modelo = ChatOpenAI(model=\"gpt-4o-mini\", api_key=OPENAI_API_KEY, temperature=0.7)\n",
        "modelo = ChatGroq(model=\"llama-3.3-70b-versatile\", api_key=GROQ_API_KEY,temperature=0.7)\n",
        "\n",
        "respuesta = modelo.invoke(prompt).content\n",
        "\n",
        "# Parseamos la respuesta con el parser de salida\n",
        "respuesta_formateada = output_parser.parse(respuesta)\n",
        "\n",
        "print(respuesta)\n",
        "rprint(type(respuesta))\n",
        "rprint(\"---\")\n",
        "rprint(respuesta_formateada)\n",
        "rprint(type(respuesta_formateada))\n",
        "\n"
      ],
      "metadata": {
        "id": "9uvJFFGTKQvi",
        "outputId": "8638cdf7-ca68-45f7-e6f2-b9e308e28b7e",
        "colab": {
          "base_uri": "https://localhost:8080/",
          "height": 395
        }
      },
      "execution_count": null,
      "outputs": [
        {
          "output_type": "stream",
          "name": "stdout",
          "text": [
            "```json\n",
            "{\n",
            "\t\"titulo\": \"El Señor de los Anillos\",\n",
            "\t\"director\": \"Peter Jackson\",\n",
            "\t\"genero\": \"Aventura, Fantasía\",\n",
            "\t\"año\": \"2001\",\n",
            "\t\"puntuacion\": \"5\",\n",
            "\t\"resumen\": \"Una adaptación épica y emocionante de la novela de J.R.R. Tolkien, con una narrativa rica y personajes bien desarrollados.\"\n",
            "}\n",
            "```\n"
          ]
        },
        {
          "output_type": "display_data",
          "data": {
            "text/plain": [
              "\u001b[1m<\u001b[0m\u001b[1;95mclass\u001b[0m\u001b[39m \u001b[0m\u001b[32m'str'\u001b[0m\u001b[1m>\u001b[0m\n"
            ],
            "text/html": [
              "<pre style=\"white-space:pre;overflow-x:auto;line-height:normal;font-family:Menlo,'DejaVu Sans Mono',consolas,'Courier New',monospace\"><span style=\"font-weight: bold\">&lt;</span><span style=\"color: #ff00ff; text-decoration-color: #ff00ff; font-weight: bold\">class</span><span style=\"color: #000000; text-decoration-color: #000000\"> </span><span style=\"color: #008000; text-decoration-color: #008000\">'str'</span><span style=\"font-weight: bold\">&gt;</span>\n",
              "</pre>\n"
            ]
          },
          "metadata": {}
        },
        {
          "output_type": "display_data",
          "data": {
            "text/plain": [
              "---\n"
            ],
            "text/html": [
              "<pre style=\"white-space:pre;overflow-x:auto;line-height:normal;font-family:Menlo,'DejaVu Sans Mono',consolas,'Courier New',monospace\">---\n",
              "</pre>\n"
            ]
          },
          "metadata": {}
        },
        {
          "output_type": "display_data",
          "data": {
            "text/plain": [
              "\u001b[1m{\u001b[0m\n",
              "    \u001b[32m'titulo'\u001b[0m: \u001b[32m'El Señor de los Anillos'\u001b[0m,\n",
              "    \u001b[32m'director'\u001b[0m: \u001b[32m'Peter Jackson'\u001b[0m,\n",
              "    \u001b[32m'genero'\u001b[0m: \u001b[32m'Aventura, Fantasía'\u001b[0m,\n",
              "    \u001b[32m'año'\u001b[0m: \u001b[32m'2001'\u001b[0m,\n",
              "    \u001b[32m'puntuacion'\u001b[0m: \u001b[32m'5'\u001b[0m,\n",
              "    \u001b[32m'resumen'\u001b[0m: \u001b[32m'Una adaptación épica y emocionante de la novela de J.R.R. Tolkien, con una narrativa rica y \u001b[0m\n",
              "\u001b[32mpersonajes bien desarrollados.'\u001b[0m\n",
              "\u001b[1m}\u001b[0m\n"
            ],
            "text/html": [
              "<pre style=\"white-space:pre;overflow-x:auto;line-height:normal;font-family:Menlo,'DejaVu Sans Mono',consolas,'Courier New',monospace\"><span style=\"font-weight: bold\">{</span>\n",
              "    <span style=\"color: #008000; text-decoration-color: #008000\">'titulo'</span>: <span style=\"color: #008000; text-decoration-color: #008000\">'El Señor de los Anillos'</span>,\n",
              "    <span style=\"color: #008000; text-decoration-color: #008000\">'director'</span>: <span style=\"color: #008000; text-decoration-color: #008000\">'Peter Jackson'</span>,\n",
              "    <span style=\"color: #008000; text-decoration-color: #008000\">'genero'</span>: <span style=\"color: #008000; text-decoration-color: #008000\">'Aventura, Fantasía'</span>,\n",
              "    <span style=\"color: #008000; text-decoration-color: #008000\">'año'</span>: <span style=\"color: #008000; text-decoration-color: #008000\">'2001'</span>,\n",
              "    <span style=\"color: #008000; text-decoration-color: #008000\">'puntuacion'</span>: <span style=\"color: #008000; text-decoration-color: #008000\">'5'</span>,\n",
              "    <span style=\"color: #008000; text-decoration-color: #008000\">'resumen'</span>: <span style=\"color: #008000; text-decoration-color: #008000\">'Una adaptación épica y emocionante de la novela de J.R.R. Tolkien, con una narrativa rica y </span>\n",
              "<span style=\"color: #008000; text-decoration-color: #008000\">personajes bien desarrollados.'</span>\n",
              "<span style=\"font-weight: bold\">}</span>\n",
              "</pre>\n"
            ]
          },
          "metadata": {}
        },
        {
          "output_type": "display_data",
          "data": {
            "text/plain": [
              "\u001b[1m<\u001b[0m\u001b[1;95mclass\u001b[0m\u001b[39m \u001b[0m\u001b[32m'dict'\u001b[0m\u001b[1m>\u001b[0m\n"
            ],
            "text/html": [
              "<pre style=\"white-space:pre;overflow-x:auto;line-height:normal;font-family:Menlo,'DejaVu Sans Mono',consolas,'Courier New',monospace\"><span style=\"font-weight: bold\">&lt;</span><span style=\"color: #ff00ff; text-decoration-color: #ff00ff; font-weight: bold\">class</span><span style=\"color: #000000; text-decoration-color: #000000\"> </span><span style=\"color: #008000; text-decoration-color: #008000\">'dict'</span><span style=\"font-weight: bold\">&gt;</span>\n",
              "</pre>\n"
            ]
          },
          "metadata": {}
        }
      ]
    },
    {
      "cell_type": "markdown",
      "source": [
        "## 👨🏻‍🏫 **Ejercicio 3.2: Extractor de información personal de un texto**\n",
        "\n",
        "**Objetivo**:  \n",
        "Crear un programa que **extraiga información estructurada** de un texto utilizando `with_structured_output()`. La información a extraer incluye:\n",
        "\n",
        "- Nombre completo\n",
        "    \n",
        "- Edad (número entero)\n",
        "    \n",
        "- Población (ciudad o país)\n",
        "    \n",
        "- Correo electrónico\n",
        "    \n",
        "- Lista de información adicional\n",
        "\n",
        "\n",
        "**Requerimientos**:\n",
        "\n",
        "1. **Esquema Pydantic**:  \n",
        "    Define una clase `InformacionExtraida` usando `pydantic.BaseModel` con los campos solicitados y sus descripciones.\n",
        "    \n",
        "2. **Prompt Template**:  \n",
        "    Crea un prompt que indique al modelo de lenguaje qué información extraer y en qué formato.\n",
        "    \n",
        "3. **Modelo con salida estructurada**:  \n",
        "    Usa `with_structured_output()` para configurar el modelo y garantizar que la salida cumpla con el esquema definido.\n",
        "    \n",
        "4. **Pruebas**:  \n",
        "    Ejecuta el programa con el texto de ejemplo y muestra los resultados estructurados.\n",
        "\n",
        "### Resuelve el ejercicio en este cuaderno. Una solucion la puedes encontrar en el repositorio de esta serie de cuadernos.\n",
        "https://github.com/juanfranbrv/curso-langchain"
      ],
      "metadata": {
        "id": "vtA1eMcAOiPG"
      }
    },
    {
      "cell_type": "code",
      "source": [
        "from typing import List\n",
        "from pydantic import BaseModel, Field\n",
        "\n",
        "\n",
        "class InformacionExtraida(BaseModel):\n",
        "    nombre: str = Field(description=\"Nombre completo de la persona\")\n",
        "    edad: int = Field(description=\"Edad de la persona\")\n",
        "    poblacion: str = Field(description=\"Ciudad o país de residencia\")\n",
        "    correo: str = Field(description=\"Correo electrónico válido\")\n",
        "    otros: List[str] = Field(description=\"Lista de información adicional relevante\")\n",
        "\n",
        "\n",
        "plantilla = \"\"\"\n",
        "Extrae esta información del texto:\n",
        "- Nombre completo\n",
        "- Edad (número entero)\n",
        "- Población (ciudad/país)\n",
        "- Correo electrónico\n",
        "- Otra información relevante (lista)\n",
        "\n",
        "Texto: {texto}\n",
        "\n",
        "Solo devuelve la información solicitada, nada más.\n",
        "\"\"\"\n",
        "\n",
        "prompt_template = PromptTemplate(\n",
        "    template=plantilla,\n",
        "    input_variables=[\"texto\"]\n",
        ")\n",
        "\n",
        "# Instanciamos el modelo (comenta el que no desees usar)\n",
        "modelo = ChatOpenAI(model=\"gpt-4o-mini\", api_key=OPENAI_API_KEY, temperature=0.7)\n",
        "# modelo = ChatGroq(model=\"llama-3.3-70b-versatile\", api_key=GROQ_API_KEY,temperature=0.7)\n",
        "\n",
        "modelo_struct = modelo.with_structured_output(InformacionExtraida)\n",
        "\n",
        "\n",
        "texto_ejemplo = \"\"\"\n",
        "Hola, soy Carlos Pérez, tengo 28 años.\n",
        "Vivo en Buenos Aires y mi email es carlos@example.com.\n",
        "Trabajo como ingeniero y me gusta el fútbol.\n",
        "\"\"\"\n",
        "\n",
        "prompt = prompt_template.format(texto=texto_ejemplo)\n",
        "resultado = modelo_struct.invoke(prompt)\n",
        "\n",
        "rprint(resultado)\n",
        "rprint(type(resultado))\n",
        "print(\"\\n\\n\")\n",
        "\n",
        "\n",
        "# Uso del resultado estructurado\n",
        "print(f\"Nombre: {resultado.nombre}\")\n",
        "print(f\"Edad: {resultado.edad}\")\n",
        "print(f\"Población: {resultado.poblacion}\")\n",
        "print(f\"Correo: {resultado.correo}\")\n",
        "print(\"Otros:\")\n",
        "for otro in resultado.otros:\n",
        "    print(f\"  - {otro}\")\n"
      ],
      "metadata": {
        "id": "uUVZekza1nRH",
        "colab": {
          "base_uri": "https://localhost:8080/",
          "height": 190
        },
        "outputId": "3b4a441b-b4e4-4d65-af7d-8e95a1302f37"
      },
      "execution_count": null,
      "outputs": [
        {
          "output_type": "display_data",
          "data": {
            "text/plain": [
              "\u001b[1;35mInformacionExtraida\u001b[0m\u001b[1m(\u001b[0m\u001b[33mnombre\u001b[0m=\u001b[32m'Pedro'\u001b[0m, \u001b[33medad\u001b[0m=\u001b[1;36m0\u001b[0m, \u001b[33mpoblacion\u001b[0m=\u001b[32m''\u001b[0m, \u001b[33mcorreo\u001b[0m=\u001b[32m'pedro@test.com'\u001b[0m, \u001b[33motros\u001b[0m=\u001b[1m[\u001b[0m\u001b[1m]\u001b[0m\u001b[1m)\u001b[0m\n"
            ],
            "text/html": [
              "<pre style=\"white-space:pre;overflow-x:auto;line-height:normal;font-family:Menlo,'DejaVu Sans Mono',consolas,'Courier New',monospace\"><span style=\"color: #800080; text-decoration-color: #800080; font-weight: bold\">InformacionExtraida</span><span style=\"font-weight: bold\">(</span><span style=\"color: #808000; text-decoration-color: #808000\">nombre</span>=<span style=\"color: #008000; text-decoration-color: #008000\">'Pedro'</span>, <span style=\"color: #808000; text-decoration-color: #808000\">edad</span>=<span style=\"color: #008080; text-decoration-color: #008080; font-weight: bold\">0</span>, <span style=\"color: #808000; text-decoration-color: #808000\">poblacion</span>=<span style=\"color: #008000; text-decoration-color: #008000\">''</span>, <span style=\"color: #808000; text-decoration-color: #808000\">correo</span>=<span style=\"color: #008000; text-decoration-color: #008000\">'pedro@test.com'</span>, <span style=\"color: #808000; text-decoration-color: #808000\">otros</span>=<span style=\"font-weight: bold\">[])</span>\n",
              "</pre>\n"
            ]
          },
          "metadata": {}
        },
        {
          "output_type": "display_data",
          "data": {
            "text/plain": [
              "\u001b[1m<\u001b[0m\u001b[1;95mclass\u001b[0m\u001b[39m \u001b[0m\u001b[32m'__main__.InformacionExtraida'\u001b[0m\u001b[1m>\u001b[0m\n"
            ],
            "text/html": [
              "<pre style=\"white-space:pre;overflow-x:auto;line-height:normal;font-family:Menlo,'DejaVu Sans Mono',consolas,'Courier New',monospace\"><span style=\"font-weight: bold\">&lt;</span><span style=\"color: #ff00ff; text-decoration-color: #ff00ff; font-weight: bold\">class</span><span style=\"color: #000000; text-decoration-color: #000000\"> </span><span style=\"color: #008000; text-decoration-color: #008000\">'__main__.InformacionExtraida'</span><span style=\"font-weight: bold\">&gt;</span>\n",
              "</pre>\n"
            ]
          },
          "metadata": {}
        },
        {
          "output_type": "stream",
          "name": "stdout",
          "text": [
            "\n",
            "\n",
            "\n",
            "Nombre: Pedro\n",
            "Edad: 0\n",
            "Población: \n",
            "Correo: pedro@test.com\n",
            "Otros:\n"
          ]
        }
      ]
    },
    {
      "cell_type": "markdown",
      "source": [
        "## 👨🏻‍🏫  **Ejercicio 3.3: Extracción de Recetas Estructuradas**\n",
        "\n",
        "#### **Objetivo**\n",
        "\n",
        "Crear un script en Python que:\n",
        "\n",
        "1. Extraiga el texto de una página web de recetas.\n",
        "    \n",
        "2. Utilice un modelo de lenguaje (LLM) para estructurar la información en un formato específico.\n",
        "    \n",
        "3. Muestre los resultados de forma organizada usando Pydantic.\n",
        "\n",
        "\n",
        "### **Requerimientos**\n",
        "\n",
        "1. **Extracción de texto web**:\n",
        "    \n",
        "    - Usar `requests` y `BeautifulSoup` para obtener el texto crudo de una URL de receta.\n",
        "        \n",
        "        \n",
        "2. **Modelado de datos con Pydantic**:\n",
        "    \n",
        "    - Definir 3 clases:\n",
        "        \n",
        "        - `Ingrediente` (nombre y cantidad).\n",
        "            \n",
        "        - `Paso` (número y descripción).\n",
        "            \n",
        "        - `Receta` (título, lista de ingredientes, lista de pasos).\n",
        "            \n",
        "3. **Prompt Engineering**:\n",
        "    \n",
        "    - Crear un prompt que indique al LLM extraer: título, ingredientes y pasos de la receta.\n",
        "        \n",
        "4. **Configuración del LLM**:\n",
        "    \n",
        "    - Usar `with_structured_output()` para garantizar que la salida del modelo coincida con el esquema `Receta`.\n",
        "        \n",
        "5. **Pruebas y visualización**:\n",
        "    \n",
        "    - Mostrar el resultado estructurado y acceder a sus campos (ej: `resultado.titulo`)."
      ],
      "metadata": {
        "id": "MV0EDGiPcjeI"
      }
    },
    {
      "cell_type": "code",
      "source": [
        "%pip install requests beautifulsoup4 -qU\n",
        "\n",
        "import requests\n",
        "from bs4 import BeautifulSoup\n",
        "\n",
        "url = \"https://www.bonviveur.es/recetas/coles-de-bruselas-en-freidora-de-aire\"\n",
        "url = \"https://www.directoalpaladar.com/postres/tarta-mango-postre-perfecto-para-cualquier-ocasion\"\n",
        "\n",
        "response = requests.get(url)\n",
        "soup = BeautifulSoup(response.text, 'html.parser')\n",
        "texto_raw= soup.get_text()\n",
        "\n",
        "# =====================\n",
        "\n",
        "from typing import List\n",
        "from pydantic import BaseModel, Field\n",
        "\n",
        "class Ingrediente(BaseModel):\n",
        "    nombre: str = Field(description=\"Nombre del ingrediente\")\n",
        "    cantidad: str = Field(description=\"Cantidad del ingrediente\")\n",
        "\n",
        "class Paso(BaseModel):\n",
        "    numero: int = Field(description=\"Número del paso\")\n",
        "    descripcion: str = Field(description=\"Descripción del paso\")\n",
        "\n",
        "class Receta(BaseModel):\n",
        "    titulo: str = Field(description=\"Título de la receta\")\n",
        "    ingredientes: List[Ingrediente] = Field(description=\"Lista de ingredientes\")\n",
        "    pasos: List[Paso] = Field(description=\"Lista de pasos\")\n",
        "\n",
        "plantilla = \"\"\"\n",
        "Extrae esta información de la receta:\n",
        "- Título\n",
        "- Ingredientes (lista de objetos con nombre y cantidad)\n",
        "- Pasos (lista de objetos con número y descripción)\n",
        "\n",
        "Receta: {texto}\n",
        "\"\"\"\n",
        "\n",
        "prompt_template = PromptTemplate(\n",
        "    template=plantilla,\n",
        "    input_variables=[\"texto\"]\n",
        ")\n",
        "\n",
        "# Instanciamos el modelo (comenta el que no desees usar)\n",
        "modelo = ChatOpenAI(model=\"gpt-4o-mini\", api_key=OPENAI_API_KEY, temperature=0.7)\n",
        "# modelo = ChatGroq(model=\"llama-3.3-70b-versatile\", api_key=GROQ_API_KEY,temperature=0.7)\n",
        "\n",
        "\n",
        "modelo_struct = modelo.with_structured_output(Receta)\n",
        "\n",
        "prompt = prompt_template.format(texto=texto_raw)\n",
        "resultado = modelo_struct.invoke(prompt)\n",
        "\n",
        "rprint(resultado)\n",
        "rprint(type(resultado))\n",
        "print(\"\\n\\n\")\n"
      ],
      "metadata": {
        "colab": {
          "base_uri": "https://localhost:8080/",
          "height": 936
        },
        "id": "AQif1bvacil_",
        "outputId": "10c8a583-643b-4e8e-8b99-9ff4d9ff9450"
      },
      "execution_count": null,
      "outputs": [
        {
          "output_type": "display_data",
          "data": {
            "text/plain": [
              "\u001b[1;35mReceta\u001b[0m\u001b[1m(\u001b[0m\n",
              "    \u001b[33mtitulo\u001b[0m=\u001b[32m'Tarta de mango, un postre perfecto para cualquier ocasión'\u001b[0m,\n",
              "    \u001b[33mingredientes\u001b[0m=\u001b[1m[\u001b[0m\n",
              "        \u001b[1;35mIngrediente\u001b[0m\u001b[1m(\u001b[0m\u001b[33mnombre\u001b[0m=\u001b[32m'Harina de trigo'\u001b[0m, \u001b[33mcantidad\u001b[0m=\u001b[32m'150 g'\u001b[0m\u001b[1m)\u001b[0m,\n",
              "        \u001b[1;35mIngrediente\u001b[0m\u001b[1m(\u001b[0m\u001b[33mnombre\u001b[0m=\u001b[32m'Levadura química'\u001b[0m, \u001b[33mcantidad\u001b[0m=\u001b[32m'12 g'\u001b[0m\u001b[1m)\u001b[0m,\n",
              "        \u001b[1;35mIngrediente\u001b[0m\u001b[1m(\u001b[0m\u001b[33mnombre\u001b[0m=\u001b[32m'Canela molida'\u001b[0m, \u001b[33mcantidad\u001b[0m=\u001b[32m'1 cucharadita'\u001b[0m\u001b[1m)\u001b[0m,\n",
              "        \u001b[1;35mIngrediente\u001b[0m\u001b[1m(\u001b[0m\u001b[33mnombre\u001b[0m=\u001b[32m'Azúcar'\u001b[0m, \u001b[33mcantidad\u001b[0m=\u001b[32m'125 g'\u001b[0m\u001b[1m)\u001b[0m,\n",
              "        \u001b[1;35mIngrediente\u001b[0m\u001b[1m(\u001b[0m\u001b[33mnombre\u001b[0m=\u001b[32m'Yogur griego'\u001b[0m, \u001b[33mcantidad\u001b[0m=\u001b[32m'1'\u001b[0m\u001b[1m)\u001b[0m,\n",
              "        \u001b[1;35mIngrediente\u001b[0m\u001b[1m(\u001b[0m\u001b[33mnombre\u001b[0m=\u001b[32m'Aceite de oliva'\u001b[0m, \u001b[33mcantidad\u001b[0m=\u001b[32m'175 g'\u001b[0m\u001b[1m)\u001b[0m,\n",
              "        \u001b[1;35mIngrediente\u001b[0m\u001b[1m(\u001b[0m\u001b[33mnombre\u001b[0m=\u001b[32m'Sirope de arce'\u001b[0m, \u001b[33mcantidad\u001b[0m=\u001b[32m'1 cucharada'\u001b[0m\u001b[1m)\u001b[0m,\n",
              "        \u001b[1;35mIngrediente\u001b[0m\u001b[1m(\u001b[0m\u001b[33mnombre\u001b[0m=\u001b[32m'Esencia de vainilla'\u001b[0m, \u001b[33mcantidad\u001b[0m=\u001b[32m'Una pizca'\u001b[0m\u001b[1m)\u001b[0m,\n",
              "        \u001b[1;35mIngrediente\u001b[0m\u001b[1m(\u001b[0m\u001b[33mnombre\u001b[0m=\u001b[32m'Sal'\u001b[0m, \u001b[33mcantidad\u001b[0m=\u001b[32m'Una pizca'\u001b[0m\u001b[1m)\u001b[0m,\n",
              "        \u001b[1;35mIngrediente\u001b[0m\u001b[1m(\u001b[0m\u001b[33mnombre\u001b[0m=\u001b[32m'Huevos'\u001b[0m, \u001b[33mcantidad\u001b[0m=\u001b[32m'3'\u001b[0m\u001b[1m)\u001b[0m,\n",
              "        \u001b[1;35mIngrediente\u001b[0m\u001b[1m(\u001b[0m\u001b[33mnombre\u001b[0m=\u001b[32m'Mango'\u001b[0m, \u001b[33mcantidad\u001b[0m=\u001b[32m'2'\u001b[0m\u001b[1m)\u001b[0m,\n",
              "        \u001b[1;35mIngrediente\u001b[0m\u001b[1m(\u001b[0m\u001b[33mnombre\u001b[0m=\u001b[32m'Limón \u001b[0m\u001b[32m(\u001b[0m\u001b[32mralladura\u001b[0m\u001b[32m)\u001b[0m\u001b[32m'\u001b[0m, \u001b[33mcantidad\u001b[0m=\u001b[32m'1'\u001b[0m\u001b[1m)\u001b[0m,\n",
              "        \u001b[1;35mIngrediente\u001b[0m\u001b[1m(\u001b[0m\u001b[33mnombre\u001b[0m=\u001b[32m'Queso crema \u001b[0m\u001b[32m(\u001b[0m\u001b[32mpara el frosting\u001b[0m\u001b[32m)\u001b[0m\u001b[32m'\u001b[0m, \u001b[33mcantidad\u001b[0m=\u001b[32m'200 g'\u001b[0m\u001b[1m)\u001b[0m,\n",
              "        \u001b[1;35mIngrediente\u001b[0m\u001b[1m(\u001b[0m\u001b[33mnombre\u001b[0m=\u001b[32m'Azúcar glas \u001b[0m\u001b[32m(\u001b[0m\u001b[32mpara el frosting\u001b[0m\u001b[32m)\u001b[0m\u001b[32m'\u001b[0m, \u001b[33mcantidad\u001b[0m=\u001b[32m'50 g'\u001b[0m\u001b[1m)\u001b[0m,\n",
              "        \u001b[1;35mIngrediente\u001b[0m\u001b[1m(\u001b[0m\u001b[33mnombre\u001b[0m=\u001b[32m'Zumo de limón \u001b[0m\u001b[32m(\u001b[0m\u001b[32mpara el frosting\u001b[0m\u001b[32m)\u001b[0m\u001b[32m'\u001b[0m, \u001b[33mcantidad\u001b[0m=\u001b[32m'1 cucharada'\u001b[0m\u001b[1m)\u001b[0m\n",
              "    \u001b[1m]\u001b[0m,\n",
              "    \u001b[33mpasos\u001b[0m=\u001b[1m[\u001b[0m\n",
              "        \u001b[1;35mPaso\u001b[0m\u001b[1m(\u001b[0m\u001b[33mnumero\u001b[0m=\u001b[1;36m1\u001b[0m, \u001b[33mdescripcion\u001b[0m=\u001b[32m'Mezclar la harina con el azúcar, la canela, la levadura y la sal.'\u001b[0m\u001b[1m)\u001b[0m,\n",
              "        \u001b[1;35mPaso\u001b[0m\u001b[1m(\u001b[0m\n",
              "            \u001b[33mnumero\u001b[0m=\u001b[1;36m2\u001b[0m,\n",
              "            \u001b[33mdescripcion\u001b[0m=\u001b[32m'En otro cuenco batir los huevos con el aceite de oliva, el yogur, el sirope de arce y la \u001b[0m\n",
              "\u001b[32mesencia de vainilla.'\u001b[0m\n",
              "        \u001b[1m)\u001b[0m,\n",
              "        \u001b[1;35mPaso\u001b[0m\u001b[1m(\u001b[0m\u001b[33mnumero\u001b[0m=\u001b[1;36m3\u001b[0m, \u001b[33mdescripcion\u001b[0m=\u001b[32m'Agregar la ralladura de medio mango y la de limón, y remover.'\u001b[0m\u001b[1m)\u001b[0m,\n",
              "        \u001b[1;35mPaso\u001b[0m\u001b[1m(\u001b[0m\u001b[33mnumero\u001b[0m=\u001b[1;36m4\u001b[0m, \u001b[33mdescripcion\u001b[0m=\u001b[32m'Incorporar la harina a esta mezcla y remover bien.'\u001b[0m\u001b[1m)\u001b[0m,\n",
              "        \u001b[1;35mPaso\u001b[0m\u001b[1m(\u001b[0m\n",
              "            \u001b[33mnumero\u001b[0m=\u001b[1;36m5\u001b[0m,\n",
              "            \u001b[33mdescripcion\u001b[0m=\u001b[32m'Engrasar un molde redondo desmontable con un poco de mantequilla y enharinarlo.'\u001b[0m\n",
              "        \u001b[1m)\u001b[0m,\n",
              "        \u001b[1;35mPaso\u001b[0m\u001b[1m(\u001b[0m\n",
              "            \u001b[33mnumero\u001b[0m=\u001b[1;36m6\u001b[0m,\n",
              "            \u001b[33mdescripcion\u001b[0m=\u001b[32m'Verter la mezcla del bizcocho en el molde y hornear durante 45 minutos a 175ºC.'\u001b[0m\n",
              "        \u001b[1m)\u001b[0m,\n",
              "        \u001b[1;35mPaso\u001b[0m\u001b[1m(\u001b[0m\n",
              "            \u001b[33mnumero\u001b[0m=\u001b[1;36m7\u001b[0m,\n",
              "            \u001b[33mdescripcion\u001b[0m=\u001b[32m'Comprobar la cocción del bizcocho con un palillo, dejar enfriar y desmoldar.'\u001b[0m\n",
              "        \u001b[1m)\u001b[0m,\n",
              "        \u001b[1;35mPaso\u001b[0m\u001b[1m(\u001b[0m\u001b[33mnumero\u001b[0m=\u001b[1;36m8\u001b[0m, \u001b[33mdescripcion\u001b[0m=\u001b[32m'Preparar el frosting mezclando los ingredientes y reservar.'\u001b[0m\u001b[1m)\u001b[0m,\n",
              "        \u001b[1;35mPaso\u001b[0m\u001b[1m(\u001b[0m\u001b[33mnumero\u001b[0m=\u001b[1;36m9\u001b[0m, \u001b[33mdescripcion\u001b[0m=\u001b[32m'Cortar el bizcocho en dos discos gruesos.'\u001b[0m\u001b[1m)\u001b[0m,\n",
              "        \u001b[1;35mPaso\u001b[0m\u001b[1m(\u001b[0m\n",
              "            \u001b[33mnumero\u001b[0m=\u001b[1;36m10\u001b[0m,\n",
              "            \u001b[33mdescripcion\u001b[0m=\u001b[32m'Cubrir con el frosting el primer disco, agregar dados de mango y cerrar con la otra capa \u001b[0m\n",
              "\u001b[32mde bizcocho.'\u001b[0m\n",
              "        \u001b[1m)\u001b[0m,\n",
              "        \u001b[1;35mPaso\u001b[0m\u001b[1m(\u001b[0m\u001b[33mnumero\u001b[0m=\u001b[1;36m11\u001b[0m, \u001b[33mdescripcion\u001b[0m=\u001b[32m'Cubrir con otra capa de frosting y decorar con mango troceado.'\u001b[0m\u001b[1m)\u001b[0m\n",
              "    \u001b[1m]\u001b[0m\n",
              "\u001b[1m)\u001b[0m\n"
            ],
            "text/html": [
              "<pre style=\"white-space:pre;overflow-x:auto;line-height:normal;font-family:Menlo,'DejaVu Sans Mono',consolas,'Courier New',monospace\"><span style=\"color: #800080; text-decoration-color: #800080; font-weight: bold\">Receta</span><span style=\"font-weight: bold\">(</span>\n",
              "    <span style=\"color: #808000; text-decoration-color: #808000\">titulo</span>=<span style=\"color: #008000; text-decoration-color: #008000\">'Tarta de mango, un postre perfecto para cualquier ocasión'</span>,\n",
              "    <span style=\"color: #808000; text-decoration-color: #808000\">ingredientes</span>=<span style=\"font-weight: bold\">[</span>\n",
              "        <span style=\"color: #800080; text-decoration-color: #800080; font-weight: bold\">Ingrediente</span><span style=\"font-weight: bold\">(</span><span style=\"color: #808000; text-decoration-color: #808000\">nombre</span>=<span style=\"color: #008000; text-decoration-color: #008000\">'Harina de trigo'</span>, <span style=\"color: #808000; text-decoration-color: #808000\">cantidad</span>=<span style=\"color: #008000; text-decoration-color: #008000\">'150 g'</span><span style=\"font-weight: bold\">)</span>,\n",
              "        <span style=\"color: #800080; text-decoration-color: #800080; font-weight: bold\">Ingrediente</span><span style=\"font-weight: bold\">(</span><span style=\"color: #808000; text-decoration-color: #808000\">nombre</span>=<span style=\"color: #008000; text-decoration-color: #008000\">'Levadura química'</span>, <span style=\"color: #808000; text-decoration-color: #808000\">cantidad</span>=<span style=\"color: #008000; text-decoration-color: #008000\">'12 g'</span><span style=\"font-weight: bold\">)</span>,\n",
              "        <span style=\"color: #800080; text-decoration-color: #800080; font-weight: bold\">Ingrediente</span><span style=\"font-weight: bold\">(</span><span style=\"color: #808000; text-decoration-color: #808000\">nombre</span>=<span style=\"color: #008000; text-decoration-color: #008000\">'Canela molida'</span>, <span style=\"color: #808000; text-decoration-color: #808000\">cantidad</span>=<span style=\"color: #008000; text-decoration-color: #008000\">'1 cucharadita'</span><span style=\"font-weight: bold\">)</span>,\n",
              "        <span style=\"color: #800080; text-decoration-color: #800080; font-weight: bold\">Ingrediente</span><span style=\"font-weight: bold\">(</span><span style=\"color: #808000; text-decoration-color: #808000\">nombre</span>=<span style=\"color: #008000; text-decoration-color: #008000\">'Azúcar'</span>, <span style=\"color: #808000; text-decoration-color: #808000\">cantidad</span>=<span style=\"color: #008000; text-decoration-color: #008000\">'125 g'</span><span style=\"font-weight: bold\">)</span>,\n",
              "        <span style=\"color: #800080; text-decoration-color: #800080; font-weight: bold\">Ingrediente</span><span style=\"font-weight: bold\">(</span><span style=\"color: #808000; text-decoration-color: #808000\">nombre</span>=<span style=\"color: #008000; text-decoration-color: #008000\">'Yogur griego'</span>, <span style=\"color: #808000; text-decoration-color: #808000\">cantidad</span>=<span style=\"color: #008000; text-decoration-color: #008000\">'1'</span><span style=\"font-weight: bold\">)</span>,\n",
              "        <span style=\"color: #800080; text-decoration-color: #800080; font-weight: bold\">Ingrediente</span><span style=\"font-weight: bold\">(</span><span style=\"color: #808000; text-decoration-color: #808000\">nombre</span>=<span style=\"color: #008000; text-decoration-color: #008000\">'Aceite de oliva'</span>, <span style=\"color: #808000; text-decoration-color: #808000\">cantidad</span>=<span style=\"color: #008000; text-decoration-color: #008000\">'175 g'</span><span style=\"font-weight: bold\">)</span>,\n",
              "        <span style=\"color: #800080; text-decoration-color: #800080; font-weight: bold\">Ingrediente</span><span style=\"font-weight: bold\">(</span><span style=\"color: #808000; text-decoration-color: #808000\">nombre</span>=<span style=\"color: #008000; text-decoration-color: #008000\">'Sirope de arce'</span>, <span style=\"color: #808000; text-decoration-color: #808000\">cantidad</span>=<span style=\"color: #008000; text-decoration-color: #008000\">'1 cucharada'</span><span style=\"font-weight: bold\">)</span>,\n",
              "        <span style=\"color: #800080; text-decoration-color: #800080; font-weight: bold\">Ingrediente</span><span style=\"font-weight: bold\">(</span><span style=\"color: #808000; text-decoration-color: #808000\">nombre</span>=<span style=\"color: #008000; text-decoration-color: #008000\">'Esencia de vainilla'</span>, <span style=\"color: #808000; text-decoration-color: #808000\">cantidad</span>=<span style=\"color: #008000; text-decoration-color: #008000\">'Una pizca'</span><span style=\"font-weight: bold\">)</span>,\n",
              "        <span style=\"color: #800080; text-decoration-color: #800080; font-weight: bold\">Ingrediente</span><span style=\"font-weight: bold\">(</span><span style=\"color: #808000; text-decoration-color: #808000\">nombre</span>=<span style=\"color: #008000; text-decoration-color: #008000\">'Sal'</span>, <span style=\"color: #808000; text-decoration-color: #808000\">cantidad</span>=<span style=\"color: #008000; text-decoration-color: #008000\">'Una pizca'</span><span style=\"font-weight: bold\">)</span>,\n",
              "        <span style=\"color: #800080; text-decoration-color: #800080; font-weight: bold\">Ingrediente</span><span style=\"font-weight: bold\">(</span><span style=\"color: #808000; text-decoration-color: #808000\">nombre</span>=<span style=\"color: #008000; text-decoration-color: #008000\">'Huevos'</span>, <span style=\"color: #808000; text-decoration-color: #808000\">cantidad</span>=<span style=\"color: #008000; text-decoration-color: #008000\">'3'</span><span style=\"font-weight: bold\">)</span>,\n",
              "        <span style=\"color: #800080; text-decoration-color: #800080; font-weight: bold\">Ingrediente</span><span style=\"font-weight: bold\">(</span><span style=\"color: #808000; text-decoration-color: #808000\">nombre</span>=<span style=\"color: #008000; text-decoration-color: #008000\">'Mango'</span>, <span style=\"color: #808000; text-decoration-color: #808000\">cantidad</span>=<span style=\"color: #008000; text-decoration-color: #008000\">'2'</span><span style=\"font-weight: bold\">)</span>,\n",
              "        <span style=\"color: #800080; text-decoration-color: #800080; font-weight: bold\">Ingrediente</span><span style=\"font-weight: bold\">(</span><span style=\"color: #808000; text-decoration-color: #808000\">nombre</span>=<span style=\"color: #008000; text-decoration-color: #008000\">'Limón (ralladura)'</span>, <span style=\"color: #808000; text-decoration-color: #808000\">cantidad</span>=<span style=\"color: #008000; text-decoration-color: #008000\">'1'</span><span style=\"font-weight: bold\">)</span>,\n",
              "        <span style=\"color: #800080; text-decoration-color: #800080; font-weight: bold\">Ingrediente</span><span style=\"font-weight: bold\">(</span><span style=\"color: #808000; text-decoration-color: #808000\">nombre</span>=<span style=\"color: #008000; text-decoration-color: #008000\">'Queso crema (para el frosting)'</span>, <span style=\"color: #808000; text-decoration-color: #808000\">cantidad</span>=<span style=\"color: #008000; text-decoration-color: #008000\">'200 g'</span><span style=\"font-weight: bold\">)</span>,\n",
              "        <span style=\"color: #800080; text-decoration-color: #800080; font-weight: bold\">Ingrediente</span><span style=\"font-weight: bold\">(</span><span style=\"color: #808000; text-decoration-color: #808000\">nombre</span>=<span style=\"color: #008000; text-decoration-color: #008000\">'Azúcar glas (para el frosting)'</span>, <span style=\"color: #808000; text-decoration-color: #808000\">cantidad</span>=<span style=\"color: #008000; text-decoration-color: #008000\">'50 g'</span><span style=\"font-weight: bold\">)</span>,\n",
              "        <span style=\"color: #800080; text-decoration-color: #800080; font-weight: bold\">Ingrediente</span><span style=\"font-weight: bold\">(</span><span style=\"color: #808000; text-decoration-color: #808000\">nombre</span>=<span style=\"color: #008000; text-decoration-color: #008000\">'Zumo de limón (para el frosting)'</span>, <span style=\"color: #808000; text-decoration-color: #808000\">cantidad</span>=<span style=\"color: #008000; text-decoration-color: #008000\">'1 cucharada'</span><span style=\"font-weight: bold\">)</span>\n",
              "    <span style=\"font-weight: bold\">]</span>,\n",
              "    <span style=\"color: #808000; text-decoration-color: #808000\">pasos</span>=<span style=\"font-weight: bold\">[</span>\n",
              "        <span style=\"color: #800080; text-decoration-color: #800080; font-weight: bold\">Paso</span><span style=\"font-weight: bold\">(</span><span style=\"color: #808000; text-decoration-color: #808000\">numero</span>=<span style=\"color: #008080; text-decoration-color: #008080; font-weight: bold\">1</span>, <span style=\"color: #808000; text-decoration-color: #808000\">descripcion</span>=<span style=\"color: #008000; text-decoration-color: #008000\">'Mezclar la harina con el azúcar, la canela, la levadura y la sal.'</span><span style=\"font-weight: bold\">)</span>,\n",
              "        <span style=\"color: #800080; text-decoration-color: #800080; font-weight: bold\">Paso</span><span style=\"font-weight: bold\">(</span>\n",
              "            <span style=\"color: #808000; text-decoration-color: #808000\">numero</span>=<span style=\"color: #008080; text-decoration-color: #008080; font-weight: bold\">2</span>,\n",
              "            <span style=\"color: #808000; text-decoration-color: #808000\">descripcion</span>=<span style=\"color: #008000; text-decoration-color: #008000\">'En otro cuenco batir los huevos con el aceite de oliva, el yogur, el sirope de arce y la </span>\n",
              "<span style=\"color: #008000; text-decoration-color: #008000\">esencia de vainilla.'</span>\n",
              "        <span style=\"font-weight: bold\">)</span>,\n",
              "        <span style=\"color: #800080; text-decoration-color: #800080; font-weight: bold\">Paso</span><span style=\"font-weight: bold\">(</span><span style=\"color: #808000; text-decoration-color: #808000\">numero</span>=<span style=\"color: #008080; text-decoration-color: #008080; font-weight: bold\">3</span>, <span style=\"color: #808000; text-decoration-color: #808000\">descripcion</span>=<span style=\"color: #008000; text-decoration-color: #008000\">'Agregar la ralladura de medio mango y la de limón, y remover.'</span><span style=\"font-weight: bold\">)</span>,\n",
              "        <span style=\"color: #800080; text-decoration-color: #800080; font-weight: bold\">Paso</span><span style=\"font-weight: bold\">(</span><span style=\"color: #808000; text-decoration-color: #808000\">numero</span>=<span style=\"color: #008080; text-decoration-color: #008080; font-weight: bold\">4</span>, <span style=\"color: #808000; text-decoration-color: #808000\">descripcion</span>=<span style=\"color: #008000; text-decoration-color: #008000\">'Incorporar la harina a esta mezcla y remover bien.'</span><span style=\"font-weight: bold\">)</span>,\n",
              "        <span style=\"color: #800080; text-decoration-color: #800080; font-weight: bold\">Paso</span><span style=\"font-weight: bold\">(</span>\n",
              "            <span style=\"color: #808000; text-decoration-color: #808000\">numero</span>=<span style=\"color: #008080; text-decoration-color: #008080; font-weight: bold\">5</span>,\n",
              "            <span style=\"color: #808000; text-decoration-color: #808000\">descripcion</span>=<span style=\"color: #008000; text-decoration-color: #008000\">'Engrasar un molde redondo desmontable con un poco de mantequilla y enharinarlo.'</span>\n",
              "        <span style=\"font-weight: bold\">)</span>,\n",
              "        <span style=\"color: #800080; text-decoration-color: #800080; font-weight: bold\">Paso</span><span style=\"font-weight: bold\">(</span>\n",
              "            <span style=\"color: #808000; text-decoration-color: #808000\">numero</span>=<span style=\"color: #008080; text-decoration-color: #008080; font-weight: bold\">6</span>,\n",
              "            <span style=\"color: #808000; text-decoration-color: #808000\">descripcion</span>=<span style=\"color: #008000; text-decoration-color: #008000\">'Verter la mezcla del bizcocho en el molde y hornear durante 45 minutos a 175ºC.'</span>\n",
              "        <span style=\"font-weight: bold\">)</span>,\n",
              "        <span style=\"color: #800080; text-decoration-color: #800080; font-weight: bold\">Paso</span><span style=\"font-weight: bold\">(</span>\n",
              "            <span style=\"color: #808000; text-decoration-color: #808000\">numero</span>=<span style=\"color: #008080; text-decoration-color: #008080; font-weight: bold\">7</span>,\n",
              "            <span style=\"color: #808000; text-decoration-color: #808000\">descripcion</span>=<span style=\"color: #008000; text-decoration-color: #008000\">'Comprobar la cocción del bizcocho con un palillo, dejar enfriar y desmoldar.'</span>\n",
              "        <span style=\"font-weight: bold\">)</span>,\n",
              "        <span style=\"color: #800080; text-decoration-color: #800080; font-weight: bold\">Paso</span><span style=\"font-weight: bold\">(</span><span style=\"color: #808000; text-decoration-color: #808000\">numero</span>=<span style=\"color: #008080; text-decoration-color: #008080; font-weight: bold\">8</span>, <span style=\"color: #808000; text-decoration-color: #808000\">descripcion</span>=<span style=\"color: #008000; text-decoration-color: #008000\">'Preparar el frosting mezclando los ingredientes y reservar.'</span><span style=\"font-weight: bold\">)</span>,\n",
              "        <span style=\"color: #800080; text-decoration-color: #800080; font-weight: bold\">Paso</span><span style=\"font-weight: bold\">(</span><span style=\"color: #808000; text-decoration-color: #808000\">numero</span>=<span style=\"color: #008080; text-decoration-color: #008080; font-weight: bold\">9</span>, <span style=\"color: #808000; text-decoration-color: #808000\">descripcion</span>=<span style=\"color: #008000; text-decoration-color: #008000\">'Cortar el bizcocho en dos discos gruesos.'</span><span style=\"font-weight: bold\">)</span>,\n",
              "        <span style=\"color: #800080; text-decoration-color: #800080; font-weight: bold\">Paso</span><span style=\"font-weight: bold\">(</span>\n",
              "            <span style=\"color: #808000; text-decoration-color: #808000\">numero</span>=<span style=\"color: #008080; text-decoration-color: #008080; font-weight: bold\">10</span>,\n",
              "            <span style=\"color: #808000; text-decoration-color: #808000\">descripcion</span>=<span style=\"color: #008000; text-decoration-color: #008000\">'Cubrir con el frosting el primer disco, agregar dados de mango y cerrar con la otra capa </span>\n",
              "<span style=\"color: #008000; text-decoration-color: #008000\">de bizcocho.'</span>\n",
              "        <span style=\"font-weight: bold\">)</span>,\n",
              "        <span style=\"color: #800080; text-decoration-color: #800080; font-weight: bold\">Paso</span><span style=\"font-weight: bold\">(</span><span style=\"color: #808000; text-decoration-color: #808000\">numero</span>=<span style=\"color: #008080; text-decoration-color: #008080; font-weight: bold\">11</span>, <span style=\"color: #808000; text-decoration-color: #808000\">descripcion</span>=<span style=\"color: #008000; text-decoration-color: #008000\">'Cubrir con otra capa de frosting y decorar con mango troceado.'</span><span style=\"font-weight: bold\">)</span>\n",
              "    <span style=\"font-weight: bold\">]</span>\n",
              "<span style=\"font-weight: bold\">)</span>\n",
              "</pre>\n"
            ]
          },
          "metadata": {}
        },
        {
          "output_type": "display_data",
          "data": {
            "text/plain": [
              "\u001b[1m<\u001b[0m\u001b[1;95mclass\u001b[0m\u001b[39m \u001b[0m\u001b[32m'__main__.Receta'\u001b[0m\u001b[1m>\u001b[0m\n"
            ],
            "text/html": [
              "<pre style=\"white-space:pre;overflow-x:auto;line-height:normal;font-family:Menlo,'DejaVu Sans Mono',consolas,'Courier New',monospace\"><span style=\"font-weight: bold\">&lt;</span><span style=\"color: #ff00ff; text-decoration-color: #ff00ff; font-weight: bold\">class</span><span style=\"color: #000000; text-decoration-color: #000000\"> </span><span style=\"color: #008000; text-decoration-color: #008000\">'__main__.Receta'</span><span style=\"font-weight: bold\">&gt;</span>\n",
              "</pre>\n"
            ]
          },
          "metadata": {}
        },
        {
          "output_type": "stream",
          "name": "stdout",
          "text": [
            "\n",
            "\n",
            "\n"
          ]
        }
      ]
    },
    {
      "cell_type": "markdown",
      "source": [
        "# **4. LCEL, Runnables y cadenas**\n",
        "---"
      ],
      "metadata": {
        "id": "v2fCBgAHYejD"
      }
    },
    {
      "cell_type": "markdown",
      "source": [
        "## **👨🏻‍🏫 Ejercicio 4.1: Runnable longitud de una cadena**\n",
        "Crea un Runnable que calcule la longitud de una cadena y luego usa `.batch()` para obtener la longitud de las palabras en la lista `entradas`."
      ],
      "metadata": {
        "id": "QKPnNV-E-pmd"
      }
    },
    {
      "cell_type": "code",
      "source": [
        "from langchain_core.runnables import RunnableLambda\n",
        "\n",
        "# Crea un Runnable que calcule la longitud de una cadena\n",
        "longitud_runnable = RunnableLambda(lambda x: len(x))\n",
        "\n",
        "entradas = [\"manzana\", \"banana\", \"cereza\"]\n",
        "\n",
        "# Usa .batch() para obtener las longitudes\n",
        "longitudes = longitud_runnable.batch(entradas)\n",
        "\n",
        "print(f\"Longitudes de batch(): {longitudes}\")"
      ],
      "metadata": {
        "id": "rSFx9e7CAPjA"
      },
      "execution_count": null,
      "outputs": []
    },
    {
      "cell_type": "markdown",
      "source": [
        "## **👨🏻‍🏫 Ejercicio 4.2: Generación de Pareados con IA y LangChain**\n",
        "\n",
        "---\n",
        "\n",
        "### **Objetivo y descripción**\n",
        "\n",
        "Desarrolla un programa que genere **pareados** (estrofas poéticas de dos versos con rima) automáticamente sobre un tema específico, utilizando IA y LangChain. El sistema debe:\n",
        "\n",
        "- Utilizar un modelo de lenguaje (como GPT-4 o Llama-3) para generar el contenido creativo.\n",
        "    \n",
        "- Validar y estructurar la salida con Pydantic.\n",
        "    \n",
        "- Integrar instrucciones claras para garantizar que los pareados cumplan con reglas poéticas básicas (rima consonante o asonante).\n",
        "    \n",
        "\n",
        "### **Requisitos**\n",
        "\n",
        "1. **Definición del modelo de datos**:\n",
        "    \n",
        "    - Crea un modelo Pydantic (`Pareado`) con dos campos: `titulo` (string) y `estrofa` (lista de dos strings).\n",
        "        \n",
        "2. **Configuración de LangChain**:\n",
        "    \n",
        "    - Usa `PydanticOutputParser` para validar la respuesta del modelo de IA.\n",
        "        \n",
        "    - Diseña un prompt que incluya ejemplos de pareados, definiciones de rima y las instrucciones de formato del parser.\n",
        "        \n",
        "3. **Integración con modelos de IA**:\n",
        "    \n",
        "    - Configura un modelo de LangChain (OpenAI o Groq) con temperatura alta (ej: 1.5) para fomentar la creatividad.\n",
        "        \n",
        "4. **Ejecución y prueba**:\n",
        "    \n",
        "    - Genera pareados para al menos tres temas diferentes (ej: \"cerveza\", \"primavera\", \"tecnología\").\n",
        "        \n",
        "    - Maneja posibles errores de formato con try/except.\n",
        "        \n",
        "\n",
        "### **Aplicación práctica**\n",
        "\n",
        "Este ejercicio enseña:\n",
        "\n",
        "- A integrar IA generativa en flujos estructurados (LangChain).\n",
        "    \n",
        "- A validar salidas de modelos no deterministas con Pydantic.\n",
        "    \n",
        "- A diseñar prompts efectivos para aplicaciones creativas.\n",
        "    \n",
        "- Casos de uso reales: generación de contenido para redes sociales, herramientas educativas o inspiración poética.\n",
        "    \n",
        "\n",
        "### **Variaciones**\n",
        "\n",
        "1. **Formato extendido**: Modifica el programa para generar **cuartetos** (4 versos) o incluir metáforas específicas.\n",
        "    \n",
        "2. **Interfaz de usuario**: Crea una versión web (con Streamlit o Gradio) donde el usuario introduzca el tema.\n",
        "    \n",
        "3. **Validación de rima**: Añade código para verificar automáticamente si los versos riman (consonante/asonante).\n",
        "    \n",
        "4. **Multilingüe**: Adapta el sistema para generar pareados en inglés, francés u otros idiomas.\n",
        "    \n",
        "5. **Persistencia**: Guarda los pareados generados en una base de datos SQLite o un archivo JSON.\n",
        "    \n",
        "6. **Temas combinados**: Permite mezclar dos temas aleatorios (ej: \"cerveza en el espacio\")."
      ],
      "metadata": {
        "id": "8f0gi0ZncFXb"
      }
    },
    {
      "cell_type": "code",
      "source": [
        "from langchain.output_parsers import PydanticOutputParser\n",
        "from pydantic import BaseModel, Field\n",
        "from typing import List\n",
        "\n",
        "# Definimos el modelo Pydantic para la respuesta\n",
        "class Pareado(BaseModel):\n",
        "    titulo: str = Field(description=\"Titulo del pareado\")\n",
        "    estrofa: List[str] = Field(description=\"Lista con los dos versos.\")\n",
        "\n",
        "\n",
        "# Crear el PydanticOutputParser\n",
        "output_parser = PydanticOutputParser(pydantic_object=Pareado)\n",
        "\n",
        "\n",
        "# Obtener el formato de instrucciones del parser\n",
        "format_instructions = output_parser.get_format_instructions()\n",
        "\n",
        "# Instanciamos el modelo (comenta el que no desees usar)\n",
        "modelo = ChatOpenAI(model=\"gpt-4o-mini\", api_key=OPENAI_API_KEY, temperature=1.5)\n",
        "modelo = ChatGroq(model=\"llama-3.3-70b-versatile\", api_key=GROQ_API_KEY,temperature=1.5)\n",
        "\n",
        "# Crear el prompt\n",
        "plantilla = \"\"\"\n",
        "Un pareado es una estrofa poetica de dos versos que riman entre sí,\n",
        "ya sea en rima consonante (cuando coinciden todos los sonidos a partir de la vocal tónica)\n",
        "o asonante (cuando solo coinciden las vocales).\n",
        "Es una forma breve pero expresiva, muy utilizada en refranes, poemas y canciones.\n",
        "\n",
        "Aquí tienes varios ejemplos:\n",
        "\n",
        "        El mar bate su latido,\n",
        "        en la orilla, mi sentido.\n",
        "        --\n",
        "        Ante una vidriera rota\n",
        "        coso mi lírica ropa.\n",
        "        ---\n",
        "        Bravo león, mi corazón,\n",
        "        tiene apetitos, no razón.\n",
        "        ---\n",
        "        Cada hoja de cada árbol canta un propio cantar\n",
        "        y hay un alma en cada una de las gotas del mar.\n",
        "\n",
        "Tu tarea es generar un pareado sobre {tema}.\n",
        "\n",
        "{format_instructions}\n",
        "\"\"\"\n",
        "\n",
        "\n",
        "prompt_template = PromptTemplate(\n",
        "    template=plantilla,\n",
        "    input_variables=[\"tema\"],\n",
        "    partial_variables={\"format_instructions\": format_instructions}\n",
        ")\n",
        "\n",
        "\n",
        "cadena = prompt_template | modelo | output_parser\n",
        "\n",
        "tema = \"cerveza\"\n",
        "resultado = cadena.invoke({\"tema\": tema})\n",
        "\n",
        "rprint(resultado)\n",
        "rprint(type(resultado))\n"
      ],
      "metadata": {
        "id": "wZOwyR8jcE0m",
        "outputId": "2028d1d7-281d-4da5-cf29-3e7e17ee3fc3",
        "colab": {
          "base_uri": "https://localhost:8080/",
          "height": 104
        }
      },
      "execution_count": 9,
      "outputs": [
        {
          "output_type": "display_data",
          "data": {
            "text/plain": [
              "\u001b[1;35mPareado\u001b[0m\u001b[1m(\u001b[0m\n",
              "    \u001b[33mtitulo\u001b[0m=\u001b[32m'Pareado sobre Cerveza'\u001b[0m,\n",
              "    \u001b[33mestrofa\u001b[0m=\u001b[1m[\u001b[0m\u001b[32m'La cerveza es un líquido dorado y sabroso'\u001b[0m, \u001b[32m'que alegra el alma y伴a el corazón generoso'\u001b[0m\u001b[1m]\u001b[0m\n",
              "\u001b[1m)\u001b[0m\n"
            ],
            "text/html": [
              "<pre style=\"white-space:pre;overflow-x:auto;line-height:normal;font-family:Menlo,'DejaVu Sans Mono',consolas,'Courier New',monospace\"><span style=\"color: #800080; text-decoration-color: #800080; font-weight: bold\">Pareado</span><span style=\"font-weight: bold\">(</span>\n",
              "    <span style=\"color: #808000; text-decoration-color: #808000\">titulo</span>=<span style=\"color: #008000; text-decoration-color: #008000\">'Pareado sobre Cerveza'</span>,\n",
              "    <span style=\"color: #808000; text-decoration-color: #808000\">estrofa</span>=<span style=\"font-weight: bold\">[</span><span style=\"color: #008000; text-decoration-color: #008000\">'La cerveza es un líquido dorado y sabroso'</span>, <span style=\"color: #008000; text-decoration-color: #008000\">'que alegra el alma y伴a el corazón generoso'</span><span style=\"font-weight: bold\">]</span>\n",
              "<span style=\"font-weight: bold\">)</span>\n",
              "</pre>\n"
            ]
          },
          "metadata": {}
        },
        {
          "output_type": "display_data",
          "data": {
            "text/plain": [
              "\u001b[1m<\u001b[0m\u001b[1;95mclass\u001b[0m\u001b[39m \u001b[0m\u001b[32m'__main__.Pareado'\u001b[0m\u001b[1m>\u001b[0m\n"
            ],
            "text/html": [
              "<pre style=\"white-space:pre;overflow-x:auto;line-height:normal;font-family:Menlo,'DejaVu Sans Mono',consolas,'Courier New',monospace\"><span style=\"font-weight: bold\">&lt;</span><span style=\"color: #ff00ff; text-decoration-color: #ff00ff; font-weight: bold\">class</span><span style=\"color: #000000; text-decoration-color: #000000\"> </span><span style=\"color: #008000; text-decoration-color: #008000\">'__main__.Pareado'</span><span style=\"font-weight: bold\">&gt;</span>\n",
              "</pre>\n"
            ]
          },
          "metadata": {}
        }
      ]
    }
  ]
}