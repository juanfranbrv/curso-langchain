{
 "cells": [
  {
   "cell_type": "markdown",
   "metadata": {},
   "source": [
    "## Referencias:\n",
    "\n",
    "1. https://python.langchain.com/docs/integrations/document_loaders/\n",
    "\n",
    "2. https://blog.davideai.dev/the-ultimate-langchain-series-data-loaders\n",
    "\n",
    "3. https://www.youtube.com/watch?v=zKlZ8Atv6Bc\n",
    "\n",
    "4. https://www.youtube.com/watch?v=75uBcITe0gU"
   ]
  }
 ],
 "metadata": {
  "language_info": {
   "name": "python"
  }
 },
 "nbformat": 4,
 "nbformat_minor": 2
}
