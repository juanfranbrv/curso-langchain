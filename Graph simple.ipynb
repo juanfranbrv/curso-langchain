{
  "nbformat": 4,
  "nbformat_minor": 0,
  "metadata": {
    "colab": {
      "provenance": [],
      "authorship_tag": "ABX9TyPL3dDNNXvBioAjkEVYl8/E",
      "include_colab_link": true
    },
    "kernelspec": {
      "name": "python3",
      "display_name": "Python 3"
    },
    "language_info": {
      "name": "python"
    }
  },
  "cells": [
    {
      "cell_type": "markdown",
      "metadata": {
        "id": "view-in-github",
        "colab_type": "text"
      },
      "source": [
        "<a href=\"https://colab.research.google.com/github/juanfranbrv/curso-langchain/blob/main/Graph%20simple.ipynb\" target=\"_parent\"><img src=\"https://colab.research.google.com/assets/colab-badge.svg\" alt=\"Open In Colab\"/></a>"
      ]
    },
    {
      "cell_type": "code",
      "execution_count": 1,
      "metadata": {
        "id": "ihaYmy1rgga_"
      },
      "outputs": [],
      "source": [
        "%%capture --no-stderr\n",
        "%pip install langgraph -qU"
      ]
    },
    {
      "cell_type": "markdown",
      "source": [
        "## Estado\n",
        "\n",
        "En primer lugar, defina el Estado del grafo.\n",
        "\n",
        "El esquema de Estado sirve como esquema de entrada para todos los Nodos y Aristas del grafo.\n",
        "\n",
        "\n",
        "`TypedDict` es una clase que permite definir diccionarios con tipos específicos para sus claves. Es útil para proporcionar anotaciones de tipo más precisas para diccionarios en Python. `TypedDict` está disponible en la biblioteca estándar de Python a partir de la versión 3.8.\n",
        "\n",
        "`TypedDict`pertenece al módulo `typing` en Python. Es un módulo de la biblioteca estándar que proporciona soporte para anotaciones de tipo (type hints). Estas anotaciones permiten especificar los tipos esperados de variables, argumentos de funciones, valores de retorno y estructuras de datos, lo que mejora la claridad del código y permite a herramientas como **mypy** realizar verificaciones estáticas de tipos."
      ],
      "metadata": {
        "id": "T_rK6jQvlhb_"
      }
    },
    {
      "cell_type": "markdown",
      "source": [
        "- **`State`**: Es una clase que hereda de `TypedDict`. Esto significa que `State` define la estructura de un diccionario con claves y tipos de valores específicos.\n",
        "    \n",
        "- **`graph_state: str`**: Indica que el diccionario debe tener una clave llamada `graph_state`, y su valor debe ser de tipo `str` (cadena de texto).\n",
        "    \n",
        "\n",
        "En resumen, `State` es un diccionario tipado que debe tener la siguiente estructura:\n",
        "\n",
        "```\n",
        "{\n",
        "    \"graph_state\": \"algun_valor_de_tipo_str\"\n",
        "}\n",
        "```\n",
        "\n"
      ],
      "metadata": {
        "id": "mXi1FXvynYau"
      }
    },
    {
      "cell_type": "code",
      "source": [
        "from typing import TypedDict\n",
        "\n",
        "class State(TypedDict):\n",
        "    graph_state: str"
      ],
      "metadata": {
        "id": "DG0-Szrim_oU"
      },
      "execution_count": 3,
      "outputs": []
    },
    {
      "cell_type": "markdown",
      "source": [
        "## Nodos\n",
        "\n",
        "Los nodos no son más que funciones python.\n",
        "\n",
        "El primer argumento posicional es el estado, como se ha definido anteriormente.\n",
        "\n",
        "Dado que el estado es un TypedDict con el esquema definido anteriormente, cada nodo puede acceder a la clave, graph_state, con `state['graph_state']`.\n",
        "\n",
        "Cada nodo devuelve un nuevo valor de la clave de estado graph_state.\n",
        "\n",
        "Por defecto, el nuevo valor devuelto por cada nodo sobreescribirá el valor de estado anterior.\n",
        "\n"
      ],
      "metadata": {
        "id": "qtB4OcF6oOvj"
      }
    },
    {
      "cell_type": "code",
      "source": [
        "def nodo_1(state):\n",
        "    print(\"---Nodo 1---\")\n",
        "    return {\"graph_state\": state['graph_state'] +\" Soy \"}   #Estamos actualizando el estado y devolviendolo\n",
        "\n",
        "def nodo_2(state):\n",
        "    print(\"---Nodo 2---\")\n",
        "    return {\"graph_state\": state['graph_state'] +\" feliz!\"}\n",
        "\n",
        "def nodo_3(state):\n",
        "    print(\"---Nodo 3---\")\n",
        "    return {\"graph_state\": state['graph_state'] +\" triste!\"}"
      ],
      "metadata": {
        "id": "OoSOL065ovT9"
      },
      "execution_count": 6,
      "outputs": []
    },
    {
      "cell_type": "markdown",
      "source": [
        "## Aristas"
      ],
      "metadata": {
        "id": "cJWjEZgxpRHi"
      }
    },
    {
      "cell_type": "code",
      "source": [
        "Las aristas conectan los nodos.\n",
        "\n",
        "Las aristas normales se utilizan si desea ir siempre, por ejemplo, del nodo_1 al nodo_2.\n",
        "\n",
        "Las aristas condicionales se utilizan si desea establecer una ruta opcional entre nodos.\n",
        "\n",
        "Las aristas condicionales se implementan como funciones que devuelven el siguiente nodo a visitar según cierta lógica."
      ],
      "metadata": {
        "id": "-V-P_-7apQer"
      },
      "execution_count": null,
      "outputs": []
    },
    {
      "cell_type": "code",
      "source": [
        "import random\n",
        "from typing import Literal\n",
        "\n",
        "\n",
        "# Esta funcion \"decide\" / devuelve nodo_2 o nodo_3 de forma aleatoria\n",
        "def decide_mood(state) -> Literal[\"nodo_2\", \"nodo_3\"]:\n",
        "\n",
        "    # Often, we will use state to decide on the next node to visit\n",
        "    user_input = state['graph_state']\n",
        "\n",
        "    # Here, let's just do a 50 / 50 split between nodes 2, 3\n",
        "    if random.random() < 0.5:\n",
        "\n",
        "        # 50% of the time, we return Node 2\n",
        "        return \"nodo_2\"\n",
        "\n",
        "    # 50% of the time, we return Node 3\n",
        "    return \"nodo_3\""
      ],
      "metadata": {
        "id": "xYhtvnaYp03E"
      },
      "execution_count": 7,
      "outputs": []
    },
    {
      "cell_type": "markdown",
      "source": [
        "Ahora, construimos el gráfico a partir de los componentes definidos anteriormente.\n",
        "\n",
        "La clase StateGraph es la clase de gráfico que podemos utilizar.\n",
        "\n",
        "Primero, inicializamos un StateGraph con la clase State que definimos anteriormente.\n",
        "\n",
        "Luego, agregamos nuestros nodos y aristas.\n",
        "\n",
        "Usamos el nodo START, un nodo especial que envía la entrada del usuario al gráfico, para indicar dónde comenzar nuestro gráfico.\n",
        "\n",
        "El nodo END es un nodo especial que representa un nodo terminal.\n",
        "\n",
        "Por último, compilamos nuestro gráfico para realizar algunas comprobaciones básicas en la estructura del gráfico.\n",
        "\n",
        "Podemos visualizar el gráfico mermaid."
      ],
      "metadata": {
        "id": "GXqgB-s2qh_4"
      }
    },
    {
      "cell_type": "code",
      "source": [
        "from IPython.display import Image, display\n",
        "from langgraph.graph import StateGraph, START, END\n",
        "\n",
        "# Build graph\n",
        "builder = StateGraph(State)\n",
        "builder.add_node(\"nodo_1\", nodo_1)\n",
        "builder.add_node(\"nodo_2\", nodo_2)\n",
        "builder.add_node(\"nodo_3\", nodo_3)\n",
        "\n",
        "# Logic\n",
        "builder.add_edge(START, \"nodo_1\")\n",
        "builder.add_conditional_edges(\"nodo_1\", decide_mood)\n",
        "builder.add_edge(\"nodo_2\", END)\n",
        "builder.add_edge(\"nodo_3\", END)\n",
        "\n",
        "# Add\n",
        "graph = builder.compile()\n",
        "\n",
        "# View\n",
        "display(Image(graph.get_graph().draw_mermaid_png()))"
      ],
      "metadata": {
        "id": "oIsyxmTnq0sa",
        "outputId": "87701707-9f2b-4d7e-f494-f5f1d52e4de5",
        "colab": {
          "base_uri": "https://localhost:8080/",
          "height": 350
        }
      },
      "execution_count": 8,
      "outputs": [
        {
          "output_type": "display_data",
          "data": {
            "image/png": "[encoded data removed]",
            "text/plain": [
              "<IPython.core.display.Image object>"
            ]
          },
          "metadata": {}
        }
      ]
    },
    {
      "cell_type": "markdown",
      "source": [
        "## Invocacion del grafo\n",
        "\n",
        "El gráfico compilado implementa el protocolo Runnable.\n",
        "\n",
        "Esto proporciona una forma estándar de ejecutar componentes LangChain.\n",
        "\n",
        "La invocación es uno de los métodos estándar en esta interfaz.\n",
        "\n",
        "La entrada es un diccionario {\"graph_state\": \"Hola, soy lance.\"}, que establece el valor inicial para nuestro diccionario de estado del gráfico.\n",
        "\n",
        "Cuando se llama a la invocación, el gráfico comienza la ejecución desde el nodo START.\n",
        "\n",
        "Avanza a través de los nodos definidos (nodo_1, nodo_2, nodo_3) en orden.\n",
        "\n",
        "La arista condicional atravesará desde el nodo 1 al nodo 2 o 3 utilizando una regla de decisión 50/50.\n",
        "\n",
        "Cada función de nodo recibe el estado actual y devuelve un nuevo valor, que anula el estado del gráfico.\n",
        "\n",
        "La ejecución continúa hasta que llega al nodo END."
      ],
      "metadata": {
        "id": "ImPFzJHYswHs"
      }
    },
    {
      "cell_type": "code",
      "source": [
        "graph.invoke({\"graph_state\" : \"Hi, this is Lance.\"})"
      ],
      "metadata": {
        "id": "2yv3YyN1s8RY",
        "outputId": "1e1a7cf7-71d4-4182-bd78-8e5bd0b6ea1f",
        "colab": {
          "base_uri": "https://localhost:8080/"
        }
      },
      "execution_count": 13,
      "outputs": [
        {
          "output_type": "stream",
          "name": "stdout",
          "text": [
            "---Nodo 1---\n",
            "---Nodo 2---\n"
          ]
        },
        {
          "output_type": "execute_result",
          "data": {
            "text/plain": [
              "{'graph_state': 'Hi, this is Lance. Soy  feliz!'}"
            ]
          },
          "metadata": {},
          "execution_count": 13
        }
      ]
    },
    {
      "cell_type": "markdown",
      "source": [
        "Reto\n",
        "\n",
        "Crear un grafo de este tipo y ejecutarlo\n",
        "Debe tener 8 nodos (donde los nodos 2 y 3 presentan senda opciones) y todos teminan en END\n",
        "\n"
      ],
      "metadata": {
        "id": "ceOXtgb2tN4H"
      }
    }
  ]
}