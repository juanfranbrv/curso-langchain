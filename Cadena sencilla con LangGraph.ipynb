{
  "nbformat": 4,
  "nbformat_minor": 0,
  "metadata": {
    "colab": {
      "provenance": [],
      "authorship_tag": "ABX9TyNVDXJd0Z3u2A2nGj7bJumb",
      "include_colab_link": true
    },
    "kernelspec": {
      "name": "python3",
      "display_name": "Python 3"
    },
    "language_info": {
      "name": "python"
    }
  },
  "cells": [
    {
      "cell_type": "markdown",
      "metadata": {
        "id": "view-in-github",
        "colab_type": "text"
      },
      "source": [
        "<a href=\"https://colab.research.google.com/github/juanfranbrv/curso-langchain/blob/main/Cadena%20sencilla%20con%20LangGraph.ipynb\" target=\"_parent\"><img src=\"https://colab.research.google.com/assets/colab-badge.svg\" alt=\"Open In Colab\"/></a>"
      ]
    },
    {
      "cell_type": "markdown",
      "source": [
        "## **Configuración del entorno del cuaderno**\n",
        "\n"
      ],
      "metadata": {
        "id": "E6Kn0E3vamr5"
      }
    },
    {
      "cell_type": "code",
      "execution_count": 9,
      "metadata": {
        "id": "ihaYmy1rgga_"
      },
      "outputs": [],
      "source": [
        "# Importar la librería `userdata` de Google Colab.\n",
        "# Esta librería se utiliza para acceder a datos de usuario almacenados de forma segura en el entorno de Colab.\n",
        "from google.colab import userdata\n",
        "\n",
        "# Obtener las claves API de diferentes servicios desde el almacenamiento seguro de Colab.\n",
        "OPENAI_API_KEY=userdata.get('OPENAI_API_KEY')\n",
        "# GROQ_API_KEY=userdata.get('GROQ_API_KEY')\n",
        "# GOOGLE_API_KEY=userdata.get('GOOGLE_API_KEY')\n",
        "# HUGGINGFACEHUB_API_TOKEN=userdata.get('HUGGINGFACEHUB_API_TOKEN')\n",
        "\n",
        "# Instalar las librerías necesarias usando pip.\n",
        "# El flag `-qU` instala en modo silencioso (`-q`) y actualiza las librerías si ya están instaladas (`-U`).\n",
        "%pip install langchain -qU  # Instalar la librería principal de LangChain.\n",
        "%pip install langgraph -qU\n",
        "\n",
        "# Instalar las integraciones de LangChain con diferentes proveedores de LLMs.\n",
        "%pip install langchain-openai -qU\n",
        "# %pip install langchain-groq -qU\n",
        "# %pip install langchain-google-genai -qU\n",
        "# %pip install langchain-huggingface -qU\n",
        "\n",
        "# Importar las clases necesarias de LangChain para crear plantillas de prompt.\n",
        "# `ChatPromptTemplate` es la clase base para plantillas de chat.\n",
        "from langchain.prompts import ChatPromptTemplate\n",
        "\n",
        "\n",
        "# Importamos las clases necesarias para trabajar con cadenas\n",
        "from langchain.chains import LLMChain\n",
        "\n",
        "# Importar las clases para interactuar con los diferentes LLMs a través de LangChain.\n",
        "from langchain_openai import ChatOpenAI\n",
        "# from langchain_groq import ChatGroq\n",
        "# from langchain_google_genai import ChatGoogleGenerativeAI\n",
        "# from langchain_huggingface import HuggingFaceEndpoint\n",
        "\n",
        "# Importamos la libreria para formatear mejor la salida\n",
        "from IPython.display import Markdown, display"
      ]
    },
    {
      "cell_type": "markdown",
      "source": [
        "Recordemos aqui que los modelos de lenguaje más modernos, como **gpt-3.5-turbo** y **gpt-4**, están diseñados para funcionar de manera óptima en un formato conversacional. Esto implica que, en lugar de enviar un único \"prompt de texto\" como entrada, podemos organizar la información en una secuencia de mensajes con roles específicos:\n",
        "\n",
        "-   **system**: Mensaje del sistema (define el contexto o comportamiento del asistente).\n",
        "    \n",
        "-   **user**: Mensaje del usuario (preguntas o instrucciones del usuario).\n",
        "    \n",
        "-   **assistant**: Mensaje del asistente (respuestas generadas por el modelo).\n",
        "    \n",
        "\n",
        "LangChain admite varios tipos de mensajes, incluidos `HumanMessage`, `AIMessage`, `SystemMessage` y `ToolMessage`.\n",
        "\n",
        "Estos representan un mensaje del usuario, del modelo de chat, para que el modelo de chat observe un comportamiento y de una llamada a una herramienta.\n",
        "\n",
        "\n",
        "`**ChatPromptTemplate**` simplifica la creación de estos mensajes estructurados, evitando la necesidad de concatenarlos manualmente en una sola cadena de texto.\n",
        "\n",
        "Creemos una lista de mensajes.\n"
      ],
      "metadata": {
        "id": "PbcRb26IYQqI"
      }
    },
    {
      "cell_type": "code",
      "source": [
        "chat_prompt_template = ChatPromptTemplate.from_messages([\n",
        "    (\"system\", \"Eres un experto en literatura fantastica y ciencia ficción\"),\n",
        "    (\"human\", \"Proporciona un listado con los {numero} autores mas importantes de liteartua fantastica en la actualidad\"),\n",
        "])\n",
        "\n",
        "\n",
        "llm = ChatOpenAI(model=\"gpt-4o-mini\", api_key=OPENAI_API_KEY, temperature=0)\n",
        "\n",
        "respuesta = llm.invoke(chat_prompt_template.format_messages(numero=5))\n",
        "\n",
        "respuesta\n",
        "\n"
      ],
      "metadata": {
        "colab": {
          "base_uri": "https://localhost:8080/"
        },
        "id": "5I6JYB76bhCj",
        "outputId": "2a497b14-a460-4b68-a280-b98e5a24d042"
      },
      "execution_count": 13,
      "outputs": [
        {
          "output_type": "execute_result",
          "data": {
            "text/plain": [
              "AIMessage(content='Aquí tienes un listado con cinco de los autores más importantes de literatura fantástica en la actualidad:\\n\\n1. **Neil Gaiman**: Conocido por obras como \"American Gods\", \"Coraline\" y \"The Ocean at the End of the Lane\", Gaiman ha sido una figura influyente en la literatura fantástica contemporánea, combinando mitología, folclore y elementos de la cultura pop.\\n\\n2. **N.K. Jemisin**: Autora de la aclamada trilogía \"La Tierra Fragmentada\", que incluye \"La Quinta Estación\", Jemisin ha sido reconocida por su innovador enfoque de la fantasía, así como por su exploración de temas sociales y políticos.\\n\\n3. **Brandon Sanderson**: Famoso por su serie \"El Archivo de las Tormentas\" y su trabajo en el universo de \"Mistborn\", Sanderson es conocido por su construcción de mundos complejos y sistemas de magia bien definidos.\\n\\n4. **Ursula K. Le Guin**: Aunque falleció en 2018, su influencia perdura en la literatura fantástica. Obras como \"La mano izquierda de la oscuridad\" y \"Los desposeídos\" continúan siendo fundamentales en el género, explorando temas de género, política y sociedad.\\n\\n5. **Patrick Rothfuss**: Autor de \"El nombre del viento\" y \"El temor de un hombre sabio\", Rothfuss ha capturado la atención de los lectores con su prosa lírica y su enfoque en la narración de historias dentro de un mundo rico y detallado.\\n\\nEstos autores han dejado una huella significativa en la literatura fantástica contemporánea y continúan inspirando a nuevos lectores y escritores.', additional_kwargs={'refusal': None}, response_metadata={'token_usage': {'completion_tokens': 349, 'prompt_tokens': 43, 'total_tokens': 392, 'completion_tokens_details': {'accepted_prediction_tokens': 0, 'audio_tokens': 0, 'reasoning_tokens': 0, 'rejected_prediction_tokens': 0}, 'prompt_tokens_details': {'audio_tokens': 0, 'cached_tokens': 0}}, 'model_name': 'gpt-4o-mini-2024-07-18', 'system_fingerprint': 'fp_0aa8d3e20b', 'finish_reason': 'stop', 'logprobs': None}, id='run-b3f14787-b291-418c-a8d0-37dd9d600e81-0', usage_metadata={'input_tokens': 43, 'output_tokens': 349, 'total_tokens': 392, 'input_token_details': {'audio': 0, 'cache_read': 0}, 'output_token_details': {'audio': 0, 'reasoning': 0}})"
            ]
          },
          "metadata": {},
          "execution_count": 13
        }
      ]
    },
    {
      "cell_type": "markdown",
      "source": [
        "La respuesta del LLM es un objeto AIMessage.\n",
        "Habitualmente la parte en la que estamos interesado es content\n",
        "\n"
      ],
      "metadata": {
        "id": "jBZRcsDLmFh8"
      }
    },
    {
      "cell_type": "code",
      "source": [
        "respuesta.content"
      ],
      "metadata": {
        "colab": {
          "base_uri": "https://localhost:8080/",
          "height": 127
        },
        "id": "rFBG_pDZmcCB",
        "outputId": "80e078c9-9666-44e7-d1e0-4f78e509acaf"
      },
      "execution_count": 14,
      "outputs": [
        {
          "output_type": "execute_result",
          "data": {
            "text/plain": [
              "'Aquí tienes un listado con cinco de los autores más importantes de literatura fantástica en la actualidad:\\n\\n1. **Neil Gaiman**: Conocido por obras como \"American Gods\", \"Coraline\" y \"The Ocean at the End of the Lane\", Gaiman ha sido una figura influyente en la literatura fantástica contemporánea, combinando mitología, folclore y elementos de la cultura pop.\\n\\n2. **N.K. Jemisin**: Autora de la aclamada trilogía \"La Tierra Fragmentada\", que incluye \"La Quinta Estación\", Jemisin ha sido reconocida por su innovador enfoque de la fantasía, así como por su exploración de temas sociales y políticos.\\n\\n3. **Brandon Sanderson**: Famoso por su serie \"El Archivo de las Tormentas\" y su trabajo en el universo de \"Mistborn\", Sanderson es conocido por su construcción de mundos complejos y sistemas de magia bien definidos.\\n\\n4. **Ursula K. Le Guin**: Aunque falleció en 2018, su influencia perdura en la literatura fantástica. Obras como \"La mano izquierda de la oscuridad\" y \"Los desposeídos\" continúan siendo fundamentales en el género, explorando temas de género, política y sociedad.\\n\\n5. **Patrick Rothfuss**: Autor de \"El nombre del viento\" y \"El temor de un hombre sabio\", Rothfuss ha capturado la atención de los lectores con su prosa lírica y su enfoque en la narración de historias dentro de un mundo rico y detallado.\\n\\nEstos autores han dejado una huella significativa en la literatura fantástica contemporánea y continúan inspirando a nuevos lectores y escritores.'"
            ],
            "application/vnd.google.colaboratory.intrinsic+json": {
              "type": "string"
            }
          },
          "metadata": {},
          "execution_count": 14
        }
      ]
    },
    {
      "cell_type": "markdown",
      "source": [
        "Pero la respuesta contiene abundates datos que en ocasiones podrian ser de utilidad"
      ],
      "metadata": {
        "id": "nH5gV5bNmfEF"
      }
    },
    {
      "cell_type": "code",
      "source": [
        "respuesta.response_metadata"
      ],
      "metadata": {
        "colab": {
          "base_uri": "https://localhost:8080/"
        },
        "id": "rPD1OkQSmphX",
        "outputId": "821909ee-21df-48d2-d912-0fc67af772cc"
      },
      "execution_count": 15,
      "outputs": [
        {
          "output_type": "execute_result",
          "data": {
            "text/plain": [
              "{'token_usage': {'completion_tokens': 349,\n",
              "  'prompt_tokens': 43,\n",
              "  'total_tokens': 392,\n",
              "  'completion_tokens_details': {'accepted_prediction_tokens': 0,\n",
              "   'audio_tokens': 0,\n",
              "   'reasoning_tokens': 0,\n",
              "   'rejected_prediction_tokens': 0},\n",
              "  'prompt_tokens_details': {'audio_tokens': 0, 'cached_tokens': 0}},\n",
              " 'model_name': 'gpt-4o-mini-2024-07-18',\n",
              " 'system_fingerprint': 'fp_0aa8d3e20b',\n",
              " 'finish_reason': 'stop',\n",
              " 'logprobs': None}"
            ]
          },
          "metadata": {},
          "execution_count": 15
        }
      ]
    },
    {
      "cell_type": "markdown",
      "source": [
        "Las herramientas son útiles siempre que se desea que un modelo interactúe con sistemas externos.\n",
        "\n",
        "Los sistemas externos (por ejemplo, las API) a menudo requieren un esquema de entrada o una carga útil particular, en lugar de lenguaje natural.\n",
        "\n",
        "Cuando vinculamos una API, por ejemplo, como herramienta, le damos al modelo el conocimiento del esquema de entrada requerido.\n",
        "\n",
        "El modelo elegirá llamar a una herramienta en función de la entrada en lenguaje natural del usuario.\n",
        "\n",
        "Y devolverá una salida que se ajuste al esquema de la herramienta.\n",
        "\n",
        "Muchos proveedores de LLM admiten la llamada a herramientas y la interfaz de llamada a herramientas en LangChain es sencilla.\n",
        "\n",
        "Simplemente puede pasar cualquier función de Python a ChatModel.bind_tools(function).\n",
        "\n",
        "\n",
        "Muchos proveedores de LLM admiten la llamada de herramientas y la interfaz de llamada de herramientas en LangChain es sencilla.  \n",
        "\n",
        "https://python.langchain.com/v0.1/docs/integrations/chat/  \n",
        "https://blog.langchain.dev/improving-core-tool-interfaces-and-docs-in-langchain/\n",
        "\n",
        "puedes pasar directamente funciones de Python a métodos como .bind_tools(), y el sistema se encarga de inferir automáticamente los esquemas necesarios a partir de las anotaciones de tipo y las cadenas de documentación (docstrings) de las funciones.\n",
        "\n",
        "Esta simplificación hace que el proceso sea mucho más intuitivo y reduce la cantidad de código repetitivo.\n",
        "\n",
        "Podemos pasar cualquier función de Python a ChatModel.bind_tools() , lo que permite que las funciones normales de Python se utilicen directamente como herramientas.\n",
        "\n",
        "Vamos a crear una funcion que multiplica dos numeros y las vamos a pasar como herramienta a nuestro modelo."
      ],
      "metadata": {
        "id": "voWKBi81nOXs"
      }
    },
    {
      "cell_type": "code",
      "source": [
        "def multiplicar(a: int, b: int) -> int:\n",
        "    \"\"\"Multiplica a y b.\n",
        "\n",
        "    Args:\n",
        "        a: primer int\n",
        "        b: segundo int\n",
        "    \"\"\"\n",
        "    return a * b\n",
        "\n",
        "llm_con_herramientas = llm.bind_tools([multiplicar])"
      ],
      "metadata": {
        "id": "f8dtjwKupVAw"
      },
      "execution_count": 23,
      "outputs": []
    },
    {
      "cell_type": "markdown",
      "source": [
        "Ahora llm_con_herramientas es un nuevo llm con dos herramientas, y si lo invocamos con cierta pregunta, obtendremos como resultado una AIMessage que sin contenido pero que es una llamada a la herramienta."
      ],
      "metadata": {
        "id": "lbZIDn-sp2Ug"
      }
    },
    {
      "cell_type": "code",
      "source": [
        "\n",
        "respuesta = llm_con_herramientas.invoke(\"Cuanto es 2 por 3\")\n",
        "respuesta\n"
      ],
      "metadata": {
        "colab": {
          "base_uri": "https://localhost:8080/"
        },
        "id": "9OZAS1rZp3uk",
        "outputId": "327af16c-c91b-4628-839f-8e18cd98da6c"
      },
      "execution_count": 32,
      "outputs": [
        {
          "output_type": "execute_result",
          "data": {
            "text/plain": [
              "AIMessage(content='', additional_kwargs={'tool_calls': [{'id': 'call_73VIffeOxvXaBdE8EjjITtwN', 'function': {'arguments': '{\"a\":2,\"b\":3}', 'name': 'multiplicar'}, 'type': 'function'}], 'refusal': None}, response_metadata={'token_usage': {'completion_tokens': 20, 'prompt_tokens': 92, 'total_tokens': 112, 'completion_tokens_details': {'accepted_prediction_tokens': 0, 'audio_tokens': 0, 'reasoning_tokens': 0, 'rejected_prediction_tokens': 0}, 'prompt_tokens_details': {'audio_tokens': 0, 'cached_tokens': 0}}, 'model_name': 'gpt-4o-mini-2024-07-18', 'system_fingerprint': 'fp_0aa8d3e20b', 'finish_reason': 'tool_calls', 'logprobs': None}, id='run-e22b4a33-9160-4c7e-82ef-3df7e545b93c-0', tool_calls=[{'name': 'multiplicar', 'args': {'a': 2, 'b': 3}, 'id': 'call_73VIffeOxvXaBdE8EjjITtwN', 'type': 'tool_call'}], usage_metadata={'input_tokens': 92, 'output_tokens': 20, 'total_tokens': 112, 'input_token_details': {'audio': 0, 'cache_read': 0}, 'output_token_details': {'audio': 0, 'reasoning': 0}})"
            ]
          },
          "metadata": {},
          "execution_count": 32
        }
      ]
    },
    {
      "cell_type": "markdown",
      "source": [
        "LangChain analizará las anotaciones de tipo y las cadenas de documentación para inferir los esquemas necesarios."
      ],
      "metadata": {
        "id": "FpyGok_eq3rf"
      }
    },
    {
      "cell_type": "code",
      "source": [
        "respuesta.additional_kwargs['tool_calls']"
      ],
      "metadata": {
        "colab": {
          "base_uri": "https://localhost:8080/"
        },
        "id": "fZbkD_Nvq5bh",
        "outputId": "eb3316f7-836a-4847-cc59-3998f6fb6814"
      },
      "execution_count": 33,
      "outputs": [
        {
          "output_type": "execute_result",
          "data": {
            "text/plain": [
              "[{'id': 'call_73VIffeOxvXaBdE8EjjITtwN',\n",
              "  'function': {'arguments': '{\"a\":2,\"b\":3}', 'name': 'multiplicar'},\n",
              "  'type': 'function'}]"
            ]
          },
          "metadata": {},
          "execution_count": 33
        }
      ]
    },
    {
      "cell_type": "markdown",
      "source": [
        "Si el prompy no tiene nada que ver no se llamara a la herramienta"
      ],
      "metadata": {
        "id": "SwKqVhFwvdBh"
      }
    },
    {
      "cell_type": "code",
      "source": [
        "respuesta = llm_con_herramientas.invoke(\"Que es un pájaro ?\")\n",
        "respuesta"
      ],
      "metadata": {
        "colab": {
          "base_uri": "https://localhost:8080/"
        },
        "id": "EXH5ryiYvdhG",
        "outputId": "9ca210fa-61b4-4fa7-ecef-7d06b7f20301"
      },
      "execution_count": 35,
      "outputs": [
        {
          "output_type": "execute_result",
          "data": {
            "text/plain": [
              "AIMessage(content='Un pájaro es un animal vertebrado que pertenece a la clase Aves. Se caracteriza por tener plumas, un pico sin dientes, y la mayoría de las especies son capaces de volar. Los pájaros tienen un esqueleto ligero y un sistema respiratorio eficiente que les permite obtener el oxígeno necesario para el vuelo. \\n\\nLos pájaros son ovíparos, lo que significa que ponen huevos, y suelen cuidar de sus crías hasta que son lo suficientemente grandes para valerse por sí mismas. Existen miles de especies de pájaros en todo el mundo, que varían en tamaño, color, hábitat y comportamiento. Algunos ejemplos comunes de pájaros son los gorriones, las palomas, los águilas y los pingüinos.', additional_kwargs={'refusal': None}, response_metadata={'token_usage': {'completion_tokens': 165, 'prompt_tokens': 91, 'total_tokens': 256, 'completion_tokens_details': {'accepted_prediction_tokens': 0, 'audio_tokens': 0, 'reasoning_tokens': 0, 'rejected_prediction_tokens': 0}, 'prompt_tokens_details': {'audio_tokens': 0, 'cached_tokens': 0}}, 'model_name': 'gpt-4o-mini-2024-07-18', 'system_fingerprint': 'fp_d02d531b47', 'finish_reason': 'stop', 'logprobs': None}, id='run-dfa98345-def9-4108-85d0-1344d9213dd7-0', usage_metadata={'input_tokens': 91, 'output_tokens': 165, 'total_tokens': 256, 'input_token_details': {'audio': 0, 'cache_read': 0}, 'output_token_details': {'audio': 0, 'reasoning': 0}})"
            ]
          },
          "metadata": {},
          "execution_count": 35
        }
      ]
    },
    {
      "cell_type": "markdown",
      "source": [
        "Veamos un ejemplo solo un poco mas complicado. Vamos a dotar a nuestro modelo de cuatro herramientas de calculo sencillas."
      ],
      "metadata": {
        "id": "bKiQbhRt1alT"
      }
    },
    {
      "cell_type": "code",
      "source": [
        "# from langchain_openai import ChatOpenAI\n",
        "from langchain.tools import tool\n",
        "\n",
        "\n",
        "def sumar(a: float, b: float) -> float:\n",
        "    \"\"\"Suma dos números.\"\"\"\n",
        "    return a + b\n",
        "\n",
        "\n",
        "def restar(a: float, b: float) -> float:\n",
        "    \"\"\"Resta dos números.\"\"\"\n",
        "    return a - b\n",
        "\n",
        "\n",
        "def multiplicar(a: float, b: float) -> float:\n",
        "    \"\"\"Multiplica dos números.\"\"\"\n",
        "    return a * b\n",
        "\n",
        "\n",
        "def dividir(a: float, b: float) -> float:\n",
        "    \"\"\"Divide dos números.\"\"\"\n",
        "    if b == 0:\n",
        "        return \"Error: No se puede dividir por cero.\"\n",
        "    return a / b\n",
        "\n",
        "# Crear el modelo de OpenAI\n",
        "modelo = ChatOpenAI(model=\"gpt-4o-mini\", api_key=OPENAI_API_KEY, temperature=0)\n",
        "\n",
        "# Vincular las herramientas al modelo usando .bind_tools\n",
        "modelo_con_herramientas = modelo.bind_tools([sumar, restar, multiplicar, dividir])\n",
        "\n",
        "# Preguntar al modelo\n",
        "pregunta = \"¿Cuánto es 15 - 20? Luego, divide el resultado por 5.\"\n",
        "respuesta = modelo_con_herramientas.invoke(pregunta)\n",
        "\n",
        "# Mostrar la respuesta\n",
        "print(respuesta.additional_kwargs['tool_calls'])"
      ],
      "metadata": {
        "colab": {
          "base_uri": "https://localhost:8080/"
        },
        "id": "VHvjlMWE1j88",
        "outputId": "1358e6cf-279a-4e4e-8cbe-42bc1e5984a3"
      },
      "execution_count": 42,
      "outputs": [
        {
          "output_type": "stream",
          "name": "stdout",
          "text": [
            "[{'id': 'call_qt0UhA2gjSiBXFbFtGM5vGXt', 'function': {'arguments': '{\"a\": 15, \"b\": 20}', 'name': 'restar'}, 'type': 'function'}, {'id': 'call_7IY5w7WQExYhSEvuAro4ZiQu', 'function': {'arguments': '{\"a\": 15, \"b\": 5}', 'name': 'dividir'}, 'type': 'function'}]\n"
          ]
        }
      ]
    },
    {
      "cell_type": "markdown",
      "source": [
        "Observa como cambiando el prompt obtenemos resultados diferentes. Desde una llamada a una herramienta a un resultado directo.\n",
        "\n",
        "Hablar del decorador @tool\n",
        "https://python.langchain.com/v0.2/docs/how_to/custom_tools/?ref=blog.langchain.dev#creating-tools-from-functions\n",
        "\n"
      ],
      "metadata": {
        "id": "ySekq0P_7EJA"
      }
    },
    {
      "cell_type": "markdown",
      "source": [
        "Ahora toca crear un grafo con todo esto y aqui se acaba"
      ],
      "metadata": {
        "id": "7j3bRl4I8Ayw"
      }
    }
  ]
}