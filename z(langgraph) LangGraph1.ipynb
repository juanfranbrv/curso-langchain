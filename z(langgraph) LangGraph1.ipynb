{
  "nbformat": 4,
  "nbformat_minor": 0,
  "metadata": {
    "colab": {
      "provenance": [],
      "authorship_tag": "ABX9TyOJeXMb+E8npu1CGFZx6aJF",
      "include_colab_link": true
    },
    "kernelspec": {
      "name": "python3",
      "display_name": "Python 3"
    },
    "language_info": {
      "name": "python"
    }
  },
  "cells": [
    {
      "cell_type": "markdown",
      "metadata": {
        "id": "view-in-github",
        "colab_type": "text"
      },
      "source": [
        "<a href=\"https://colab.research.google.com/github/juanfranbrv/curso-langchain/blob/main/LangGraph1.ipynb\" target=\"_parent\"><img src=\"https://colab.research.google.com/assets/colab-badge.svg\" alt=\"Open In Colab\"/></a>"
      ]
    },
    {
      "cell_type": "markdown",
      "source": [
        "`%%capture --no-stderr`: Esta es una directiva especial en entornos como Jupyter Notebook o Google Colab. `%%capture` indica que la salida del código que sigue debe ser capturada en una variable en lugar de mostrarse directamente. `--no-stderr` significa que cualquier mensaje de error (stderr) no se capturará ni se mostrará."
      ],
      "metadata": {
        "id": "hrvGTsTTaEL5"
      }
    },
    {
      "cell_type": "code",
      "execution_count": 4,
      "metadata": {
        "id": "de9XJX5wXxga"
      },
      "outputs": [],
      "source": [
        "%%capture --no-stderr\n",
        "%pip install langchain_core -qU\n",
        "%pip install langchain_openai -qU\n",
        "%pip install langchain-google-genai -qU\n",
        "%pip install langchain_community -qU\n",
        "%pip install tavily-python -qU"
      ]
    },
    {
      "cell_type": "code",
      "source": [
        "from langchain_openai import ChatOpenAI\n",
        "from langchain_google_genai import ChatGoogleGenerativeAI\n",
        "\n",
        "\n",
        "# Importar la librería `userdata` de Google Colab.\n",
        "# Esta librería se utiliza para acceder a datos de usuario almacenados de forma segura en el entorno de Colab.\n",
        "from google.colab import userdata\n",
        "\n",
        "# Obtener las claves API de diferentes servicios desde el almacenamiento seguro de Colab.\n",
        "OPENAI_API_KEY=userdata.get('OPENAI_API_KEY')\n",
        "GROQ_API_KEY=userdata.get('GROQ_API_KEY')\n",
        "GOOGLE_API_KEY=userdata.get('GOOGLE_API_KEY')\n",
        "HUGGINGFACEHUB_API_TOKEN=userdata.get('HUGGINGFACEHUB_API_TOKEN')\n",
        "\n",
        "TAVILY_API_KEY = userdata.get('TAVILY_API_KEY')\n"
      ],
      "metadata": {
        "id": "ATHpy1DiYrfF"
      },
      "execution_count": 11,
      "outputs": []
    },
    {
      "cell_type": "code",
      "source": [
        "llm_gpt4o = ChatOpenAI(model=\"gpt-4o-mini\",\n",
        "                 api_key=OPENAI_API_KEY,\n",
        "                 temperature=0)\n",
        "\n",
        "llm_gemini2 = ChatGoogleGenerativeAI(\n",
        "    model=\"gemini-2.0-flash-exp\",\n",
        "    api_key=GOOGLE_API_KEY,\n",
        "    temperature=0)"
      ],
      "metadata": {
        "id": "iduvycCeZIFp"
      },
      "execution_count": 9,
      "outputs": []
    },
    {
      "cell_type": "markdown",
      "source": [
        "Usaremos tambien Tavily , que es un motor de búsqueda optimizado para LLM y RAG, destinado a resultados de búsqueda eficientes, rápidos y persistentes. Como se mencionó, registrarse es fácil y ofrece un generoso nivel gratuito. Algunas lecciones (en el Módulo 4) usarán Tavily de forma predeterminada pero, por supuesto, se pueden usar otras herramientas de búsqueda si desea modificar el código usted mismo.\n",
        "\n",
        "Realizemos las importanciones necesarias (EXPLICAR LO DE langchain_community.tools.) y veaoslo en acción"
      ],
      "metadata": {
        "id": "UjSLvVs7gRy1"
      }
    },
    {
      "cell_type": "code",
      "source": [
        "from tavily import TavilyClient\n",
        "\n",
        "tavily_client = TavilyClient(api_key=TAVILY_API_KEY)\n",
        "\n",
        "response = tavily_client.search(\"Que es LangGraph?\", max_results=3)\n",
        "\n",
        "response"
      ],
      "metadata": {
        "colab": {
          "base_uri": "https://localhost:8080/"
        },
        "id": "2byqv_cEhX6V",
        "outputId": "9aa69585-c735-491a-8875-301df9b28c01"
      },
      "execution_count": 18,
      "outputs": [
        {
          "output_type": "execute_result",
          "data": {
            "text/plain": [
              "{'query': 'Que es LangGraph?',\n",
              " 'follow_up_questions': None,\n",
              " 'answer': None,\n",
              " 'images': [],\n",
              " 'results': [{'title': 'LangGraph',\n",
              "   'url': 'https://langchain-ai.github.io/langgraph/',\n",
              "   'content': 'LangGraph is a library for building stateful, multi-actor applications with LLMs, used to create agent and multi-agent workflows. Compared to other LLM',\n",
              "   'score': 0.9325087,\n",
              "   'raw_content': None},\n",
              "  {'title': 'Guía de LangGraph Studio: Instalación, configuración, casos ...',\n",
              "   'url': 'https://www.datacamp.com/es/tutorial/langgraph-studio',\n",
              "   'content': 'A diferencia de los IDE tradicionales que se centran en el desarrollo general de software, LangGraph Studio ofrece herramientas para visualizar, interactuar y depurar los flujos de trabajo de los agentes en tiempo real. LangGraph Studio es un IDE especializado que destaca en el desarrollo de agentes de IA porque ofrece una interfaz visual, depuración en tiempo real y potentes herramientas de colaboración. El soporte para LangGraph Studio proviene principalmente de la documentación oficial, los foros de la comunidad y la comunidad LangChain en GitHub. Como LangGraph Studio aún está en sus primeras fases, los usuarios también pueden ponerse en contacto con el equipo de LangChain por correo electrónico o a través de las redes sociales para consultas específicas y ayuda en la resolución de problemas.',\n",
              "   'score': 0.87218446,\n",
              "   'raw_content': None},\n",
              "  {'title': 'el paradigma de desarrollo propuesto por LangChain - YouTube',\n",
              "   'url': 'https://www.youtube.com/watch?v=VnUeugXduCE',\n",
              "   'content': 'Jun 6, 2024 ... Este video explica los conceptos básicos de langGraph, un conjunto de librerias de langChain para el desarrollo de aplicaciones mediante',\n",
              "   'score': 0.8364614,\n",
              "   'raw_content': None}],\n",
              " 'response_time': 2.26}"
            ]
          },
          "metadata": {},
          "execution_count": 18
        }
      ]
    }
  ]
}